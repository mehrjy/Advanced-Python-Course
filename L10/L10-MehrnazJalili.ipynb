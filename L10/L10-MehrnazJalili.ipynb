{
 "cells": [
  {
   "cell_type": "code",
   "execution_count": 1,
   "id": "f8f5ea8a",
   "metadata": {},
   "outputs": [],
   "source": [
    "import numpy as np\n",
    "import matplotlib.pyplot as plt\n",
    "import pandas as pd\n",
    "import seaborn as sns\n",
    "import statsmodels.api as sm\n",
    "import warnings\n",
    "warnings.filterwarnings(\"ignore\")"
   ]
  },
  {
   "cell_type": "markdown",
   "id": "49e5ba78",
   "metadata": {},
   "source": [
    "## Read Data From File"
   ]
  },
  {
   "cell_type": "code",
   "execution_count": 2,
   "id": "baf6133a",
   "metadata": {},
   "outputs": [],
   "source": [
    "data1 = pd.read_csv('CS_04.csv')"
   ]
  },
  {
   "cell_type": "code",
   "execution_count": 3,
   "id": "b8414de3",
   "metadata": {},
   "outputs": [
    {
     "data": {
      "text/html": [
       "<div>\n",
       "<style scoped>\n",
       "    .dataframe tbody tr th:only-of-type {\n",
       "        vertical-align: middle;\n",
       "    }\n",
       "\n",
       "    .dataframe tbody tr th {\n",
       "        vertical-align: top;\n",
       "    }\n",
       "\n",
       "    .dataframe thead th {\n",
       "        text-align: right;\n",
       "    }\n",
       "</style>\n",
       "<table border=\"1\" class=\"dataframe\">\n",
       "  <thead>\n",
       "    <tr style=\"text-align: right;\">\n",
       "      <th></th>\n",
       "      <th>Name</th>\n",
       "      <th>AtBat</th>\n",
       "      <th>Hits</th>\n",
       "      <th>HmRun</th>\n",
       "      <th>Runs</th>\n",
       "      <th>RBI</th>\n",
       "      <th>Walks</th>\n",
       "      <th>Years</th>\n",
       "      <th>CAtBat</th>\n",
       "      <th>CHits</th>\n",
       "      <th>...</th>\n",
       "      <th>CRuns</th>\n",
       "      <th>CRBI</th>\n",
       "      <th>CWalks</th>\n",
       "      <th>League</th>\n",
       "      <th>Division</th>\n",
       "      <th>PutOuts</th>\n",
       "      <th>Assists</th>\n",
       "      <th>Errors</th>\n",
       "      <th>Salary</th>\n",
       "      <th>NewLeague</th>\n",
       "    </tr>\n",
       "  </thead>\n",
       "  <tbody>\n",
       "    <tr>\n",
       "      <th>0</th>\n",
       "      <td>Andy Allanson</td>\n",
       "      <td>293</td>\n",
       "      <td>66</td>\n",
       "      <td>1</td>\n",
       "      <td>30</td>\n",
       "      <td>29</td>\n",
       "      <td>14</td>\n",
       "      <td>1</td>\n",
       "      <td>293</td>\n",
       "      <td>66</td>\n",
       "      <td>...</td>\n",
       "      <td>30</td>\n",
       "      <td>29</td>\n",
       "      <td>14</td>\n",
       "      <td>A</td>\n",
       "      <td>E</td>\n",
       "      <td>446</td>\n",
       "      <td>33</td>\n",
       "      <td>20</td>\n",
       "      <td>NaN</td>\n",
       "      <td>A</td>\n",
       "    </tr>\n",
       "    <tr>\n",
       "      <th>1</th>\n",
       "      <td>Alan Ashby</td>\n",
       "      <td>315</td>\n",
       "      <td>81</td>\n",
       "      <td>7</td>\n",
       "      <td>24</td>\n",
       "      <td>38</td>\n",
       "      <td>39</td>\n",
       "      <td>14</td>\n",
       "      <td>3449</td>\n",
       "      <td>835</td>\n",
       "      <td>...</td>\n",
       "      <td>321</td>\n",
       "      <td>414</td>\n",
       "      <td>375</td>\n",
       "      <td>N</td>\n",
       "      <td>W</td>\n",
       "      <td>632</td>\n",
       "      <td>43</td>\n",
       "      <td>10</td>\n",
       "      <td>475.0</td>\n",
       "      <td>N</td>\n",
       "    </tr>\n",
       "    <tr>\n",
       "      <th>2</th>\n",
       "      <td>Alvin Davis</td>\n",
       "      <td>479</td>\n",
       "      <td>130</td>\n",
       "      <td>18</td>\n",
       "      <td>66</td>\n",
       "      <td>72</td>\n",
       "      <td>76</td>\n",
       "      <td>3</td>\n",
       "      <td>1624</td>\n",
       "      <td>457</td>\n",
       "      <td>...</td>\n",
       "      <td>224</td>\n",
       "      <td>266</td>\n",
       "      <td>263</td>\n",
       "      <td>A</td>\n",
       "      <td>W</td>\n",
       "      <td>880</td>\n",
       "      <td>82</td>\n",
       "      <td>14</td>\n",
       "      <td>480.0</td>\n",
       "      <td>A</td>\n",
       "    </tr>\n",
       "    <tr>\n",
       "      <th>3</th>\n",
       "      <td>Andre Dawson</td>\n",
       "      <td>496</td>\n",
       "      <td>141</td>\n",
       "      <td>20</td>\n",
       "      <td>65</td>\n",
       "      <td>78</td>\n",
       "      <td>37</td>\n",
       "      <td>11</td>\n",
       "      <td>5628</td>\n",
       "      <td>1575</td>\n",
       "      <td>...</td>\n",
       "      <td>828</td>\n",
       "      <td>838</td>\n",
       "      <td>354</td>\n",
       "      <td>N</td>\n",
       "      <td>E</td>\n",
       "      <td>200</td>\n",
       "      <td>11</td>\n",
       "      <td>3</td>\n",
       "      <td>500.0</td>\n",
       "      <td>N</td>\n",
       "    </tr>\n",
       "    <tr>\n",
       "      <th>4</th>\n",
       "      <td>Andres Galarraga</td>\n",
       "      <td>321</td>\n",
       "      <td>87</td>\n",
       "      <td>10</td>\n",
       "      <td>39</td>\n",
       "      <td>42</td>\n",
       "      <td>30</td>\n",
       "      <td>2</td>\n",
       "      <td>396</td>\n",
       "      <td>101</td>\n",
       "      <td>...</td>\n",
       "      <td>48</td>\n",
       "      <td>46</td>\n",
       "      <td>33</td>\n",
       "      <td>N</td>\n",
       "      <td>E</td>\n",
       "      <td>805</td>\n",
       "      <td>40</td>\n",
       "      <td>4</td>\n",
       "      <td>91.5</td>\n",
       "      <td>N</td>\n",
       "    </tr>\n",
       "  </tbody>\n",
       "</table>\n",
       "<p>5 rows × 21 columns</p>\n",
       "</div>"
      ],
      "text/plain": [
       "               Name  AtBat  Hits  HmRun  Runs  RBI  Walks  Years  CAtBat  \\\n",
       "0     Andy Allanson    293    66      1    30   29     14      1     293   \n",
       "1        Alan Ashby    315    81      7    24   38     39     14    3449   \n",
       "2       Alvin Davis    479   130     18    66   72     76      3    1624   \n",
       "3      Andre Dawson    496   141     20    65   78     37     11    5628   \n",
       "4  Andres Galarraga    321    87     10    39   42     30      2     396   \n",
       "\n",
       "   CHits  ...  CRuns  CRBI  CWalks  League Division PutOuts  Assists  Errors  \\\n",
       "0     66  ...     30    29      14       A        E     446       33      20   \n",
       "1    835  ...    321   414     375       N        W     632       43      10   \n",
       "2    457  ...    224   266     263       A        W     880       82      14   \n",
       "3   1575  ...    828   838     354       N        E     200       11       3   \n",
       "4    101  ...     48    46      33       N        E     805       40       4   \n",
       "\n",
       "   Salary  NewLeague  \n",
       "0     NaN          A  \n",
       "1   475.0          N  \n",
       "2   480.0          A  \n",
       "3   500.0          N  \n",
       "4    91.5          N  \n",
       "\n",
       "[5 rows x 21 columns]"
      ]
     },
     "execution_count": 3,
     "metadata": {},
     "output_type": "execute_result"
    }
   ],
   "source": [
    "data1.head()"
   ]
  },
  {
   "cell_type": "code",
   "execution_count": 4,
   "id": "4a5f20bd",
   "metadata": {},
   "outputs": [
    {
     "data": {
      "text/plain": [
       "(322, 21)"
      ]
     },
     "execution_count": 4,
     "metadata": {},
     "output_type": "execute_result"
    }
   ],
   "source": [
    "data1.shape"
   ]
  },
  {
   "cell_type": "markdown",
   "id": "38de61fa",
   "metadata": {},
   "source": [
    "## Data Inspection"
   ]
  },
  {
   "cell_type": "code",
   "execution_count": 5,
   "id": "3450f52b",
   "metadata": {},
   "outputs": [
    {
     "name": "stdout",
     "output_type": "stream",
     "text": [
      "<class 'pandas.core.frame.DataFrame'>\n",
      "RangeIndex: 322 entries, 0 to 321\n",
      "Data columns (total 21 columns):\n",
      " #   Column     Non-Null Count  Dtype  \n",
      "---  ------     --------------  -----  \n",
      " 0   Name       322 non-null    object \n",
      " 1   AtBat      322 non-null    int64  \n",
      " 2   Hits       322 non-null    int64  \n",
      " 3   HmRun      322 non-null    int64  \n",
      " 4   Runs       322 non-null    int64  \n",
      " 5   RBI        322 non-null    int64  \n",
      " 6   Walks      322 non-null    int64  \n",
      " 7   Years      322 non-null    int64  \n",
      " 8   CAtBat     322 non-null    int64  \n",
      " 9   CHits      322 non-null    int64  \n",
      " 10  CHmRun     322 non-null    int64  \n",
      " 11  CRuns      322 non-null    int64  \n",
      " 12  CRBI       322 non-null    int64  \n",
      " 13  CWalks     322 non-null    int64  \n",
      " 14  League     322 non-null    object \n",
      " 15  Division   322 non-null    object \n",
      " 16  PutOuts    322 non-null    int64  \n",
      " 17  Assists    322 non-null    int64  \n",
      " 18  Errors     322 non-null    int64  \n",
      " 19  Salary     263 non-null    float64\n",
      " 20  NewLeague  322 non-null    object \n",
      "dtypes: float64(1), int64(16), object(4)\n",
      "memory usage: 53.0+ KB\n"
     ]
    }
   ],
   "source": [
    "data1.info()"
   ]
  },
  {
   "cell_type": "markdown",
   "id": "5f5b06c7",
   "metadata": {},
   "source": [
    "### Varibles:\n",
    "\n",
    "AtBat: Number of times at bat in 1986\n",
    "\n",
    "Hits:  Number of hits in 1986\n",
    "\n",
    "HmRun: Number of home runs in 1986\n",
    "\n",
    "Runs:  Number of runs in 1986\n",
    "\n",
    "RBI:   Number of runs batted in in 1986\n",
    "\n",
    "Walks: Number of walks in 1986\n",
    "\n",
    "Years: Number of years in the major leagues\n",
    "\n",
    "CAtBat: Number of times at bat during his career\n",
    "\n",
    "CHits:  Number of hits during his career\n",
    "\n",
    "CHmRun: Number of home runs during his career\n",
    "\n",
    "CRuns:  Number of runs during his career\n",
    "\n",
    "CRBI:   Number of runs batted in during his career\n",
    "\n",
    "CWalks: Number of walks during his career\n",
    "\n",
    "League: A factor with levels A and N indicating player's league at the end of 1986\n",
    "\n",
    "Division: A factor with levels E and W indicating player's division at the end of 1986\n",
    "\n",
    "PutOuts:  Number of put outs in 1986\n",
    "\n",
    "Assists:  Number of assists in 1986\n",
    "\n",
    "Errors:   Number of errors in 1986\n",
    "\n",
    "Salary:   1987 annual salary on opening day in thousands of dollars\n",
    "\n",
    "NewLeague: A factor with levels A and N indicating player's league at the beginning of 1987\n"
   ]
  },
  {
   "cell_type": "code",
   "execution_count": 6,
   "id": "86e1b0f8",
   "metadata": {},
   "outputs": [
    {
     "data": {
      "text/plain": [
       "Name          0\n",
       "AtBat         0\n",
       "Hits          0\n",
       "HmRun         0\n",
       "Runs          0\n",
       "RBI           0\n",
       "Walks         0\n",
       "Years         0\n",
       "CAtBat        0\n",
       "CHits         0\n",
       "CHmRun        0\n",
       "CRuns         0\n",
       "CRBI          0\n",
       "CWalks        0\n",
       "League        0\n",
       "Division      0\n",
       "PutOuts       0\n",
       "Assists       0\n",
       "Errors        0\n",
       "Salary       59\n",
       "NewLeague     0\n",
       "dtype: int64"
      ]
     },
     "execution_count": 6,
     "metadata": {},
     "output_type": "execute_result"
    }
   ],
   "source": [
    "data1.isna().sum()"
   ]
  },
  {
   "cell_type": "code",
   "execution_count": 7,
   "id": "d81c7331",
   "metadata": {},
   "outputs": [],
   "source": [
    "#Remove records with MVs\n",
    "data2 = data1.dropna(subset = ['Salary'], inplace = False, axis = 0)"
   ]
  },
  {
   "cell_type": "code",
   "execution_count": 8,
   "id": "8192c9cf",
   "metadata": {},
   "outputs": [],
   "source": [
    "#Remove players' name\n",
    "data2 = data2.iloc[:, 1:]"
   ]
  },
  {
   "cell_type": "code",
   "execution_count": 9,
   "id": "17ae8933",
   "metadata": {},
   "outputs": [
    {
     "data": {
      "text/html": [
       "<div>\n",
       "<style scoped>\n",
       "    .dataframe tbody tr th:only-of-type {\n",
       "        vertical-align: middle;\n",
       "    }\n",
       "\n",
       "    .dataframe tbody tr th {\n",
       "        vertical-align: top;\n",
       "    }\n",
       "\n",
       "    .dataframe thead th {\n",
       "        text-align: right;\n",
       "    }\n",
       "</style>\n",
       "<table border=\"1\" class=\"dataframe\">\n",
       "  <thead>\n",
       "    <tr style=\"text-align: right;\">\n",
       "      <th></th>\n",
       "      <th>AtBat</th>\n",
       "      <th>Hits</th>\n",
       "      <th>HmRun</th>\n",
       "      <th>Runs</th>\n",
       "      <th>RBI</th>\n",
       "      <th>Walks</th>\n",
       "      <th>Years</th>\n",
       "      <th>CAtBat</th>\n",
       "      <th>CHits</th>\n",
       "      <th>CHmRun</th>\n",
       "      <th>CRuns</th>\n",
       "      <th>CRBI</th>\n",
       "      <th>CWalks</th>\n",
       "      <th>League</th>\n",
       "      <th>Division</th>\n",
       "      <th>PutOuts</th>\n",
       "      <th>Assists</th>\n",
       "      <th>Errors</th>\n",
       "      <th>Salary</th>\n",
       "      <th>NewLeague</th>\n",
       "    </tr>\n",
       "  </thead>\n",
       "  <tbody>\n",
       "    <tr>\n",
       "      <th>1</th>\n",
       "      <td>315</td>\n",
       "      <td>81</td>\n",
       "      <td>7</td>\n",
       "      <td>24</td>\n",
       "      <td>38</td>\n",
       "      <td>39</td>\n",
       "      <td>14</td>\n",
       "      <td>3449</td>\n",
       "      <td>835</td>\n",
       "      <td>69</td>\n",
       "      <td>321</td>\n",
       "      <td>414</td>\n",
       "      <td>375</td>\n",
       "      <td>N</td>\n",
       "      <td>W</td>\n",
       "      <td>632</td>\n",
       "      <td>43</td>\n",
       "      <td>10</td>\n",
       "      <td>475.0</td>\n",
       "      <td>N</td>\n",
       "    </tr>\n",
       "    <tr>\n",
       "      <th>2</th>\n",
       "      <td>479</td>\n",
       "      <td>130</td>\n",
       "      <td>18</td>\n",
       "      <td>66</td>\n",
       "      <td>72</td>\n",
       "      <td>76</td>\n",
       "      <td>3</td>\n",
       "      <td>1624</td>\n",
       "      <td>457</td>\n",
       "      <td>63</td>\n",
       "      <td>224</td>\n",
       "      <td>266</td>\n",
       "      <td>263</td>\n",
       "      <td>A</td>\n",
       "      <td>W</td>\n",
       "      <td>880</td>\n",
       "      <td>82</td>\n",
       "      <td>14</td>\n",
       "      <td>480.0</td>\n",
       "      <td>A</td>\n",
       "    </tr>\n",
       "    <tr>\n",
       "      <th>3</th>\n",
       "      <td>496</td>\n",
       "      <td>141</td>\n",
       "      <td>20</td>\n",
       "      <td>65</td>\n",
       "      <td>78</td>\n",
       "      <td>37</td>\n",
       "      <td>11</td>\n",
       "      <td>5628</td>\n",
       "      <td>1575</td>\n",
       "      <td>225</td>\n",
       "      <td>828</td>\n",
       "      <td>838</td>\n",
       "      <td>354</td>\n",
       "      <td>N</td>\n",
       "      <td>E</td>\n",
       "      <td>200</td>\n",
       "      <td>11</td>\n",
       "      <td>3</td>\n",
       "      <td>500.0</td>\n",
       "      <td>N</td>\n",
       "    </tr>\n",
       "    <tr>\n",
       "      <th>4</th>\n",
       "      <td>321</td>\n",
       "      <td>87</td>\n",
       "      <td>10</td>\n",
       "      <td>39</td>\n",
       "      <td>42</td>\n",
       "      <td>30</td>\n",
       "      <td>2</td>\n",
       "      <td>396</td>\n",
       "      <td>101</td>\n",
       "      <td>12</td>\n",
       "      <td>48</td>\n",
       "      <td>46</td>\n",
       "      <td>33</td>\n",
       "      <td>N</td>\n",
       "      <td>E</td>\n",
       "      <td>805</td>\n",
       "      <td>40</td>\n",
       "      <td>4</td>\n",
       "      <td>91.5</td>\n",
       "      <td>N</td>\n",
       "    </tr>\n",
       "    <tr>\n",
       "      <th>5</th>\n",
       "      <td>594</td>\n",
       "      <td>169</td>\n",
       "      <td>4</td>\n",
       "      <td>74</td>\n",
       "      <td>51</td>\n",
       "      <td>35</td>\n",
       "      <td>11</td>\n",
       "      <td>4408</td>\n",
       "      <td>1133</td>\n",
       "      <td>19</td>\n",
       "      <td>501</td>\n",
       "      <td>336</td>\n",
       "      <td>194</td>\n",
       "      <td>A</td>\n",
       "      <td>W</td>\n",
       "      <td>282</td>\n",
       "      <td>421</td>\n",
       "      <td>25</td>\n",
       "      <td>750.0</td>\n",
       "      <td>A</td>\n",
       "    </tr>\n",
       "  </tbody>\n",
       "</table>\n",
       "</div>"
      ],
      "text/plain": [
       "   AtBat  Hits  HmRun  Runs  RBI  Walks  Years  CAtBat  CHits  CHmRun  CRuns  \\\n",
       "1    315    81      7    24   38     39     14    3449    835      69    321   \n",
       "2    479   130     18    66   72     76      3    1624    457      63    224   \n",
       "3    496   141     20    65   78     37     11    5628   1575     225    828   \n",
       "4    321    87     10    39   42     30      2     396    101      12     48   \n",
       "5    594   169      4    74   51     35     11    4408   1133      19    501   \n",
       "\n",
       "   CRBI  CWalks League Division  PutOuts  Assists  Errors  Salary NewLeague  \n",
       "1   414     375      N        W      632       43      10   475.0         N  \n",
       "2   266     263      A        W      880       82      14   480.0         A  \n",
       "3   838     354      N        E      200       11       3   500.0         N  \n",
       "4    46      33      N        E      805       40       4    91.5         N  \n",
       "5   336     194      A        W      282      421      25   750.0         A  "
      ]
     },
     "execution_count": 9,
     "metadata": {},
     "output_type": "execute_result"
    }
   ],
   "source": [
    "data2.head()"
   ]
  },
  {
   "cell_type": "code",
   "execution_count": 10,
   "id": "4d74f026",
   "metadata": {},
   "outputs": [
    {
     "data": {
      "text/plain": [
       "(263, 20)"
      ]
     },
     "execution_count": 10,
     "metadata": {},
     "output_type": "execute_result"
    }
   ],
   "source": [
    "data2.shape"
   ]
  },
  {
   "cell_type": "code",
   "execution_count": 11,
   "id": "3d7a0a8c",
   "metadata": {},
   "outputs": [
    {
     "data": {
      "text/plain": [
       "AtBat        0\n",
       "Hits         0\n",
       "HmRun        0\n",
       "Runs         0\n",
       "RBI          0\n",
       "Walks        0\n",
       "Years        0\n",
       "CAtBat       0\n",
       "CHits        0\n",
       "CHmRun       0\n",
       "CRuns        0\n",
       "CRBI         0\n",
       "CWalks       0\n",
       "League       0\n",
       "Division     0\n",
       "PutOuts      0\n",
       "Assists      0\n",
       "Errors       0\n",
       "Salary       0\n",
       "NewLeague    0\n",
       "dtype: int64"
      ]
     },
     "execution_count": 11,
     "metadata": {},
     "output_type": "execute_result"
    }
   ],
   "source": [
    "data2.isna().sum()"
   ]
  },
  {
   "cell_type": "code",
   "execution_count": 12,
   "id": "6249028b",
   "metadata": {},
   "outputs": [
    {
     "data": {
      "text/html": [
       "<div>\n",
       "<style scoped>\n",
       "    .dataframe tbody tr th:only-of-type {\n",
       "        vertical-align: middle;\n",
       "    }\n",
       "\n",
       "    .dataframe tbody tr th {\n",
       "        vertical-align: top;\n",
       "    }\n",
       "\n",
       "    .dataframe thead th {\n",
       "        text-align: right;\n",
       "    }\n",
       "</style>\n",
       "<table border=\"1\" class=\"dataframe\">\n",
       "  <thead>\n",
       "    <tr style=\"text-align: right;\">\n",
       "      <th></th>\n",
       "      <th>AtBat</th>\n",
       "      <th>Hits</th>\n",
       "      <th>HmRun</th>\n",
       "      <th>Runs</th>\n",
       "      <th>RBI</th>\n",
       "      <th>Walks</th>\n",
       "      <th>Years</th>\n",
       "      <th>CAtBat</th>\n",
       "      <th>CHits</th>\n",
       "      <th>CHmRun</th>\n",
       "      <th>CRuns</th>\n",
       "      <th>CRBI</th>\n",
       "      <th>CWalks</th>\n",
       "      <th>PutOuts</th>\n",
       "      <th>Assists</th>\n",
       "      <th>Errors</th>\n",
       "      <th>Salary</th>\n",
       "    </tr>\n",
       "  </thead>\n",
       "  <tbody>\n",
       "    <tr>\n",
       "      <th>count</th>\n",
       "      <td>263.000000</td>\n",
       "      <td>263.000000</td>\n",
       "      <td>263.000000</td>\n",
       "      <td>263.000000</td>\n",
       "      <td>263.000000</td>\n",
       "      <td>263.000000</td>\n",
       "      <td>263.000000</td>\n",
       "      <td>263.000000</td>\n",
       "      <td>263.000000</td>\n",
       "      <td>263.000000</td>\n",
       "      <td>263.000000</td>\n",
       "      <td>263.000000</td>\n",
       "      <td>263.000000</td>\n",
       "      <td>263.000000</td>\n",
       "      <td>263.000000</td>\n",
       "      <td>263.000000</td>\n",
       "      <td>263.000000</td>\n",
       "    </tr>\n",
       "    <tr>\n",
       "      <th>mean</th>\n",
       "      <td>403.642586</td>\n",
       "      <td>107.828897</td>\n",
       "      <td>11.619772</td>\n",
       "      <td>54.745247</td>\n",
       "      <td>51.486692</td>\n",
       "      <td>41.114068</td>\n",
       "      <td>7.311787</td>\n",
       "      <td>2657.543726</td>\n",
       "      <td>722.186312</td>\n",
       "      <td>69.239544</td>\n",
       "      <td>361.220532</td>\n",
       "      <td>330.418251</td>\n",
       "      <td>260.266160</td>\n",
       "      <td>290.711027</td>\n",
       "      <td>118.760456</td>\n",
       "      <td>8.593156</td>\n",
       "      <td>535.925882</td>\n",
       "    </tr>\n",
       "    <tr>\n",
       "      <th>std</th>\n",
       "      <td>147.307209</td>\n",
       "      <td>45.125326</td>\n",
       "      <td>8.757108</td>\n",
       "      <td>25.539816</td>\n",
       "      <td>25.882714</td>\n",
       "      <td>21.718056</td>\n",
       "      <td>4.793616</td>\n",
       "      <td>2286.582929</td>\n",
       "      <td>648.199644</td>\n",
       "      <td>82.197581</td>\n",
       "      <td>331.198571</td>\n",
       "      <td>323.367668</td>\n",
       "      <td>264.055868</td>\n",
       "      <td>279.934575</td>\n",
       "      <td>145.080577</td>\n",
       "      <td>6.606574</td>\n",
       "      <td>451.118681</td>\n",
       "    </tr>\n",
       "    <tr>\n",
       "      <th>min</th>\n",
       "      <td>19.000000</td>\n",
       "      <td>1.000000</td>\n",
       "      <td>0.000000</td>\n",
       "      <td>0.000000</td>\n",
       "      <td>0.000000</td>\n",
       "      <td>0.000000</td>\n",
       "      <td>1.000000</td>\n",
       "      <td>19.000000</td>\n",
       "      <td>4.000000</td>\n",
       "      <td>0.000000</td>\n",
       "      <td>2.000000</td>\n",
       "      <td>3.000000</td>\n",
       "      <td>1.000000</td>\n",
       "      <td>0.000000</td>\n",
       "      <td>0.000000</td>\n",
       "      <td>0.000000</td>\n",
       "      <td>67.500000</td>\n",
       "    </tr>\n",
       "    <tr>\n",
       "      <th>25%</th>\n",
       "      <td>282.500000</td>\n",
       "      <td>71.500000</td>\n",
       "      <td>5.000000</td>\n",
       "      <td>33.500000</td>\n",
       "      <td>30.000000</td>\n",
       "      <td>23.000000</td>\n",
       "      <td>4.000000</td>\n",
       "      <td>842.500000</td>\n",
       "      <td>212.000000</td>\n",
       "      <td>15.000000</td>\n",
       "      <td>105.500000</td>\n",
       "      <td>95.000000</td>\n",
       "      <td>71.000000</td>\n",
       "      <td>113.500000</td>\n",
       "      <td>8.000000</td>\n",
       "      <td>3.000000</td>\n",
       "      <td>190.000000</td>\n",
       "    </tr>\n",
       "    <tr>\n",
       "      <th>50%</th>\n",
       "      <td>413.000000</td>\n",
       "      <td>103.000000</td>\n",
       "      <td>9.000000</td>\n",
       "      <td>52.000000</td>\n",
       "      <td>47.000000</td>\n",
       "      <td>37.000000</td>\n",
       "      <td>6.000000</td>\n",
       "      <td>1931.000000</td>\n",
       "      <td>516.000000</td>\n",
       "      <td>40.000000</td>\n",
       "      <td>250.000000</td>\n",
       "      <td>230.000000</td>\n",
       "      <td>174.000000</td>\n",
       "      <td>224.000000</td>\n",
       "      <td>45.000000</td>\n",
       "      <td>7.000000</td>\n",
       "      <td>425.000000</td>\n",
       "    </tr>\n",
       "    <tr>\n",
       "      <th>75%</th>\n",
       "      <td>526.000000</td>\n",
       "      <td>141.500000</td>\n",
       "      <td>18.000000</td>\n",
       "      <td>73.000000</td>\n",
       "      <td>71.000000</td>\n",
       "      <td>57.000000</td>\n",
       "      <td>10.000000</td>\n",
       "      <td>3890.500000</td>\n",
       "      <td>1054.000000</td>\n",
       "      <td>92.500000</td>\n",
       "      <td>497.500000</td>\n",
       "      <td>424.500000</td>\n",
       "      <td>328.500000</td>\n",
       "      <td>322.500000</td>\n",
       "      <td>192.000000</td>\n",
       "      <td>13.000000</td>\n",
       "      <td>750.000000</td>\n",
       "    </tr>\n",
       "    <tr>\n",
       "      <th>max</th>\n",
       "      <td>687.000000</td>\n",
       "      <td>238.000000</td>\n",
       "      <td>40.000000</td>\n",
       "      <td>130.000000</td>\n",
       "      <td>121.000000</td>\n",
       "      <td>105.000000</td>\n",
       "      <td>24.000000</td>\n",
       "      <td>14053.000000</td>\n",
       "      <td>4256.000000</td>\n",
       "      <td>548.000000</td>\n",
       "      <td>2165.000000</td>\n",
       "      <td>1659.000000</td>\n",
       "      <td>1566.000000</td>\n",
       "      <td>1377.000000</td>\n",
       "      <td>492.000000</td>\n",
       "      <td>32.000000</td>\n",
       "      <td>2460.000000</td>\n",
       "    </tr>\n",
       "  </tbody>\n",
       "</table>\n",
       "</div>"
      ],
      "text/plain": [
       "            AtBat        Hits       HmRun        Runs         RBI       Walks  \\\n",
       "count  263.000000  263.000000  263.000000  263.000000  263.000000  263.000000   \n",
       "mean   403.642586  107.828897   11.619772   54.745247   51.486692   41.114068   \n",
       "std    147.307209   45.125326    8.757108   25.539816   25.882714   21.718056   \n",
       "min     19.000000    1.000000    0.000000    0.000000    0.000000    0.000000   \n",
       "25%    282.500000   71.500000    5.000000   33.500000   30.000000   23.000000   \n",
       "50%    413.000000  103.000000    9.000000   52.000000   47.000000   37.000000   \n",
       "75%    526.000000  141.500000   18.000000   73.000000   71.000000   57.000000   \n",
       "max    687.000000  238.000000   40.000000  130.000000  121.000000  105.000000   \n",
       "\n",
       "            Years        CAtBat        CHits      CHmRun        CRuns  \\\n",
       "count  263.000000    263.000000   263.000000  263.000000   263.000000   \n",
       "mean     7.311787   2657.543726   722.186312   69.239544   361.220532   \n",
       "std      4.793616   2286.582929   648.199644   82.197581   331.198571   \n",
       "min      1.000000     19.000000     4.000000    0.000000     2.000000   \n",
       "25%      4.000000    842.500000   212.000000   15.000000   105.500000   \n",
       "50%      6.000000   1931.000000   516.000000   40.000000   250.000000   \n",
       "75%     10.000000   3890.500000  1054.000000   92.500000   497.500000   \n",
       "max     24.000000  14053.000000  4256.000000  548.000000  2165.000000   \n",
       "\n",
       "              CRBI       CWalks      PutOuts     Assists      Errors  \\\n",
       "count   263.000000   263.000000   263.000000  263.000000  263.000000   \n",
       "mean    330.418251   260.266160   290.711027  118.760456    8.593156   \n",
       "std     323.367668   264.055868   279.934575  145.080577    6.606574   \n",
       "min       3.000000     1.000000     0.000000    0.000000    0.000000   \n",
       "25%      95.000000    71.000000   113.500000    8.000000    3.000000   \n",
       "50%     230.000000   174.000000   224.000000   45.000000    7.000000   \n",
       "75%     424.500000   328.500000   322.500000  192.000000   13.000000   \n",
       "max    1659.000000  1566.000000  1377.000000  492.000000   32.000000   \n",
       "\n",
       "            Salary  \n",
       "count   263.000000  \n",
       "mean    535.925882  \n",
       "std     451.118681  \n",
       "min      67.500000  \n",
       "25%     190.000000  \n",
       "50%     425.000000  \n",
       "75%     750.000000  \n",
       "max    2460.000000  "
      ]
     },
     "execution_count": 12,
     "metadata": {},
     "output_type": "execute_result"
    }
   ],
   "source": [
    "data2.describe()"
   ]
  },
  {
   "cell_type": "code",
   "execution_count": 13,
   "id": "585c9dd3",
   "metadata": {},
   "outputs": [
    {
     "name": "stdout",
     "output_type": "stream",
     "text": [
      "<class 'pandas.core.frame.DataFrame'>\n",
      "Int64Index: 263 entries, 1 to 321\n",
      "Data columns (total 20 columns):\n",
      " #   Column     Non-Null Count  Dtype  \n",
      "---  ------     --------------  -----  \n",
      " 0   AtBat      263 non-null    int64  \n",
      " 1   Hits       263 non-null    int64  \n",
      " 2   HmRun      263 non-null    int64  \n",
      " 3   Runs       263 non-null    int64  \n",
      " 4   RBI        263 non-null    int64  \n",
      " 5   Walks      263 non-null    int64  \n",
      " 6   Years      263 non-null    int64  \n",
      " 7   CAtBat     263 non-null    int64  \n",
      " 8   CHits      263 non-null    int64  \n",
      " 9   CHmRun     263 non-null    int64  \n",
      " 10  CRuns      263 non-null    int64  \n",
      " 11  CRBI       263 non-null    int64  \n",
      " 12  CWalks     263 non-null    int64  \n",
      " 13  League     263 non-null    object \n",
      " 14  Division   263 non-null    object \n",
      " 15  PutOuts    263 non-null    int64  \n",
      " 16  Assists    263 non-null    int64  \n",
      " 17  Errors     263 non-null    int64  \n",
      " 18  Salary     263 non-null    float64\n",
      " 19  NewLeague  263 non-null    object \n",
      "dtypes: float64(1), int64(16), object(3)\n",
      "memory usage: 43.1+ KB\n"
     ]
    }
   ],
   "source": [
    "data2.info()"
   ]
  },
  {
   "cell_type": "code",
   "execution_count": 14,
   "id": "0eb91225",
   "metadata": {},
   "outputs": [
    {
     "data": {
      "image/png": "[encoded data removed]",
      "text/plain": [
       "<Figure size 864x432 with 17 Axes>"
      ]
     },
     "metadata": {
      "needs_background": "light"
     },
     "output_type": "display_data"
    }
   ],
   "source": [
    "#Continuous variables distribution\n",
    "var_ind = list(range(13)) + list(range(15, 19))\n",
    "plot = plt.figure(figsize = (12, 6))\n",
    "plot.subplots_adjust(hspace = 0.5, wspace = 0.5)\n",
    "for i in range(1, 18):\n",
    "    a = plot.add_subplot(3, 6, i)\n",
    "    a.hist(data2.iloc[: , var_ind[i - 1]], alpha = 0.7)\n",
    "    a.title.set_text(data2.columns[var_ind[i - 1]])"
   ]
  },
  {
   "cell_type": "code",
   "execution_count": 15,
   "id": "0d386e22",
   "metadata": {},
   "outputs": [
    {
     "data": {
      "text/plain": [
       "Text(0.5, 1.0, 'Boxplot of Salary')"
      ]
     },
     "execution_count": 15,
     "metadata": {},
     "output_type": "execute_result"
    },
    {
     "data": {
      "image/png": "[encoded data removed]",
      "text/plain": [
       "<Figure size 432x288 with 1 Axes>"
      ]
     },
     "metadata": {
      "needs_background": "light"
     },
     "output_type": "display_data"
    }
   ],
   "source": [
    "#Box plot of price\n",
    "plt.boxplot(data2['Salary'], showmeans = True)\n",
    "plt.title('Boxplot of Salary')"
   ]
  },
  {
   "cell_type": "code",
   "execution_count": 16,
   "id": "abbe45ca",
   "metadata": {},
   "outputs": [
    {
     "data": {
      "text/html": [
       "<div>\n",
       "<style scoped>\n",
       "    .dataframe tbody tr th:only-of-type {\n",
       "        vertical-align: middle;\n",
       "    }\n",
       "\n",
       "    .dataframe tbody tr th {\n",
       "        vertical-align: top;\n",
       "    }\n",
       "\n",
       "    .dataframe thead th {\n",
       "        text-align: right;\n",
       "    }\n",
       "</style>\n",
       "<table border=\"1\" class=\"dataframe\">\n",
       "  <thead>\n",
       "    <tr style=\"text-align: right;\">\n",
       "      <th></th>\n",
       "      <th>AtBat</th>\n",
       "      <th>Hits</th>\n",
       "      <th>HmRun</th>\n",
       "      <th>Runs</th>\n",
       "      <th>RBI</th>\n",
       "      <th>Walks</th>\n",
       "      <th>Years</th>\n",
       "      <th>CAtBat</th>\n",
       "      <th>CHits</th>\n",
       "      <th>CHmRun</th>\n",
       "      <th>CRuns</th>\n",
       "      <th>CRBI</th>\n",
       "      <th>CWalks</th>\n",
       "      <th>PutOuts</th>\n",
       "      <th>Assists</th>\n",
       "      <th>Errors</th>\n",
       "      <th>Salary</th>\n",
       "    </tr>\n",
       "  </thead>\n",
       "  <tbody>\n",
       "    <tr>\n",
       "      <th>AtBat</th>\n",
       "      <td>1.00</td>\n",
       "      <td>0.96</td>\n",
       "      <td>0.56</td>\n",
       "      <td>0.90</td>\n",
       "      <td>0.80</td>\n",
       "      <td>0.62</td>\n",
       "      <td>0.01</td>\n",
       "      <td>0.21</td>\n",
       "      <td>0.23</td>\n",
       "      <td>0.21</td>\n",
       "      <td>0.24</td>\n",
       "      <td>0.22</td>\n",
       "      <td>0.13</td>\n",
       "      <td>0.31</td>\n",
       "      <td>0.34</td>\n",
       "      <td>0.33</td>\n",
       "      <td>0.39</td>\n",
       "    </tr>\n",
       "    <tr>\n",
       "      <th>Hits</th>\n",
       "      <td>0.96</td>\n",
       "      <td>1.00</td>\n",
       "      <td>0.53</td>\n",
       "      <td>0.91</td>\n",
       "      <td>0.79</td>\n",
       "      <td>0.59</td>\n",
       "      <td>0.02</td>\n",
       "      <td>0.21</td>\n",
       "      <td>0.24</td>\n",
       "      <td>0.19</td>\n",
       "      <td>0.24</td>\n",
       "      <td>0.22</td>\n",
       "      <td>0.12</td>\n",
       "      <td>0.30</td>\n",
       "      <td>0.30</td>\n",
       "      <td>0.28</td>\n",
       "      <td>0.44</td>\n",
       "    </tr>\n",
       "    <tr>\n",
       "      <th>HmRun</th>\n",
       "      <td>0.56</td>\n",
       "      <td>0.53</td>\n",
       "      <td>1.00</td>\n",
       "      <td>0.63</td>\n",
       "      <td>0.85</td>\n",
       "      <td>0.44</td>\n",
       "      <td>0.11</td>\n",
       "      <td>0.22</td>\n",
       "      <td>0.22</td>\n",
       "      <td>0.49</td>\n",
       "      <td>0.26</td>\n",
       "      <td>0.35</td>\n",
       "      <td>0.23</td>\n",
       "      <td>0.25</td>\n",
       "      <td>-0.16</td>\n",
       "      <td>-0.01</td>\n",
       "      <td>0.34</td>\n",
       "    </tr>\n",
       "    <tr>\n",
       "      <th>Runs</th>\n",
       "      <td>0.90</td>\n",
       "      <td>0.91</td>\n",
       "      <td>0.63</td>\n",
       "      <td>1.00</td>\n",
       "      <td>0.78</td>\n",
       "      <td>0.70</td>\n",
       "      <td>-0.01</td>\n",
       "      <td>0.17</td>\n",
       "      <td>0.19</td>\n",
       "      <td>0.23</td>\n",
       "      <td>0.24</td>\n",
       "      <td>0.20</td>\n",
       "      <td>0.16</td>\n",
       "      <td>0.27</td>\n",
       "      <td>0.18</td>\n",
       "      <td>0.19</td>\n",
       "      <td>0.42</td>\n",
       "    </tr>\n",
       "    <tr>\n",
       "      <th>RBI</th>\n",
       "      <td>0.80</td>\n",
       "      <td>0.79</td>\n",
       "      <td>0.85</td>\n",
       "      <td>0.78</td>\n",
       "      <td>1.00</td>\n",
       "      <td>0.57</td>\n",
       "      <td>0.13</td>\n",
       "      <td>0.28</td>\n",
       "      <td>0.29</td>\n",
       "      <td>0.44</td>\n",
       "      <td>0.31</td>\n",
       "      <td>0.39</td>\n",
       "      <td>0.23</td>\n",
       "      <td>0.31</td>\n",
       "      <td>0.06</td>\n",
       "      <td>0.15</td>\n",
       "      <td>0.45</td>\n",
       "    </tr>\n",
       "    <tr>\n",
       "      <th>Walks</th>\n",
       "      <td>0.62</td>\n",
       "      <td>0.59</td>\n",
       "      <td>0.44</td>\n",
       "      <td>0.70</td>\n",
       "      <td>0.57</td>\n",
       "      <td>1.00</td>\n",
       "      <td>0.13</td>\n",
       "      <td>0.27</td>\n",
       "      <td>0.27</td>\n",
       "      <td>0.35</td>\n",
       "      <td>0.33</td>\n",
       "      <td>0.31</td>\n",
       "      <td>0.43</td>\n",
       "      <td>0.28</td>\n",
       "      <td>0.10</td>\n",
       "      <td>0.08</td>\n",
       "      <td>0.44</td>\n",
       "    </tr>\n",
       "    <tr>\n",
       "      <th>Years</th>\n",
       "      <td>0.01</td>\n",
       "      <td>0.02</td>\n",
       "      <td>0.11</td>\n",
       "      <td>-0.01</td>\n",
       "      <td>0.13</td>\n",
       "      <td>0.13</td>\n",
       "      <td>1.00</td>\n",
       "      <td>0.92</td>\n",
       "      <td>0.90</td>\n",
       "      <td>0.72</td>\n",
       "      <td>0.88</td>\n",
       "      <td>0.86</td>\n",
       "      <td>0.84</td>\n",
       "      <td>-0.02</td>\n",
       "      <td>-0.09</td>\n",
       "      <td>-0.16</td>\n",
       "      <td>0.40</td>\n",
       "    </tr>\n",
       "    <tr>\n",
       "      <th>CAtBat</th>\n",
       "      <td>0.21</td>\n",
       "      <td>0.21</td>\n",
       "      <td>0.22</td>\n",
       "      <td>0.17</td>\n",
       "      <td>0.28</td>\n",
       "      <td>0.27</td>\n",
       "      <td>0.92</td>\n",
       "      <td>1.00</td>\n",
       "      <td>1.00</td>\n",
       "      <td>0.80</td>\n",
       "      <td>0.98</td>\n",
       "      <td>0.95</td>\n",
       "      <td>0.91</td>\n",
       "      <td>0.05</td>\n",
       "      <td>-0.01</td>\n",
       "      <td>-0.07</td>\n",
       "      <td>0.53</td>\n",
       "    </tr>\n",
       "    <tr>\n",
       "      <th>CHits</th>\n",
       "      <td>0.23</td>\n",
       "      <td>0.24</td>\n",
       "      <td>0.22</td>\n",
       "      <td>0.19</td>\n",
       "      <td>0.29</td>\n",
       "      <td>0.27</td>\n",
       "      <td>0.90</td>\n",
       "      <td>1.00</td>\n",
       "      <td>1.00</td>\n",
       "      <td>0.79</td>\n",
       "      <td>0.98</td>\n",
       "      <td>0.95</td>\n",
       "      <td>0.89</td>\n",
       "      <td>0.07</td>\n",
       "      <td>-0.01</td>\n",
       "      <td>-0.07</td>\n",
       "      <td>0.55</td>\n",
       "    </tr>\n",
       "    <tr>\n",
       "      <th>CHmRun</th>\n",
       "      <td>0.21</td>\n",
       "      <td>0.19</td>\n",
       "      <td>0.49</td>\n",
       "      <td>0.23</td>\n",
       "      <td>0.44</td>\n",
       "      <td>0.35</td>\n",
       "      <td>0.72</td>\n",
       "      <td>0.80</td>\n",
       "      <td>0.79</td>\n",
       "      <td>1.00</td>\n",
       "      <td>0.83</td>\n",
       "      <td>0.93</td>\n",
       "      <td>0.81</td>\n",
       "      <td>0.09</td>\n",
       "      <td>-0.19</td>\n",
       "      <td>-0.17</td>\n",
       "      <td>0.52</td>\n",
       "    </tr>\n",
       "    <tr>\n",
       "      <th>CRuns</th>\n",
       "      <td>0.24</td>\n",
       "      <td>0.24</td>\n",
       "      <td>0.26</td>\n",
       "      <td>0.24</td>\n",
       "      <td>0.31</td>\n",
       "      <td>0.33</td>\n",
       "      <td>0.88</td>\n",
       "      <td>0.98</td>\n",
       "      <td>0.98</td>\n",
       "      <td>0.83</td>\n",
       "      <td>1.00</td>\n",
       "      <td>0.95</td>\n",
       "      <td>0.93</td>\n",
       "      <td>0.06</td>\n",
       "      <td>-0.04</td>\n",
       "      <td>-0.09</td>\n",
       "      <td>0.56</td>\n",
       "    </tr>\n",
       "    <tr>\n",
       "      <th>CRBI</th>\n",
       "      <td>0.22</td>\n",
       "      <td>0.22</td>\n",
       "      <td>0.35</td>\n",
       "      <td>0.20</td>\n",
       "      <td>0.39</td>\n",
       "      <td>0.31</td>\n",
       "      <td>0.86</td>\n",
       "      <td>0.95</td>\n",
       "      <td>0.95</td>\n",
       "      <td>0.93</td>\n",
       "      <td>0.95</td>\n",
       "      <td>1.00</td>\n",
       "      <td>0.89</td>\n",
       "      <td>0.10</td>\n",
       "      <td>-0.10</td>\n",
       "      <td>-0.12</td>\n",
       "      <td>0.57</td>\n",
       "    </tr>\n",
       "    <tr>\n",
       "      <th>CWalks</th>\n",
       "      <td>0.13</td>\n",
       "      <td>0.12</td>\n",
       "      <td>0.23</td>\n",
       "      <td>0.16</td>\n",
       "      <td>0.23</td>\n",
       "      <td>0.43</td>\n",
       "      <td>0.84</td>\n",
       "      <td>0.91</td>\n",
       "      <td>0.89</td>\n",
       "      <td>0.81</td>\n",
       "      <td>0.93</td>\n",
       "      <td>0.89</td>\n",
       "      <td>1.00</td>\n",
       "      <td>0.06</td>\n",
       "      <td>-0.07</td>\n",
       "      <td>-0.13</td>\n",
       "      <td>0.49</td>\n",
       "    </tr>\n",
       "    <tr>\n",
       "      <th>PutOuts</th>\n",
       "      <td>0.31</td>\n",
       "      <td>0.30</td>\n",
       "      <td>0.25</td>\n",
       "      <td>0.27</td>\n",
       "      <td>0.31</td>\n",
       "      <td>0.28</td>\n",
       "      <td>-0.02</td>\n",
       "      <td>0.05</td>\n",
       "      <td>0.07</td>\n",
       "      <td>0.09</td>\n",
       "      <td>0.06</td>\n",
       "      <td>0.10</td>\n",
       "      <td>0.06</td>\n",
       "      <td>1.00</td>\n",
       "      <td>-0.04</td>\n",
       "      <td>0.08</td>\n",
       "      <td>0.30</td>\n",
       "    </tr>\n",
       "    <tr>\n",
       "      <th>Assists</th>\n",
       "      <td>0.34</td>\n",
       "      <td>0.30</td>\n",
       "      <td>-0.16</td>\n",
       "      <td>0.18</td>\n",
       "      <td>0.06</td>\n",
       "      <td>0.10</td>\n",
       "      <td>-0.09</td>\n",
       "      <td>-0.01</td>\n",
       "      <td>-0.01</td>\n",
       "      <td>-0.19</td>\n",
       "      <td>-0.04</td>\n",
       "      <td>-0.10</td>\n",
       "      <td>-0.07</td>\n",
       "      <td>-0.04</td>\n",
       "      <td>1.00</td>\n",
       "      <td>0.70</td>\n",
       "      <td>0.03</td>\n",
       "    </tr>\n",
       "    <tr>\n",
       "      <th>Errors</th>\n",
       "      <td>0.33</td>\n",
       "      <td>0.28</td>\n",
       "      <td>-0.01</td>\n",
       "      <td>0.19</td>\n",
       "      <td>0.15</td>\n",
       "      <td>0.08</td>\n",
       "      <td>-0.16</td>\n",
       "      <td>-0.07</td>\n",
       "      <td>-0.07</td>\n",
       "      <td>-0.17</td>\n",
       "      <td>-0.09</td>\n",
       "      <td>-0.12</td>\n",
       "      <td>-0.13</td>\n",
       "      <td>0.08</td>\n",
       "      <td>0.70</td>\n",
       "      <td>1.00</td>\n",
       "      <td>-0.01</td>\n",
       "    </tr>\n",
       "    <tr>\n",
       "      <th>Salary</th>\n",
       "      <td>0.39</td>\n",
       "      <td>0.44</td>\n",
       "      <td>0.34</td>\n",
       "      <td>0.42</td>\n",
       "      <td>0.45</td>\n",
       "      <td>0.44</td>\n",
       "      <td>0.40</td>\n",
       "      <td>0.53</td>\n",
       "      <td>0.55</td>\n",
       "      <td>0.52</td>\n",
       "      <td>0.56</td>\n",
       "      <td>0.57</td>\n",
       "      <td>0.49</td>\n",
       "      <td>0.30</td>\n",
       "      <td>0.03</td>\n",
       "      <td>-0.01</td>\n",
       "      <td>1.00</td>\n",
       "    </tr>\n",
       "  </tbody>\n",
       "</table>\n",
       "</div>"
      ],
      "text/plain": [
       "         AtBat  Hits  HmRun  Runs   RBI  Walks  Years  CAtBat  CHits  CHmRun  \\\n",
       "AtBat     1.00  0.96   0.56  0.90  0.80   0.62   0.01    0.21   0.23    0.21   \n",
       "Hits      0.96  1.00   0.53  0.91  0.79   0.59   0.02    0.21   0.24    0.19   \n",
       "HmRun     0.56  0.53   1.00  0.63  0.85   0.44   0.11    0.22   0.22    0.49   \n",
       "Runs      0.90  0.91   0.63  1.00  0.78   0.70  -0.01    0.17   0.19    0.23   \n",
       "RBI       0.80  0.79   0.85  0.78  1.00   0.57   0.13    0.28   0.29    0.44   \n",
       "Walks     0.62  0.59   0.44  0.70  0.57   1.00   0.13    0.27   0.27    0.35   \n",
       "Years     0.01  0.02   0.11 -0.01  0.13   0.13   1.00    0.92   0.90    0.72   \n",
       "CAtBat    0.21  0.21   0.22  0.17  0.28   0.27   0.92    1.00   1.00    0.80   \n",
       "CHits     0.23  0.24   0.22  0.19  0.29   0.27   0.90    1.00   1.00    0.79   \n",
       "CHmRun    0.21  0.19   0.49  0.23  0.44   0.35   0.72    0.80   0.79    1.00   \n",
       "CRuns     0.24  0.24   0.26  0.24  0.31   0.33   0.88    0.98   0.98    0.83   \n",
       "CRBI      0.22  0.22   0.35  0.20  0.39   0.31   0.86    0.95   0.95    0.93   \n",
       "CWalks    0.13  0.12   0.23  0.16  0.23   0.43   0.84    0.91   0.89    0.81   \n",
       "PutOuts   0.31  0.30   0.25  0.27  0.31   0.28  -0.02    0.05   0.07    0.09   \n",
       "Assists   0.34  0.30  -0.16  0.18  0.06   0.10  -0.09   -0.01  -0.01   -0.19   \n",
       "Errors    0.33  0.28  -0.01  0.19  0.15   0.08  -0.16   -0.07  -0.07   -0.17   \n",
       "Salary    0.39  0.44   0.34  0.42  0.45   0.44   0.40    0.53   0.55    0.52   \n",
       "\n",
       "         CRuns  CRBI  CWalks  PutOuts  Assists  Errors  Salary  \n",
       "AtBat     0.24  0.22    0.13     0.31     0.34    0.33    0.39  \n",
       "Hits      0.24  0.22    0.12     0.30     0.30    0.28    0.44  \n",
       "HmRun     0.26  0.35    0.23     0.25    -0.16   -0.01    0.34  \n",
       "Runs      0.24  0.20    0.16     0.27     0.18    0.19    0.42  \n",
       "RBI       0.31  0.39    0.23     0.31     0.06    0.15    0.45  \n",
       "Walks     0.33  0.31    0.43     0.28     0.10    0.08    0.44  \n",
       "Years     0.88  0.86    0.84    -0.02    -0.09   -0.16    0.40  \n",
       "CAtBat    0.98  0.95    0.91     0.05    -0.01   -0.07    0.53  \n",
       "CHits     0.98  0.95    0.89     0.07    -0.01   -0.07    0.55  \n",
       "CHmRun    0.83  0.93    0.81     0.09    -0.19   -0.17    0.52  \n",
       "CRuns     1.00  0.95    0.93     0.06    -0.04   -0.09    0.56  \n",
       "CRBI      0.95  1.00    0.89     0.10    -0.10   -0.12    0.57  \n",
       "CWalks    0.93  0.89    1.00     0.06    -0.07   -0.13    0.49  \n",
       "PutOuts   0.06  0.10    0.06     1.00    -0.04    0.08    0.30  \n",
       "Assists  -0.04 -0.10   -0.07    -0.04     1.00    0.70    0.03  \n",
       "Errors   -0.09 -0.12   -0.13     0.08     0.70    1.00   -0.01  \n",
       "Salary    0.56  0.57    0.49     0.30     0.03   -0.01    1.00  "
      ]
     },
     "execution_count": 16,
     "metadata": {},
     "output_type": "execute_result"
    }
   ],
   "source": [
    "#Correlation Analysis\n",
    "corr_table = round(data2.iloc[:, var_ind].corr(method = 'pearson'), 2)\n",
    "corr_table"
   ]
  },
  {
   "cell_type": "code",
   "execution_count": 17,
   "id": "3376cabf",
   "metadata": {},
   "outputs": [
    {
     "data": {
      "text/plain": [
       "<AxesSubplot:>"
      ]
     },
     "execution_count": 17,
     "metadata": {},
     "output_type": "execute_result"
    },
    {
     "data": {
      "image/png": "[encoded data removed]",
      "text/plain": [
       "<Figure size 864x432 with 2 Axes>"
      ]
     },
     "metadata": {
      "needs_background": "light"
     },
     "output_type": "display_data"
    }
   ],
   "source": [
    "plt.figure(figsize = (12, 6))\n",
    "sns.heatmap(corr_table, annot = True)"
   ]
  },
  {
   "cell_type": "code",
   "execution_count": 18,
   "id": "81d50990",
   "metadata": {},
   "outputs": [
    {
     "data": {
      "image/png": "[encoded data removed]",
      "text/plain": [
       "<Figure size 864x864 with 16 Axes>"
      ]
     },
     "metadata": {
      "needs_background": "light"
     },
     "output_type": "display_data"
    }
   ],
   "source": [
    "#Scatter Plot\n",
    "var_ind = list(range(13)) + list(range(15, 18))\n",
    "plot = plt.figure(figsize = (12, 12))\n",
    "plot.subplots_adjust(hspace = 0.8, wspace = 0.5)\n",
    "for i in range(1, 17):\n",
    "    a = plot.add_subplot(4, 4, i)\n",
    "    a.scatter(x = data2.iloc[: , var_ind[i - 1]], y = data2.iloc[: , 18], alpha = 0.5)\n",
    "    a.title.set_text('Salary vs. ' + data2.columns[var_ind[i - 1]])"
   ]
  },
  {
   "cell_type": "code",
   "execution_count": 19,
   "id": "2a567206",
   "metadata": {},
   "outputs": [
    {
     "data": {
      "text/plain": [
       "A    139\n",
       "N    124\n",
       "Name: League, dtype: int64"
      ]
     },
     "execution_count": 19,
     "metadata": {},
     "output_type": "execute_result"
    }
   ],
   "source": [
    "#Categorical variables\n",
    "data2['League'].value_counts()"
   ]
  },
  {
   "cell_type": "code",
   "execution_count": 20,
   "id": "f3ca278c",
   "metadata": {},
   "outputs": [
    {
     "data": {
      "text/plain": [
       "W    134\n",
       "E    129\n",
       "Name: Division, dtype: int64"
      ]
     },
     "execution_count": 20,
     "metadata": {},
     "output_type": "execute_result"
    }
   ],
   "source": [
    "data2['Division'].value_counts()"
   ]
  },
  {
   "cell_type": "code",
   "execution_count": 21,
   "id": "2cf7f1ce",
   "metadata": {},
   "outputs": [
    {
     "data": {
      "text/plain": [
       "A    141\n",
       "N    122\n",
       "Name: NewLeague, dtype: int64"
      ]
     },
     "execution_count": 21,
     "metadata": {},
     "output_type": "execute_result"
    }
   ],
   "source": [
    "data2['NewLeague'].value_counts()"
   ]
  },
  {
   "cell_type": "markdown",
   "id": "c20d70d2",
   "metadata": {},
   "source": [
    "## Data Preparation"
   ]
  },
  {
   "cell_type": "code",
   "execution_count": 22,
   "id": "6468519f",
   "metadata": {},
   "outputs": [],
   "source": [
    "from sklearn.model_selection import train_test_split\n",
    "train, test = train_test_split(data2, test_size = 0.2, random_state = 1234)"
   ]
  },
  {
   "cell_type": "code",
   "execution_count": 23,
   "id": "9b1b949c",
   "metadata": {},
   "outputs": [
    {
     "data": {
      "text/plain": [
       "(210, 20)"
      ]
     },
     "execution_count": 23,
     "metadata": {},
     "output_type": "execute_result"
    }
   ],
   "source": [
    "train.shape"
   ]
  },
  {
   "cell_type": "code",
   "execution_count": 24,
   "id": "9b78e46b",
   "metadata": {},
   "outputs": [
    {
     "data": {
      "text/html": [
       "<div>\n",
       "<style scoped>\n",
       "    .dataframe tbody tr th:only-of-type {\n",
       "        vertical-align: middle;\n",
       "    }\n",
       "\n",
       "    .dataframe tbody tr th {\n",
       "        vertical-align: top;\n",
       "    }\n",
       "\n",
       "    .dataframe thead th {\n",
       "        text-align: right;\n",
       "    }\n",
       "</style>\n",
       "<table border=\"1\" class=\"dataframe\">\n",
       "  <thead>\n",
       "    <tr style=\"text-align: right;\">\n",
       "      <th></th>\n",
       "      <th>AtBat</th>\n",
       "      <th>Hits</th>\n",
       "      <th>HmRun</th>\n",
       "      <th>Runs</th>\n",
       "      <th>RBI</th>\n",
       "      <th>Walks</th>\n",
       "      <th>Years</th>\n",
       "      <th>CAtBat</th>\n",
       "      <th>CHits</th>\n",
       "      <th>CHmRun</th>\n",
       "      <th>CRuns</th>\n",
       "      <th>CRBI</th>\n",
       "      <th>CWalks</th>\n",
       "      <th>PutOuts</th>\n",
       "      <th>Assists</th>\n",
       "      <th>Errors</th>\n",
       "      <th>Salary</th>\n",
       "    </tr>\n",
       "  </thead>\n",
       "  <tbody>\n",
       "    <tr>\n",
       "      <th>count</th>\n",
       "      <td>210.000000</td>\n",
       "      <td>210.000000</td>\n",
       "      <td>210.000000</td>\n",
       "      <td>210.000000</td>\n",
       "      <td>210.000000</td>\n",
       "      <td>210.000000</td>\n",
       "      <td>210.000000</td>\n",
       "      <td>210.000000</td>\n",
       "      <td>210.000000</td>\n",
       "      <td>210.000000</td>\n",
       "      <td>210.000000</td>\n",
       "      <td>210.000000</td>\n",
       "      <td>210.000000</td>\n",
       "      <td>210.000000</td>\n",
       "      <td>210.000000</td>\n",
       "      <td>210.000000</td>\n",
       "      <td>210.000000</td>\n",
       "    </tr>\n",
       "    <tr>\n",
       "      <th>mean</th>\n",
       "      <td>409.009524</td>\n",
       "      <td>109.923810</td>\n",
       "      <td>11.880952</td>\n",
       "      <td>55.871429</td>\n",
       "      <td>52.290476</td>\n",
       "      <td>41.838095</td>\n",
       "      <td>7.409524</td>\n",
       "      <td>2658.804762</td>\n",
       "      <td>721.333333</td>\n",
       "      <td>70.361905</td>\n",
       "      <td>360.742857</td>\n",
       "      <td>331.709524</td>\n",
       "      <td>259.609524</td>\n",
       "      <td>292.023810</td>\n",
       "      <td>111.880952</td>\n",
       "      <td>8.228571</td>\n",
       "      <td>562.288433</td>\n",
       "    </tr>\n",
       "    <tr>\n",
       "      <th>std</th>\n",
       "      <td>148.097730</td>\n",
       "      <td>46.149683</td>\n",
       "      <td>8.872306</td>\n",
       "      <td>25.833802</td>\n",
       "      <td>26.641091</td>\n",
       "      <td>21.846408</td>\n",
       "      <td>4.624038</td>\n",
       "      <td>2126.724958</td>\n",
       "      <td>596.666853</td>\n",
       "      <td>83.085605</td>\n",
       "      <td>307.176493</td>\n",
       "      <td>315.682880</td>\n",
       "      <td>251.547022</td>\n",
       "      <td>275.904453</td>\n",
       "      <td>143.031332</td>\n",
       "      <td>6.307521</td>\n",
       "      <td>466.852811</td>\n",
       "    </tr>\n",
       "    <tr>\n",
       "      <th>min</th>\n",
       "      <td>20.000000</td>\n",
       "      <td>1.000000</td>\n",
       "      <td>0.000000</td>\n",
       "      <td>0.000000</td>\n",
       "      <td>0.000000</td>\n",
       "      <td>0.000000</td>\n",
       "      <td>1.000000</td>\n",
       "      <td>41.000000</td>\n",
       "      <td>9.000000</td>\n",
       "      <td>0.000000</td>\n",
       "      <td>6.000000</td>\n",
       "      <td>7.000000</td>\n",
       "      <td>4.000000</td>\n",
       "      <td>0.000000</td>\n",
       "      <td>0.000000</td>\n",
       "      <td>0.000000</td>\n",
       "      <td>68.000000</td>\n",
       "    </tr>\n",
       "    <tr>\n",
       "      <th>25%</th>\n",
       "      <td>283.000000</td>\n",
       "      <td>73.000000</td>\n",
       "      <td>5.000000</td>\n",
       "      <td>34.000000</td>\n",
       "      <td>30.000000</td>\n",
       "      <td>24.000000</td>\n",
       "      <td>4.000000</td>\n",
       "      <td>928.250000</td>\n",
       "      <td>230.250000</td>\n",
       "      <td>15.000000</td>\n",
       "      <td>116.250000</td>\n",
       "      <td>99.250000</td>\n",
       "      <td>76.500000</td>\n",
       "      <td>110.250000</td>\n",
       "      <td>7.000000</td>\n",
       "      <td>3.000000</td>\n",
       "      <td>210.000000</td>\n",
       "    </tr>\n",
       "    <tr>\n",
       "      <th>50%</th>\n",
       "      <td>417.000000</td>\n",
       "      <td>105.500000</td>\n",
       "      <td>9.000000</td>\n",
       "      <td>53.500000</td>\n",
       "      <td>47.000000</td>\n",
       "      <td>37.500000</td>\n",
       "      <td>6.000000</td>\n",
       "      <td>2035.500000</td>\n",
       "      <td>546.500000</td>\n",
       "      <td>40.000000</td>\n",
       "      <td>278.500000</td>\n",
       "      <td>251.500000</td>\n",
       "      <td>179.500000</td>\n",
       "      <td>226.000000</td>\n",
       "      <td>41.500000</td>\n",
       "      <td>6.000000</td>\n",
       "      <td>450.000000</td>\n",
       "    </tr>\n",
       "    <tr>\n",
       "      <th>75%</th>\n",
       "      <td>528.750000</td>\n",
       "      <td>144.750000</td>\n",
       "      <td>18.000000</td>\n",
       "      <td>76.000000</td>\n",
       "      <td>73.000000</td>\n",
       "      <td>57.000000</td>\n",
       "      <td>11.000000</td>\n",
       "      <td>3900.250000</td>\n",
       "      <td>1058.000000</td>\n",
       "      <td>92.750000</td>\n",
       "      <td>493.500000</td>\n",
       "      <td>419.750000</td>\n",
       "      <td>318.500000</td>\n",
       "      <td>318.500000</td>\n",
       "      <td>172.250000</td>\n",
       "      <td>12.750000</td>\n",
       "      <td>761.250000</td>\n",
       "    </tr>\n",
       "    <tr>\n",
       "      <th>max</th>\n",
       "      <td>687.000000</td>\n",
       "      <td>238.000000</td>\n",
       "      <td>40.000000</td>\n",
       "      <td>130.000000</td>\n",
       "      <td>121.000000</td>\n",
       "      <td>105.000000</td>\n",
       "      <td>20.000000</td>\n",
       "      <td>9528.000000</td>\n",
       "      <td>2583.000000</td>\n",
       "      <td>548.000000</td>\n",
       "      <td>1509.000000</td>\n",
       "      <td>1659.000000</td>\n",
       "      <td>1380.000000</td>\n",
       "      <td>1377.000000</td>\n",
       "      <td>492.000000</td>\n",
       "      <td>29.000000</td>\n",
       "      <td>2460.000000</td>\n",
       "    </tr>\n",
       "  </tbody>\n",
       "</table>\n",
       "</div>"
      ],
      "text/plain": [
       "            AtBat        Hits       HmRun        Runs         RBI       Walks  \\\n",
       "count  210.000000  210.000000  210.000000  210.000000  210.000000  210.000000   \n",
       "mean   409.009524  109.923810   11.880952   55.871429   52.290476   41.838095   \n",
       "std    148.097730   46.149683    8.872306   25.833802   26.641091   21.846408   \n",
       "min     20.000000    1.000000    0.000000    0.000000    0.000000    0.000000   \n",
       "25%    283.000000   73.000000    5.000000   34.000000   30.000000   24.000000   \n",
       "50%    417.000000  105.500000    9.000000   53.500000   47.000000   37.500000   \n",
       "75%    528.750000  144.750000   18.000000   76.000000   73.000000   57.000000   \n",
       "max    687.000000  238.000000   40.000000  130.000000  121.000000  105.000000   \n",
       "\n",
       "            Years       CAtBat        CHits      CHmRun        CRuns  \\\n",
       "count  210.000000   210.000000   210.000000  210.000000   210.000000   \n",
       "mean     7.409524  2658.804762   721.333333   70.361905   360.742857   \n",
       "std      4.624038  2126.724958   596.666853   83.085605   307.176493   \n",
       "min      1.000000    41.000000     9.000000    0.000000     6.000000   \n",
       "25%      4.000000   928.250000   230.250000   15.000000   116.250000   \n",
       "50%      6.000000  2035.500000   546.500000   40.000000   278.500000   \n",
       "75%     11.000000  3900.250000  1058.000000   92.750000   493.500000   \n",
       "max     20.000000  9528.000000  2583.000000  548.000000  1509.000000   \n",
       "\n",
       "              CRBI       CWalks      PutOuts     Assists      Errors  \\\n",
       "count   210.000000   210.000000   210.000000  210.000000  210.000000   \n",
       "mean    331.709524   259.609524   292.023810  111.880952    8.228571   \n",
       "std     315.682880   251.547022   275.904453  143.031332    6.307521   \n",
       "min       7.000000     4.000000     0.000000    0.000000    0.000000   \n",
       "25%      99.250000    76.500000   110.250000    7.000000    3.000000   \n",
       "50%     251.500000   179.500000   226.000000   41.500000    6.000000   \n",
       "75%     419.750000   318.500000   318.500000  172.250000   12.750000   \n",
       "max    1659.000000  1380.000000  1377.000000  492.000000   29.000000   \n",
       "\n",
       "            Salary  \n",
       "count   210.000000  \n",
       "mean    562.288433  \n",
       "std     466.852811  \n",
       "min      68.000000  \n",
       "25%     210.000000  \n",
       "50%     450.000000  \n",
       "75%     761.250000  \n",
       "max    2460.000000  "
      ]
     },
     "execution_count": 24,
     "metadata": {},
     "output_type": "execute_result"
    }
   ],
   "source": [
    "train.describe()"
   ]
  },
  {
   "cell_type": "code",
   "execution_count": 25,
   "id": "2e85883d",
   "metadata": {},
   "outputs": [
    {
     "data": {
      "text/plain": [
       "(53, 20)"
      ]
     },
     "execution_count": 25,
     "metadata": {},
     "output_type": "execute_result"
    }
   ],
   "source": [
    "test.shape"
   ]
  },
  {
   "cell_type": "code",
   "execution_count": 26,
   "id": "290df36f",
   "metadata": {},
   "outputs": [
    {
     "data": {
      "text/html": [
       "<div>\n",
       "<style scoped>\n",
       "    .dataframe tbody tr th:only-of-type {\n",
       "        vertical-align: middle;\n",
       "    }\n",
       "\n",
       "    .dataframe tbody tr th {\n",
       "        vertical-align: top;\n",
       "    }\n",
       "\n",
       "    .dataframe thead th {\n",
       "        text-align: right;\n",
       "    }\n",
       "</style>\n",
       "<table border=\"1\" class=\"dataframe\">\n",
       "  <thead>\n",
       "    <tr style=\"text-align: right;\">\n",
       "      <th></th>\n",
       "      <th>AtBat</th>\n",
       "      <th>Hits</th>\n",
       "      <th>HmRun</th>\n",
       "      <th>Runs</th>\n",
       "      <th>RBI</th>\n",
       "      <th>Walks</th>\n",
       "      <th>Years</th>\n",
       "      <th>CAtBat</th>\n",
       "      <th>CHits</th>\n",
       "      <th>CHmRun</th>\n",
       "      <th>CRuns</th>\n",
       "      <th>CRBI</th>\n",
       "      <th>CWalks</th>\n",
       "      <th>PutOuts</th>\n",
       "      <th>Assists</th>\n",
       "      <th>Errors</th>\n",
       "      <th>Salary</th>\n",
       "    </tr>\n",
       "  </thead>\n",
       "  <tbody>\n",
       "    <tr>\n",
       "      <th>count</th>\n",
       "      <td>53.000000</td>\n",
       "      <td>53.000000</td>\n",
       "      <td>53.000000</td>\n",
       "      <td>53.000000</td>\n",
       "      <td>53.000000</td>\n",
       "      <td>53.000000</td>\n",
       "      <td>53.000000</td>\n",
       "      <td>53.000000</td>\n",
       "      <td>53.000000</td>\n",
       "      <td>53.000000</td>\n",
       "      <td>53.000000</td>\n",
       "      <td>53.000000</td>\n",
       "      <td>53.000000</td>\n",
       "      <td>53.000000</td>\n",
       "      <td>53.000000</td>\n",
       "      <td>53.000000</td>\n",
       "      <td>53.000000</td>\n",
       "    </tr>\n",
       "    <tr>\n",
       "      <th>mean</th>\n",
       "      <td>382.377358</td>\n",
       "      <td>99.528302</td>\n",
       "      <td>10.584906</td>\n",
       "      <td>50.283019</td>\n",
       "      <td>48.301887</td>\n",
       "      <td>38.245283</td>\n",
       "      <td>6.924528</td>\n",
       "      <td>2652.547170</td>\n",
       "      <td>725.566038</td>\n",
       "      <td>64.792453</td>\n",
       "      <td>363.113208</td>\n",
       "      <td>325.301887</td>\n",
       "      <td>262.867925</td>\n",
       "      <td>285.509434</td>\n",
       "      <td>146.018868</td>\n",
       "      <td>10.037736</td>\n",
       "      <td>431.470491</td>\n",
       "    </tr>\n",
       "    <tr>\n",
       "      <th>std</th>\n",
       "      <td>143.530113</td>\n",
       "      <td>40.146177</td>\n",
       "      <td>8.284448</td>\n",
       "      <td>24.056326</td>\n",
       "      <td>22.577716</td>\n",
       "      <td>21.160473</td>\n",
       "      <td>5.445001</td>\n",
       "      <td>2857.368387</td>\n",
       "      <td>828.292045</td>\n",
       "      <td>79.190947</td>\n",
       "      <td>416.452493</td>\n",
       "      <td>355.362414</td>\n",
       "      <td>311.416370</td>\n",
       "      <td>298.059211</td>\n",
       "      <td>151.253797</td>\n",
       "      <td>7.572629</td>\n",
       "      <td>368.025230</td>\n",
       "    </tr>\n",
       "    <tr>\n",
       "      <th>min</th>\n",
       "      <td>19.000000</td>\n",
       "      <td>4.000000</td>\n",
       "      <td>0.000000</td>\n",
       "      <td>2.000000</td>\n",
       "      <td>3.000000</td>\n",
       "      <td>1.000000</td>\n",
       "      <td>1.000000</td>\n",
       "      <td>19.000000</td>\n",
       "      <td>4.000000</td>\n",
       "      <td>0.000000</td>\n",
       "      <td>2.000000</td>\n",
       "      <td>3.000000</td>\n",
       "      <td>1.000000</td>\n",
       "      <td>0.000000</td>\n",
       "      <td>0.000000</td>\n",
       "      <td>0.000000</td>\n",
       "      <td>67.500000</td>\n",
       "    </tr>\n",
       "    <tr>\n",
       "      <th>25%</th>\n",
       "      <td>278.000000</td>\n",
       "      <td>70.000000</td>\n",
       "      <td>3.000000</td>\n",
       "      <td>32.000000</td>\n",
       "      <td>32.000000</td>\n",
       "      <td>22.000000</td>\n",
       "      <td>3.000000</td>\n",
       "      <td>682.000000</td>\n",
       "      <td>170.000000</td>\n",
       "      <td>16.000000</td>\n",
       "      <td>93.000000</td>\n",
       "      <td>80.000000</td>\n",
       "      <td>50.000000</td>\n",
       "      <td>117.000000</td>\n",
       "      <td>9.000000</td>\n",
       "      <td>4.000000</td>\n",
       "      <td>155.000000</td>\n",
       "    </tr>\n",
       "    <tr>\n",
       "      <th>50%</th>\n",
       "      <td>360.000000</td>\n",
       "      <td>103.000000</td>\n",
       "      <td>9.000000</td>\n",
       "      <td>48.000000</td>\n",
       "      <td>47.000000</td>\n",
       "      <td>34.000000</td>\n",
       "      <td>5.000000</td>\n",
       "      <td>1399.000000</td>\n",
       "      <td>357.000000</td>\n",
       "      <td>36.000000</td>\n",
       "      <td>168.000000</td>\n",
       "      <td>154.000000</td>\n",
       "      <td>128.000000</td>\n",
       "      <td>203.000000</td>\n",
       "      <td>80.000000</td>\n",
       "      <td>8.000000</td>\n",
       "      <td>297.500000</td>\n",
       "    </tr>\n",
       "    <tr>\n",
       "      <th>75%</th>\n",
       "      <td>511.000000</td>\n",
       "      <td>138.000000</td>\n",
       "      <td>17.000000</td>\n",
       "      <td>68.000000</td>\n",
       "      <td>60.000000</td>\n",
       "      <td>56.000000</td>\n",
       "      <td>10.000000</td>\n",
       "      <td>3828.000000</td>\n",
       "      <td>970.000000</td>\n",
       "      <td>90.000000</td>\n",
       "      <td>575.000000</td>\n",
       "      <td>458.000000</td>\n",
       "      <td>359.000000</td>\n",
       "      <td>325.000000</td>\n",
       "      <td>269.000000</td>\n",
       "      <td>16.000000</td>\n",
       "      <td>670.000000</td>\n",
       "    </tr>\n",
       "    <tr>\n",
       "      <th>max</th>\n",
       "      <td>584.000000</td>\n",
       "      <td>163.000000</td>\n",
       "      <td>33.000000</td>\n",
       "      <td>107.000000</td>\n",
       "      <td>104.000000</td>\n",
       "      <td>83.000000</td>\n",
       "      <td>24.000000</td>\n",
       "      <td>14053.000000</td>\n",
       "      <td>4256.000000</td>\n",
       "      <td>384.000000</td>\n",
       "      <td>2165.000000</td>\n",
       "      <td>1314.000000</td>\n",
       "      <td>1566.000000</td>\n",
       "      <td>1320.000000</td>\n",
       "      <td>465.000000</td>\n",
       "      <td>32.000000</td>\n",
       "      <td>1861.460000</td>\n",
       "    </tr>\n",
       "  </tbody>\n",
       "</table>\n",
       "</div>"
      ],
      "text/plain": [
       "            AtBat        Hits      HmRun        Runs         RBI      Walks  \\\n",
       "count   53.000000   53.000000  53.000000   53.000000   53.000000  53.000000   \n",
       "mean   382.377358   99.528302  10.584906   50.283019   48.301887  38.245283   \n",
       "std    143.530113   40.146177   8.284448   24.056326   22.577716  21.160473   \n",
       "min     19.000000    4.000000   0.000000    2.000000    3.000000   1.000000   \n",
       "25%    278.000000   70.000000   3.000000   32.000000   32.000000  22.000000   \n",
       "50%    360.000000  103.000000   9.000000   48.000000   47.000000  34.000000   \n",
       "75%    511.000000  138.000000  17.000000   68.000000   60.000000  56.000000   \n",
       "max    584.000000  163.000000  33.000000  107.000000  104.000000  83.000000   \n",
       "\n",
       "           Years        CAtBat        CHits      CHmRun        CRuns  \\\n",
       "count  53.000000     53.000000    53.000000   53.000000    53.000000   \n",
       "mean    6.924528   2652.547170   725.566038   64.792453   363.113208   \n",
       "std     5.445001   2857.368387   828.292045   79.190947   416.452493   \n",
       "min     1.000000     19.000000     4.000000    0.000000     2.000000   \n",
       "25%     3.000000    682.000000   170.000000   16.000000    93.000000   \n",
       "50%     5.000000   1399.000000   357.000000   36.000000   168.000000   \n",
       "75%    10.000000   3828.000000   970.000000   90.000000   575.000000   \n",
       "max    24.000000  14053.000000  4256.000000  384.000000  2165.000000   \n",
       "\n",
       "              CRBI       CWalks      PutOuts     Assists     Errors  \\\n",
       "count    53.000000    53.000000    53.000000   53.000000  53.000000   \n",
       "mean    325.301887   262.867925   285.509434  146.018868  10.037736   \n",
       "std     355.362414   311.416370   298.059211  151.253797   7.572629   \n",
       "min       3.000000     1.000000     0.000000    0.000000   0.000000   \n",
       "25%      80.000000    50.000000   117.000000    9.000000   4.000000   \n",
       "50%     154.000000   128.000000   203.000000   80.000000   8.000000   \n",
       "75%     458.000000   359.000000   325.000000  269.000000  16.000000   \n",
       "max    1314.000000  1566.000000  1320.000000  465.000000  32.000000   \n",
       "\n",
       "            Salary  \n",
       "count    53.000000  \n",
       "mean    431.470491  \n",
       "std     368.025230  \n",
       "min      67.500000  \n",
       "25%     155.000000  \n",
       "50%     297.500000  \n",
       "75%     670.000000  \n",
       "max    1861.460000  "
      ]
     },
     "execution_count": 26,
     "metadata": {},
     "output_type": "execute_result"
    }
   ],
   "source": [
    "test.describe()"
   ]
  },
  {
   "cell_type": "markdown",
   "id": "59fa29f2",
   "metadata": {},
   "source": [
    "## Building Prediction Model"
   ]
  },
  {
   "cell_type": "markdown",
   "id": "450a7430",
   "metadata": {},
   "source": [
    "### Model 1: Linear Regression"
   ]
  },
  {
   "cell_type": "code",
   "execution_count": 27,
   "id": "a17df5d8",
   "metadata": {},
   "outputs": [
    {
     "data": {
      "text/html": [
       "<div>\n",
       "<style scoped>\n",
       "    .dataframe tbody tr th:only-of-type {\n",
       "        vertical-align: middle;\n",
       "    }\n",
       "\n",
       "    .dataframe tbody tr th {\n",
       "        vertical-align: top;\n",
       "    }\n",
       "\n",
       "    .dataframe thead th {\n",
       "        text-align: right;\n",
       "    }\n",
       "</style>\n",
       "<table border=\"1\" class=\"dataframe\">\n",
       "  <thead>\n",
       "    <tr style=\"text-align: right;\">\n",
       "      <th></th>\n",
       "      <th>League_A</th>\n",
       "      <th>League_N</th>\n",
       "      <th>Division_E</th>\n",
       "      <th>Division_W</th>\n",
       "      <th>NewLeague_A</th>\n",
       "      <th>NewLeague_N</th>\n",
       "    </tr>\n",
       "  </thead>\n",
       "  <tbody>\n",
       "    <tr>\n",
       "      <th>98</th>\n",
       "      <td>0</td>\n",
       "      <td>1</td>\n",
       "      <td>0</td>\n",
       "      <td>1</td>\n",
       "      <td>0</td>\n",
       "      <td>1</td>\n",
       "    </tr>\n",
       "    <tr>\n",
       "      <th>206</th>\n",
       "      <td>0</td>\n",
       "      <td>1</td>\n",
       "      <td>0</td>\n",
       "      <td>1</td>\n",
       "      <td>0</td>\n",
       "      <td>1</td>\n",
       "    </tr>\n",
       "    <tr>\n",
       "      <th>54</th>\n",
       "      <td>1</td>\n",
       "      <td>0</td>\n",
       "      <td>1</td>\n",
       "      <td>0</td>\n",
       "      <td>1</td>\n",
       "      <td>0</td>\n",
       "    </tr>\n",
       "    <tr>\n",
       "      <th>177</th>\n",
       "      <td>1</td>\n",
       "      <td>0</td>\n",
       "      <td>1</td>\n",
       "      <td>0</td>\n",
       "      <td>1</td>\n",
       "      <td>0</td>\n",
       "    </tr>\n",
       "    <tr>\n",
       "      <th>27</th>\n",
       "      <td>0</td>\n",
       "      <td>1</td>\n",
       "      <td>0</td>\n",
       "      <td>1</td>\n",
       "      <td>0</td>\n",
       "      <td>1</td>\n",
       "    </tr>\n",
       "  </tbody>\n",
       "</table>\n",
       "</div>"
      ],
      "text/plain": [
       "     League_A  League_N  Division_E  Division_W  NewLeague_A  NewLeague_N\n",
       "98          0         1           0           1            0            1\n",
       "206         0         1           0           1            0            1\n",
       "54          1         0           1           0            1            0\n",
       "177         1         0           1           0            1            0\n",
       "27          0         1           0           1            0            1"
      ]
     },
     "execution_count": 27,
     "metadata": {},
     "output_type": "execute_result"
    }
   ],
   "source": [
    "#Create dummies for columns with categorical variables\n",
    "dummies = pd.get_dummies(train[['League', 'Division', 'NewLeague']])\n",
    "dummies.head()"
   ]
  },
  {
   "cell_type": "code",
   "execution_count": 28,
   "id": "0c5754ee",
   "metadata": {},
   "outputs": [],
   "source": [
    "#Define the feature set X \n",
    "X_ = train.drop(['Salary', 'League', 'Division', 'NewLeague'], axis = 1)\n",
    "X_train = pd.concat([X_, dummies[['League_N', 'Division_W', 'NewLeague_N']]], axis = 1)\n",
    "X_train = sm.add_constant(X_train) #adding a constant\n",
    "\n",
    "#Define response variable\n",
    "y_train = train['Salary']"
   ]
  },
  {
   "cell_type": "code",
   "execution_count": 29,
   "id": "42fcc42f",
   "metadata": {},
   "outputs": [
    {
     "data": {
      "text/html": [
       "<div>\n",
       "<style scoped>\n",
       "    .dataframe tbody tr th:only-of-type {\n",
       "        vertical-align: middle;\n",
       "    }\n",
       "\n",
       "    .dataframe tbody tr th {\n",
       "        vertical-align: top;\n",
       "    }\n",
       "\n",
       "    .dataframe thead th {\n",
       "        text-align: right;\n",
       "    }\n",
       "</style>\n",
       "<table border=\"1\" class=\"dataframe\">\n",
       "  <thead>\n",
       "    <tr style=\"text-align: right;\">\n",
       "      <th></th>\n",
       "      <th>const</th>\n",
       "      <th>AtBat</th>\n",
       "      <th>Hits</th>\n",
       "      <th>HmRun</th>\n",
       "      <th>Runs</th>\n",
       "      <th>RBI</th>\n",
       "      <th>Walks</th>\n",
       "      <th>Years</th>\n",
       "      <th>CAtBat</th>\n",
       "      <th>CHits</th>\n",
       "      <th>CHmRun</th>\n",
       "      <th>CRuns</th>\n",
       "      <th>CRBI</th>\n",
       "      <th>CWalks</th>\n",
       "      <th>PutOuts</th>\n",
       "      <th>Assists</th>\n",
       "      <th>Errors</th>\n",
       "      <th>League_N</th>\n",
       "      <th>Division_W</th>\n",
       "      <th>NewLeague_N</th>\n",
       "    </tr>\n",
       "  </thead>\n",
       "  <tbody>\n",
       "    <tr>\n",
       "      <th>98</th>\n",
       "      <td>1.0</td>\n",
       "      <td>415</td>\n",
       "      <td>115</td>\n",
       "      <td>27</td>\n",
       "      <td>97</td>\n",
       "      <td>71</td>\n",
       "      <td>68</td>\n",
       "      <td>3</td>\n",
       "      <td>711</td>\n",
       "      <td>184</td>\n",
       "      <td>45</td>\n",
       "      <td>156</td>\n",
       "      <td>119</td>\n",
       "      <td>99</td>\n",
       "      <td>274</td>\n",
       "      <td>2</td>\n",
       "      <td>7</td>\n",
       "      <td>1</td>\n",
       "      <td>1</td>\n",
       "      <td>1</td>\n",
       "    </tr>\n",
       "    <tr>\n",
       "      <th>206</th>\n",
       "      <td>1.0</td>\n",
       "      <td>407</td>\n",
       "      <td>93</td>\n",
       "      <td>8</td>\n",
       "      <td>47</td>\n",
       "      <td>30</td>\n",
       "      <td>30</td>\n",
       "      <td>2</td>\n",
       "      <td>969</td>\n",
       "      <td>230</td>\n",
       "      <td>14</td>\n",
       "      <td>121</td>\n",
       "      <td>69</td>\n",
       "      <td>68</td>\n",
       "      <td>172</td>\n",
       "      <td>317</td>\n",
       "      <td>25</td>\n",
       "      <td>1</td>\n",
       "      <td>1</td>\n",
       "      <td>1</td>\n",
       "    </tr>\n",
       "    <tr>\n",
       "      <th>54</th>\n",
       "      <td>1.0</td>\n",
       "      <td>403</td>\n",
       "      <td>101</td>\n",
       "      <td>12</td>\n",
       "      <td>45</td>\n",
       "      <td>53</td>\n",
       "      <td>39</td>\n",
       "      <td>12</td>\n",
       "      <td>5150</td>\n",
       "      <td>1429</td>\n",
       "      <td>166</td>\n",
       "      <td>747</td>\n",
       "      <td>666</td>\n",
       "      <td>526</td>\n",
       "      <td>316</td>\n",
       "      <td>6</td>\n",
       "      <td>5</td>\n",
       "      <td>0</td>\n",
       "      <td>0</td>\n",
       "      <td>0</td>\n",
       "    </tr>\n",
       "    <tr>\n",
       "      <th>177</th>\n",
       "      <td>1.0</td>\n",
       "      <td>441</td>\n",
       "      <td>118</td>\n",
       "      <td>28</td>\n",
       "      <td>84</td>\n",
       "      <td>86</td>\n",
       "      <td>68</td>\n",
       "      <td>8</td>\n",
       "      <td>2723</td>\n",
       "      <td>750</td>\n",
       "      <td>126</td>\n",
       "      <td>433</td>\n",
       "      <td>420</td>\n",
       "      <td>309</td>\n",
       "      <td>190</td>\n",
       "      <td>2</td>\n",
       "      <td>2</td>\n",
       "      <td>0</td>\n",
       "      <td>0</td>\n",
       "      <td>0</td>\n",
       "    </tr>\n",
       "    <tr>\n",
       "      <th>27</th>\n",
       "      <td>1.0</td>\n",
       "      <td>474</td>\n",
       "      <td>129</td>\n",
       "      <td>10</td>\n",
       "      <td>50</td>\n",
       "      <td>56</td>\n",
       "      <td>40</td>\n",
       "      <td>10</td>\n",
       "      <td>2331</td>\n",
       "      <td>604</td>\n",
       "      <td>61</td>\n",
       "      <td>246</td>\n",
       "      <td>327</td>\n",
       "      <td>166</td>\n",
       "      <td>732</td>\n",
       "      <td>83</td>\n",
       "      <td>13</td>\n",
       "      <td>1</td>\n",
       "      <td>1</td>\n",
       "      <td>1</td>\n",
       "    </tr>\n",
       "  </tbody>\n",
       "</table>\n",
       "</div>"
      ],
      "text/plain": [
       "     const  AtBat  Hits  HmRun  Runs  RBI  Walks  Years  CAtBat  CHits  \\\n",
       "98     1.0    415   115     27    97   71     68      3     711    184   \n",
       "206    1.0    407    93      8    47   30     30      2     969    230   \n",
       "54     1.0    403   101     12    45   53     39     12    5150   1429   \n",
       "177    1.0    441   118     28    84   86     68      8    2723    750   \n",
       "27     1.0    474   129     10    50   56     40     10    2331    604   \n",
       "\n",
       "     CHmRun  CRuns  CRBI  CWalks  PutOuts  Assists  Errors  League_N  \\\n",
       "98       45    156   119      99      274        2       7         1   \n",
       "206      14    121    69      68      172      317      25         1   \n",
       "54      166    747   666     526      316        6       5         0   \n",
       "177     126    433   420     309      190        2       2         0   \n",
       "27       61    246   327     166      732       83      13         1   \n",
       "\n",
       "     Division_W  NewLeague_N  \n",
       "98            1            1  \n",
       "206           1            1  \n",
       "54            0            0  \n",
       "177           0            0  \n",
       "27            1            1  "
      ]
     },
     "execution_count": 29,
     "metadata": {},
     "output_type": "execute_result"
    }
   ],
   "source": [
    "X_train.head()"
   ]
  },
  {
   "cell_type": "code",
   "execution_count": 30,
   "id": "5e7ec5fd",
   "metadata": {},
   "outputs": [
    {
     "data": {
      "text/plain": [
       "98      300.0\n",
       "206     150.0\n",
       "54      675.0\n",
       "177    1300.0\n",
       "27      750.0\n",
       "Name: Salary, dtype: float64"
      ]
     },
     "execution_count": 30,
     "metadata": {},
     "output_type": "execute_result"
    }
   ],
   "source": [
    "y_train.head()"
   ]
  },
  {
   "cell_type": "code",
   "execution_count": 31,
   "id": "083d72f2",
   "metadata": {},
   "outputs": [
    {
     "data": {
      "text/html": [
       "<table class=\"simpletable\">\n",
       "<caption>OLS Regression Results</caption>\n",
       "<tr>\n",
       "  <th>Dep. Variable:</th>         <td>Salary</td>      <th>  R-squared:         </th> <td>   0.551</td>\n",
       "</tr>\n",
       "<tr>\n",
       "  <th>Model:</th>                   <td>OLS</td>       <th>  Adj. R-squared:    </th> <td>   0.506</td>\n",
       "</tr>\n",
       "<tr>\n",
       "  <th>Method:</th>             <td>Least Squares</td>  <th>  F-statistic:       </th> <td>   12.28</td>\n",
       "</tr>\n",
       "<tr>\n",
       "  <th>Date:</th>             <td>Sun, 21 Aug 2022</td> <th>  Prob (F-statistic):</th> <td>4.97e-24</td>\n",
       "</tr>\n",
       "<tr>\n",
       "  <th>Time:</th>                 <td>23:17:42</td>     <th>  Log-Likelihood:    </th> <td> -1504.0</td>\n",
       "</tr>\n",
       "<tr>\n",
       "  <th>No. Observations:</th>      <td>   210</td>      <th>  AIC:               </th> <td>   3048.</td>\n",
       "</tr>\n",
       "<tr>\n",
       "  <th>Df Residuals:</th>          <td>   190</td>      <th>  BIC:               </th> <td>   3115.</td>\n",
       "</tr>\n",
       "<tr>\n",
       "  <th>Df Model:</th>              <td>    19</td>      <th>                     </th>     <td> </td>   \n",
       "</tr>\n",
       "<tr>\n",
       "  <th>Covariance Type:</th>      <td>nonrobust</td>    <th>                     </th>     <td> </td>   \n",
       "</tr>\n",
       "</table>\n",
       "<table class=\"simpletable\">\n",
       "<tr>\n",
       "       <td></td>          <th>coef</th>     <th>std err</th>      <th>t</th>      <th>P>|t|</th>  <th>[0.025</th>    <th>0.975]</th>  \n",
       "</tr>\n",
       "<tr>\n",
       "  <th>const</th>       <td>  184.2280</td> <td>  107.371</td> <td>    1.716</td> <td> 0.088</td> <td>  -27.565</td> <td>  396.021</td>\n",
       "</tr>\n",
       "<tr>\n",
       "  <th>AtBat</th>       <td>   -1.7540</td> <td>    0.751</td> <td>   -2.336</td> <td> 0.021</td> <td>   -3.235</td> <td>   -0.273</td>\n",
       "</tr>\n",
       "<tr>\n",
       "  <th>Hits</th>        <td>    6.5979</td> <td>    2.885</td> <td>    2.287</td> <td> 0.023</td> <td>    0.907</td> <td>   12.289</td>\n",
       "</tr>\n",
       "<tr>\n",
       "  <th>HmRun</th>       <td>    7.3090</td> <td>    7.597</td> <td>    0.962</td> <td> 0.337</td> <td>   -7.675</td> <td>   22.293</td>\n",
       "</tr>\n",
       "<tr>\n",
       "  <th>Runs</th>        <td>   -2.7338</td> <td>    3.582</td> <td>   -0.763</td> <td> 0.446</td> <td>   -9.799</td> <td>    4.332</td>\n",
       "</tr>\n",
       "<tr>\n",
       "  <th>RBI</th>         <td>   -1.3503</td> <td>    3.172</td> <td>   -0.426</td> <td> 0.671</td> <td>   -7.608</td> <td>    4.908</td>\n",
       "</tr>\n",
       "<tr>\n",
       "  <th>Walks</th>       <td>    5.4445</td> <td>    2.263</td> <td>    2.406</td> <td> 0.017</td> <td>    0.981</td> <td>    9.908</td>\n",
       "</tr>\n",
       "<tr>\n",
       "  <th>Years</th>       <td>   -6.5675</td> <td>   14.116</td> <td>   -0.465</td> <td> 0.642</td> <td>  -34.412</td> <td>   21.277</td>\n",
       "</tr>\n",
       "<tr>\n",
       "  <th>CAtBat</th>      <td>   -0.2467</td> <td>    0.172</td> <td>   -1.433</td> <td> 0.154</td> <td>   -0.586</td> <td>    0.093</td>\n",
       "</tr>\n",
       "<tr>\n",
       "  <th>CHits</th>       <td>    0.5802</td> <td>    0.895</td> <td>    0.648</td> <td> 0.518</td> <td>   -1.185</td> <td>    2.346</td>\n",
       "</tr>\n",
       "<tr>\n",
       "  <th>CHmRun</th>      <td>    0.0299</td> <td>    2.025</td> <td>    0.015</td> <td> 0.988</td> <td>   -3.965</td> <td>    4.025</td>\n",
       "</tr>\n",
       "<tr>\n",
       "  <th>CRuns</th>       <td>    1.4403</td> <td>    0.886</td> <td>    1.625</td> <td> 0.106</td> <td>   -0.308</td> <td>    3.189</td>\n",
       "</tr>\n",
       "<tr>\n",
       "  <th>CRBI</th>        <td>    0.3874</td> <td>    0.911</td> <td>    0.425</td> <td> 0.671</td> <td>   -1.409</td> <td>    2.184</td>\n",
       "</tr>\n",
       "<tr>\n",
       "  <th>CWalks</th>      <td>   -0.6119</td> <td>    0.410</td> <td>   -1.491</td> <td> 0.137</td> <td>   -1.421</td> <td>    0.197</td>\n",
       "</tr>\n",
       "<tr>\n",
       "  <th>PutOuts</th>     <td>    0.2961</td> <td>    0.094</td> <td>    3.141</td> <td> 0.002</td> <td>    0.110</td> <td>    0.482</td>\n",
       "</tr>\n",
       "<tr>\n",
       "  <th>Assists</th>     <td>    0.2956</td> <td>    0.249</td> <td>    1.187</td> <td> 0.237</td> <td>   -0.195</td> <td>    0.787</td>\n",
       "</tr>\n",
       "<tr>\n",
       "  <th>Errors</th>      <td>    0.7347</td> <td>    5.199</td> <td>    0.141</td> <td> 0.888</td> <td>   -9.520</td> <td>   10.990</td>\n",
       "</tr>\n",
       "<tr>\n",
       "  <th>League_N</th>    <td>    5.0153</td> <td>   97.960</td> <td>    0.051</td> <td> 0.959</td> <td> -188.214</td> <td>  198.245</td>\n",
       "</tr>\n",
       "<tr>\n",
       "  <th>Division_W</th>  <td> -134.5539</td> <td>   47.964</td> <td>   -2.805</td> <td> 0.006</td> <td> -229.164</td> <td>  -39.944</td>\n",
       "</tr>\n",
       "<tr>\n",
       "  <th>NewLeague_N</th> <td>   36.0810</td> <td>   98.757</td> <td>    0.365</td> <td> 0.715</td> <td> -158.719</td> <td>  230.881</td>\n",
       "</tr>\n",
       "</table>\n",
       "<table class=\"simpletable\">\n",
       "<tr>\n",
       "  <th>Omnibus:</th>       <td>71.108</td> <th>  Durbin-Watson:     </th> <td>   1.950</td>\n",
       "</tr>\n",
       "<tr>\n",
       "  <th>Prob(Omnibus):</th> <td> 0.000</td> <th>  Jarque-Bera (JB):  </th> <td> 366.871</td>\n",
       "</tr>\n",
       "<tr>\n",
       "  <th>Skew:</th>          <td> 1.201</td> <th>  Prob(JB):          </th> <td>2.16e-80</td>\n",
       "</tr>\n",
       "<tr>\n",
       "  <th>Kurtosis:</th>      <td> 9.013</td> <th>  Cond. No.          </th> <td>2.17e+04</td>\n",
       "</tr>\n",
       "</table><br/><br/>Notes:<br/>[1] Standard Errors assume that the covariance matrix of the errors is correctly specified.<br/>[2] The condition number is large, 2.17e+04. This might indicate that there are<br/>strong multicollinearity or other numerical problems."
      ],
      "text/plain": [
       "<class 'statsmodels.iolib.summary.Summary'>\n",
       "\"\"\"\n",
       "                            OLS Regression Results                            \n",
       "==============================================================================\n",
       "Dep. Variable:                 Salary   R-squared:                       0.551\n",
       "Model:                            OLS   Adj. R-squared:                  0.506\n",
       "Method:                 Least Squares   F-statistic:                     12.28\n",
       "Date:                Sun, 21 Aug 2022   Prob (F-statistic):           4.97e-24\n",
       "Time:                        23:17:42   Log-Likelihood:                -1504.0\n",
       "No. Observations:                 210   AIC:                             3048.\n",
       "Df Residuals:                     190   BIC:                             3115.\n",
       "Df Model:                          19                                         \n",
       "Covariance Type:            nonrobust                                         \n",
       "===============================================================================\n",
       "                  coef    std err          t      P>|t|      [0.025      0.975]\n",
       "-------------------------------------------------------------------------------\n",
       "const         184.2280    107.371      1.716      0.088     -27.565     396.021\n",
       "AtBat          -1.7540      0.751     -2.336      0.021      -3.235      -0.273\n",
       "Hits            6.5979      2.885      2.287      0.023       0.907      12.289\n",
       "HmRun           7.3090      7.597      0.962      0.337      -7.675      22.293\n",
       "Runs           -2.7338      3.582     -0.763      0.446      -9.799       4.332\n",
       "RBI            -1.3503      3.172     -0.426      0.671      -7.608       4.908\n",
       "Walks           5.4445      2.263      2.406      0.017       0.981       9.908\n",
       "Years          -6.5675     14.116     -0.465      0.642     -34.412      21.277\n",
       "CAtBat         -0.2467      0.172     -1.433      0.154      -0.586       0.093\n",
       "CHits           0.5802      0.895      0.648      0.518      -1.185       2.346\n",
       "CHmRun          0.0299      2.025      0.015      0.988      -3.965       4.025\n",
       "CRuns           1.4403      0.886      1.625      0.106      -0.308       3.189\n",
       "CRBI            0.3874      0.911      0.425      0.671      -1.409       2.184\n",
       "CWalks         -0.6119      0.410     -1.491      0.137      -1.421       0.197\n",
       "PutOuts         0.2961      0.094      3.141      0.002       0.110       0.482\n",
       "Assists         0.2956      0.249      1.187      0.237      -0.195       0.787\n",
       "Errors          0.7347      5.199      0.141      0.888      -9.520      10.990\n",
       "League_N        5.0153     97.960      0.051      0.959    -188.214     198.245\n",
       "Division_W   -134.5539     47.964     -2.805      0.006    -229.164     -39.944\n",
       "NewLeague_N    36.0810     98.757      0.365      0.715    -158.719     230.881\n",
       "==============================================================================\n",
       "Omnibus:                       71.108   Durbin-Watson:                   1.950\n",
       "Prob(Omnibus):                  0.000   Jarque-Bera (JB):              366.871\n",
       "Skew:                           1.201   Prob(JB):                     2.16e-80\n",
       "Kurtosis:                       9.013   Cond. No.                     2.17e+04\n",
       "==============================================================================\n",
       "\n",
       "Notes:\n",
       "[1] Standard Errors assume that the covariance matrix of the errors is correctly specified.\n",
       "[2] The condition number is large, 2.17e+04. This might indicate that there are\n",
       "strong multicollinearity or other numerical problems.\n",
       "\"\"\""
      ]
     },
     "execution_count": 31,
     "metadata": {},
     "output_type": "execute_result"
    }
   ],
   "source": [
    "#Regression Model\n",
    "lm = sm.OLS(y_train, X_train).fit()\n",
    "lm.summary()"
   ]
  },
  {
   "cell_type": "code",
   "execution_count": 32,
   "id": "010cb833",
   "metadata": {},
   "outputs": [
    {
     "data": {
      "text/plain": [
       "<AxesSubplot:ylabel='Probability'>"
      ]
     },
     "execution_count": 32,
     "metadata": {},
     "output_type": "execute_result"
    },
    {
     "data": {
      "image/png": "[encoded data removed]",
      "text/plain": [
       "<Figure size 432x288 with 1 Axes>"
      ]
     },
     "metadata": {
      "needs_background": "light"
     },
     "output_type": "display_data"
    }
   ],
   "source": [
    "#Check Assumptions of Regression\n",
    "#Normality of residuals\n",
    "\n",
    "#Plot histogram of residuals\n",
    "sns.histplot(lm.resid, stat = 'probability', \n",
    "             kde = True, alpha = 0.7, color = 'green',\n",
    "             bins = np.linspace(min(lm.resid), max(lm.resid), 20))"
   ]
  },
  {
   "cell_type": "code",
   "execution_count": 33,
   "id": "38871aec",
   "metadata": {},
   "outputs": [
    {
     "name": "stdout",
     "output_type": "stream",
     "text": [
      "                            OLS Regression Results                            \n",
      "==============================================================================\n",
      "Dep. Variable:                 Salary   R-squared:                       0.551\n",
      "Model:                            OLS   Adj. R-squared:                  0.506\n",
      "Method:                 Least Squares   F-statistic:                     12.28\n",
      "Date:                Sun, 21 Aug 2022   Prob (F-statistic):           4.97e-24\n",
      "Time:                        23:17:42   Log-Likelihood:                -1504.0\n",
      "No. Observations:                 210   AIC:                             3048.\n",
      "Df Residuals:                     190   BIC:                             3115.\n",
      "Df Model:                          19                                         \n",
      "Covariance Type:            nonrobust                                         \n",
      "===============================================================================\n",
      "                  coef    std err          t      P>|t|      [0.025      0.975]\n",
      "-------------------------------------------------------------------------------\n",
      "const         184.2280    107.371      1.716      0.088     -27.565     396.021\n",
      "AtBat          -1.7540      0.751     -2.336      0.021      -3.235      -0.273\n",
      "Hits            6.5979      2.885      2.287      0.023       0.907      12.289\n",
      "HmRun           7.3090      7.597      0.962      0.337      -7.675      22.293\n",
      "Runs           -2.7338      3.582     -0.763      0.446      -9.799       4.332\n",
      "RBI            -1.3503      3.172     -0.426      0.671      -7.608       4.908\n",
      "Walks           5.4445      2.263      2.406      0.017       0.981       9.908\n",
      "Years          -6.5675     14.116     -0.465      0.642     -34.412      21.277\n",
      "CAtBat         -0.2467      0.172     -1.433      0.154      -0.586       0.093\n",
      "CHits           0.5802      0.895      0.648      0.518      -1.185       2.346\n",
      "CHmRun          0.0299      2.025      0.015      0.988      -3.965       4.025\n",
      "CRuns           1.4403      0.886      1.625      0.106      -0.308       3.189\n",
      "CRBI            0.3874      0.911      0.425      0.671      -1.409       2.184\n",
      "CWalks         -0.6119      0.410     -1.491      0.137      -1.421       0.197\n",
      "PutOuts         0.2961      0.094      3.141      0.002       0.110       0.482\n",
      "Assists         0.2956      0.249      1.187      0.237      -0.195       0.787\n",
      "Errors          0.7347      5.199      0.141      0.888      -9.520      10.990\n",
      "League_N        5.0153     97.960      0.051      0.959    -188.214     198.245\n",
      "Division_W   -134.5539     47.964     -2.805      0.006    -229.164     -39.944\n",
      "NewLeague_N    36.0810     98.757      0.365      0.715    -158.719     230.881\n",
      "==============================================================================\n",
      "Omnibus:                       71.108   Durbin-Watson:                   1.950\n",
      "Prob(Omnibus):                  0.000   Jarque-Bera (JB):              366.871\n",
      "Skew:                           1.201   Prob(JB):                     2.16e-80\n",
      "Kurtosis:                       9.013   Cond. No.                     2.17e+04\n",
      "==============================================================================\n",
      "\n",
      "Notes:\n",
      "[1] Standard Errors assume that the covariance matrix of the errors is correctly specified.\n",
      "[2] The condition number is large, 2.17e+04. This might indicate that there are\n",
      "strong multicollinearity or other numerical problems.\n"
     ]
    }
   ],
   "source": [
    "#Test for Skewness and Kurtosis\n",
    "#Good for sample size > 25\n",
    "\n",
    "#Jarque-Bera Test (Skewness = 0 ?)\n",
    "#H0: the data is normally distributed\n",
    "#p-value < 0.05 reject normality assumption\n",
    "\n",
    "#Omnibus K-squared normality test\n",
    "#The Omnibus test combines the random variables for Skewness and Kurtosis into a single test statistic\n",
    "#H0: the data is normally distributed\n",
    "#p-value < 0.05 reject normality assumption\n",
    "\n",
    "print(lm.summary())"
   ]
  },
  {
   "cell_type": "code",
   "execution_count": 34,
   "id": "ae23984f",
   "metadata": {},
   "outputs": [
    {
     "data": {
      "text/html": [
       "<table class=\"simpletable\">\n",
       "<caption>OLS Regression Results</caption>\n",
       "<tr>\n",
       "  <th>Dep. Variable:</th>         <td>Salary</td>      <th>  R-squared:         </th> <td>   0.330</td>\n",
       "</tr>\n",
       "<tr>\n",
       "  <th>Model:</th>                   <td>OLS</td>       <th>  Adj. R-squared:    </th> <td>   0.313</td>\n",
       "</tr>\n",
       "<tr>\n",
       "  <th>Method:</th>             <td>Least Squares</td>  <th>  F-statistic:       </th> <td>   20.05</td>\n",
       "</tr>\n",
       "<tr>\n",
       "  <th>Date:</th>             <td>Sun, 21 Aug 2022</td> <th>  Prob (F-statistic):</th> <td>3.00e-16</td>\n",
       "</tr>\n",
       "<tr>\n",
       "  <th>Time:</th>                 <td>23:17:42</td>     <th>  Log-Likelihood:    </th> <td> -1546.2</td>\n",
       "</tr>\n",
       "<tr>\n",
       "  <th>No. Observations:</th>      <td>   210</td>      <th>  AIC:               </th> <td>   3104.</td>\n",
       "</tr>\n",
       "<tr>\n",
       "  <th>Df Residuals:</th>          <td>   204</td>      <th>  BIC:               </th> <td>   3124.</td>\n",
       "</tr>\n",
       "<tr>\n",
       "  <th>Df Model:</th>              <td>     5</td>      <th>                     </th>     <td> </td>   \n",
       "</tr>\n",
       "<tr>\n",
       "  <th>Covariance Type:</th>      <td>nonrobust</td>    <th>                     </th>     <td> </td>   \n",
       "</tr>\n",
       "</table>\n",
       "<table class=\"simpletable\">\n",
       "<tr>\n",
       "       <td></td>         <th>coef</th>     <th>std err</th>      <th>t</th>      <th>P>|t|</th>  <th>[0.025</th>    <th>0.975]</th>  \n",
       "</tr>\n",
       "<tr>\n",
       "  <th>const</th>      <td>  174.4321</td> <td>   87.896</td> <td>    1.985</td> <td> 0.049</td> <td>    1.131</td> <td>  347.733</td>\n",
       "</tr>\n",
       "<tr>\n",
       "  <th>AtBat</th>      <td>   -1.6859</td> <td>    0.702</td> <td>   -2.400</td> <td> 0.017</td> <td>   -3.071</td> <td>   -0.301</td>\n",
       "</tr>\n",
       "<tr>\n",
       "  <th>Hits</th>       <td>    7.3574</td> <td>    2.169</td> <td>    3.391</td> <td> 0.001</td> <td>    3.080</td> <td>   11.635</td>\n",
       "</tr>\n",
       "<tr>\n",
       "  <th>Walks</th>      <td>    6.4162</td> <td>    1.569</td> <td>    4.089</td> <td> 0.000</td> <td>    3.322</td> <td>    9.510</td>\n",
       "</tr>\n",
       "<tr>\n",
       "  <th>PutOuts</th>    <td>    0.2851</td> <td>    0.104</td> <td>    2.751</td> <td> 0.006</td> <td>    0.081</td> <td>    0.489</td>\n",
       "</tr>\n",
       "<tr>\n",
       "  <th>Division_W</th> <td> -158.5226</td> <td>   54.000</td> <td>   -2.936</td> <td> 0.004</td> <td> -264.993</td> <td>  -52.052</td>\n",
       "</tr>\n",
       "</table>\n",
       "<table class=\"simpletable\">\n",
       "<tr>\n",
       "  <th>Omnibus:</th>       <td>61.603</td> <th>  Durbin-Watson:     </th> <td>   1.882</td>\n",
       "</tr>\n",
       "<tr>\n",
       "  <th>Prob(Omnibus):</th> <td> 0.000</td> <th>  Jarque-Bera (JB):  </th> <td> 172.411</td>\n",
       "</tr>\n",
       "<tr>\n",
       "  <th>Skew:</th>          <td> 1.249</td> <th>  Prob(JB):          </th> <td>3.64e-38</td>\n",
       "</tr>\n",
       "<tr>\n",
       "  <th>Kurtosis:</th>      <td> 6.670</td> <th>  Cond. No.          </th> <td>1.92e+03</td>\n",
       "</tr>\n",
       "</table><br/><br/>Notes:<br/>[1] Standard Errors assume that the covariance matrix of the errors is correctly specified.<br/>[2] The condition number is large, 1.92e+03. This might indicate that there are<br/>strong multicollinearity or other numerical problems."
      ],
      "text/plain": [
       "<class 'statsmodels.iolib.summary.Summary'>\n",
       "\"\"\"\n",
       "                            OLS Regression Results                            \n",
       "==============================================================================\n",
       "Dep. Variable:                 Salary   R-squared:                       0.330\n",
       "Model:                            OLS   Adj. R-squared:                  0.313\n",
       "Method:                 Least Squares   F-statistic:                     20.05\n",
       "Date:                Sun, 21 Aug 2022   Prob (F-statistic):           3.00e-16\n",
       "Time:                        23:17:42   Log-Likelihood:                -1546.2\n",
       "No. Observations:                 210   AIC:                             3104.\n",
       "Df Residuals:                     204   BIC:                             3124.\n",
       "Df Model:                           5                                         \n",
       "Covariance Type:            nonrobust                                         \n",
       "==============================================================================\n",
       "                 coef    std err          t      P>|t|      [0.025      0.975]\n",
       "------------------------------------------------------------------------------\n",
       "const        174.4321     87.896      1.985      0.049       1.131     347.733\n",
       "AtBat         -1.6859      0.702     -2.400      0.017      -3.071      -0.301\n",
       "Hits           7.3574      2.169      3.391      0.001       3.080      11.635\n",
       "Walks          6.4162      1.569      4.089      0.000       3.322       9.510\n",
       "PutOuts        0.2851      0.104      2.751      0.006       0.081       0.489\n",
       "Division_W  -158.5226     54.000     -2.936      0.004    -264.993     -52.052\n",
       "==============================================================================\n",
       "Omnibus:                       61.603   Durbin-Watson:                   1.882\n",
       "Prob(Omnibus):                  0.000   Jarque-Bera (JB):              172.411\n",
       "Skew:                           1.249   Prob(JB):                     3.64e-38\n",
       "Kurtosis:                       6.670   Cond. No.                     1.92e+03\n",
       "==============================================================================\n",
       "\n",
       "Notes:\n",
       "[1] Standard Errors assume that the covariance matrix of the errors is correctly specified.\n",
       "[2] The condition number is large, 1.92e+03. This might indicate that there are\n",
       "strong multicollinearity or other numerical problems.\n",
       "\"\"\""
      ]
     },
     "execution_count": 34,
     "metadata": {},
     "output_type": "execute_result"
    }
   ],
   "source": [
    "#Regression Model based on t-test results\n",
    "lm = sm.OLS(y_train, X_train[['const', 'AtBat', 'Hits','Walks','PutOuts', 'Division_W']]).fit()\n",
    "lm.summary()"
   ]
  },
  {
   "cell_type": "code",
   "execution_count": 35,
   "id": "8580129a",
   "metadata": {},
   "outputs": [
    {
     "data": {
      "text/html": [
       "<div>\n",
       "<style scoped>\n",
       "    .dataframe tbody tr th:only-of-type {\n",
       "        vertical-align: middle;\n",
       "    }\n",
       "\n",
       "    .dataframe tbody tr th {\n",
       "        vertical-align: top;\n",
       "    }\n",
       "\n",
       "    .dataframe thead th {\n",
       "        text-align: right;\n",
       "    }\n",
       "</style>\n",
       "<table border=\"1\" class=\"dataframe\">\n",
       "  <thead>\n",
       "    <tr style=\"text-align: right;\">\n",
       "      <th></th>\n",
       "      <th>AtBat</th>\n",
       "      <th>Hits</th>\n",
       "      <th>HmRun</th>\n",
       "      <th>Runs</th>\n",
       "      <th>RBI</th>\n",
       "      <th>Walks</th>\n",
       "      <th>Years</th>\n",
       "      <th>CAtBat</th>\n",
       "      <th>CHits</th>\n",
       "      <th>CHmRun</th>\n",
       "      <th>CRuns</th>\n",
       "      <th>CRBI</th>\n",
       "      <th>CWalks</th>\n",
       "      <th>League</th>\n",
       "      <th>Division</th>\n",
       "      <th>PutOuts</th>\n",
       "      <th>Assists</th>\n",
       "      <th>Errors</th>\n",
       "      <th>Salary</th>\n",
       "      <th>NewLeague</th>\n",
       "    </tr>\n",
       "  </thead>\n",
       "  <tbody>\n",
       "    <tr>\n",
       "      <th>295</th>\n",
       "      <td>19</td>\n",
       "      <td>4</td>\n",
       "      <td>1</td>\n",
       "      <td>2</td>\n",
       "      <td>3</td>\n",
       "      <td>1</td>\n",
       "      <td>1</td>\n",
       "      <td>19</td>\n",
       "      <td>4</td>\n",
       "      <td>1</td>\n",
       "      <td>2</td>\n",
       "      <td>3</td>\n",
       "      <td>1</td>\n",
       "      <td>N</td>\n",
       "      <td>W</td>\n",
       "      <td>692</td>\n",
       "      <td>70</td>\n",
       "      <td>8</td>\n",
       "      <td>920.0</td>\n",
       "      <td>A</td>\n",
       "    </tr>\n",
       "    <tr>\n",
       "      <th>132</th>\n",
       "      <td>278</td>\n",
       "      <td>70</td>\n",
       "      <td>7</td>\n",
       "      <td>22</td>\n",
       "      <td>37</td>\n",
       "      <td>18</td>\n",
       "      <td>18</td>\n",
       "      <td>7186</td>\n",
       "      <td>2081</td>\n",
       "      <td>190</td>\n",
       "      <td>935</td>\n",
       "      <td>1088</td>\n",
       "      <td>643</td>\n",
       "      <td>A</td>\n",
       "      <td>W</td>\n",
       "      <td>0</td>\n",
       "      <td>0</td>\n",
       "      <td>0</td>\n",
       "      <td>325.0</td>\n",
       "      <td>A</td>\n",
       "    </tr>\n",
       "    <tr>\n",
       "      <th>137</th>\n",
       "      <td>343</td>\n",
       "      <td>103</td>\n",
       "      <td>6</td>\n",
       "      <td>48</td>\n",
       "      <td>36</td>\n",
       "      <td>40</td>\n",
       "      <td>15</td>\n",
       "      <td>4338</td>\n",
       "      <td>1193</td>\n",
       "      <td>70</td>\n",
       "      <td>581</td>\n",
       "      <td>421</td>\n",
       "      <td>325</td>\n",
       "      <td>A</td>\n",
       "      <td>E</td>\n",
       "      <td>211</td>\n",
       "      <td>56</td>\n",
       "      <td>13</td>\n",
       "      <td>430.0</td>\n",
       "      <td>A</td>\n",
       "    </tr>\n",
       "    <tr>\n",
       "      <th>268</th>\n",
       "      <td>549</td>\n",
       "      <td>149</td>\n",
       "      <td>7</td>\n",
       "      <td>73</td>\n",
       "      <td>47</td>\n",
       "      <td>42</td>\n",
       "      <td>1</td>\n",
       "      <td>549</td>\n",
       "      <td>149</td>\n",
       "      <td>7</td>\n",
       "      <td>73</td>\n",
       "      <td>47</td>\n",
       "      <td>42</td>\n",
       "      <td>N</td>\n",
       "      <td>W</td>\n",
       "      <td>255</td>\n",
       "      <td>450</td>\n",
       "      <td>17</td>\n",
       "      <td>140.0</td>\n",
       "      <td>N</td>\n",
       "    </tr>\n",
       "    <tr>\n",
       "      <th>239</th>\n",
       "      <td>309</td>\n",
       "      <td>72</td>\n",
       "      <td>0</td>\n",
       "      <td>33</td>\n",
       "      <td>31</td>\n",
       "      <td>26</td>\n",
       "      <td>5</td>\n",
       "      <td>354</td>\n",
       "      <td>82</td>\n",
       "      <td>0</td>\n",
       "      <td>41</td>\n",
       "      <td>32</td>\n",
       "      <td>26</td>\n",
       "      <td>N</td>\n",
       "      <td>E</td>\n",
       "      <td>117</td>\n",
       "      <td>269</td>\n",
       "      <td>12</td>\n",
       "      <td>130.0</td>\n",
       "      <td>N</td>\n",
       "    </tr>\n",
       "  </tbody>\n",
       "</table>\n",
       "</div>"
      ],
      "text/plain": [
       "     AtBat  Hits  HmRun  Runs  RBI  Walks  Years  CAtBat  CHits  CHmRun  \\\n",
       "295     19     4      1     2    3      1      1      19      4       1   \n",
       "132    278    70      7    22   37     18     18    7186   2081     190   \n",
       "137    343   103      6    48   36     40     15    4338   1193      70   \n",
       "268    549   149      7    73   47     42      1     549    149       7   \n",
       "239    309    72      0    33   31     26      5     354     82       0   \n",
       "\n",
       "     CRuns  CRBI  CWalks League Division  PutOuts  Assists  Errors  Salary  \\\n",
       "295      2     3       1      N        W      692       70       8   920.0   \n",
       "132    935  1088     643      A        W        0        0       0   325.0   \n",
       "137    581   421     325      A        E      211       56      13   430.0   \n",
       "268     73    47      42      N        W      255      450      17   140.0   \n",
       "239     41    32      26      N        E      117      269      12   130.0   \n",
       "\n",
       "    NewLeague  \n",
       "295         A  \n",
       "132         A  \n",
       "137         A  \n",
       "268         N  \n",
       "239         N  "
      ]
     },
     "execution_count": 35,
     "metadata": {},
     "output_type": "execute_result"
    }
   ],
   "source": [
    "test.head()"
   ]
  },
  {
   "cell_type": "code",
   "execution_count": 36,
   "id": "6761c874",
   "metadata": {},
   "outputs": [],
   "source": [
    "#Create dummies for columns with categorical variables\n",
    "dummies = pd.get_dummies(test[['League', 'Division', 'NewLeague']])\n",
    "\n",
    "#Define the feature set X \n",
    "X_ = test.drop(['Salary', 'League', 'Division', 'NewLeague'], axis = 1)\n",
    "X_test = pd.concat([X_, dummies[['League_N', 'Division_W', 'NewLeague_N']]], axis = 1)\n",
    "X_test = sm.add_constant(X_test) # adding a constant\n",
    "\n",
    "#Define response variable\n",
    "y_test = test['Salary']"
   ]
  },
  {
   "cell_type": "code",
   "execution_count": 37,
   "id": "d8e6bfa0",
   "metadata": {},
   "outputs": [],
   "source": [
    "pred_lm = lm.predict(X_test[['const', 'AtBat', 'Hits','Walks','PutOuts', 'Division_W']])"
   ]
  },
  {
   "cell_type": "code",
   "execution_count": 38,
   "id": "a115da5e",
   "metadata": {},
   "outputs": [],
   "source": [
    "#Absolute error\n",
    "abs_err_lm = abs(y_test - pred_lm)"
   ]
  },
  {
   "cell_type": "code",
   "execution_count": 39,
   "id": "0f90515f",
   "metadata": {},
   "outputs": [
    {
     "data": {
      "text/html": [
       "<div>\n",
       "<style scoped>\n",
       "    .dataframe tbody tr th:only-of-type {\n",
       "        vertical-align: middle;\n",
       "    }\n",
       "\n",
       "    .dataframe tbody tr th {\n",
       "        vertical-align: top;\n",
       "    }\n",
       "\n",
       "    .dataframe thead th {\n",
       "        text-align: right;\n",
       "    }\n",
       "</style>\n",
       "<table border=\"1\" class=\"dataframe\">\n",
       "  <thead>\n",
       "    <tr style=\"text-align: right;\">\n",
       "      <th></th>\n",
       "      <th>Mean of AbsErrors</th>\n",
       "      <th>Median of AbsErrors</th>\n",
       "      <th>SD of AbsErrors</th>\n",
       "    </tr>\n",
       "  </thead>\n",
       "  <tbody>\n",
       "    <tr>\n",
       "      <th>LM_t-test</th>\n",
       "      <td>257.945587</td>\n",
       "      <td>212.049049</td>\n",
       "      <td>221.127374</td>\n",
       "    </tr>\n",
       "  </tbody>\n",
       "</table>\n",
       "</div>"
      ],
      "text/plain": [
       "           Mean of AbsErrors  Median of AbsErrors  SD of AbsErrors\n",
       "LM_t-test         257.945587           212.049049       221.127374"
      ]
     },
     "execution_count": 39,
     "metadata": {},
     "output_type": "execute_result"
    }
   ],
   "source": [
    "model_comp = pd.DataFrame({'Mean of AbsErrors':    abs_err_lm.mean(),\n",
    "                           'Median of AbsErrors' : abs_err_lm.median(),\n",
    "                           'SD of AbsErrors' :     abs_err_lm.std()}, index = ['LM_t-test'])\n",
    "model_comp"
   ]
  },
  {
   "cell_type": "code",
   "execution_count": 40,
   "id": "9fbe517d",
   "metadata": {},
   "outputs": [
    {
     "data": {
      "text/plain": [
       "[<matplotlib.lines.Line2D at 0x1bd1ed05550>]"
      ]
     },
     "execution_count": 40,
     "metadata": {},
     "output_type": "execute_result"
    },
    {
     "data": {
      "image/png": "[encoded data removed]",
      "text/plain": [
       "<Figure size 432x288 with 1 Axes>"
      ]
     },
     "metadata": {
      "needs_background": "light"
     },
     "output_type": "display_data"
    }
   ],
   "source": [
    "#Actual vs. Prediction\n",
    "plt.scatter(x = y_test, y = pred_lm)\n",
    "plt.xlabel('Actual')\n",
    "plt.ylabel('Prediction')\n",
    "plt.title('Actual vs. Prediction')\n",
    "\n",
    "#Add 45 degree line\n",
    "xp = np.linspace(y_test.min(), y_test.max(), 100)\n",
    "plt.plot(xp, xp, 'k', alpha = 0.9, linewidth = 2, color = 'red')"
   ]
  },
  {
   "cell_type": "markdown",
   "id": "379a36f9",
   "metadata": {},
   "source": [
    "## Decision Tree"
   ]
  },
  {
   "cell_type": "code",
   "execution_count": 41,
   "id": "a328f510",
   "metadata": {},
   "outputs": [],
   "source": [
    "from sklearn.tree import DecisionTreeRegressor"
   ]
  },
  {
   "cell_type": "code",
   "execution_count": 42,
   "id": "72449d72",
   "metadata": {},
   "outputs": [],
   "source": [
    "reg_tree = DecisionTreeRegressor(max_depth = 4, min_samples_leaf = 5)"
   ]
  },
  {
   "cell_type": "code",
   "execution_count": 43,
   "id": "48760393",
   "metadata": {},
   "outputs": [],
   "source": [
    "tree_res = reg_tree.fit(X_train[['Years', 'Hits', 'League_N']], y_train)"
   ]
  },
  {
   "cell_type": "code",
   "execution_count": 44,
   "id": "084db1a3",
   "metadata": {},
   "outputs": [
    {
     "data": {
      "text/plain": [
       "[Text(697.5, 978.48, 'Hits <= 117.5\\nmse = 216913.682\\nsamples = 210\\nvalue = 562.288'),\n",
       " Text(295.09615384615387, 761.0400000000001, 'Years <= 6.5\\nmse = 91786.873\\nsamples = 118\\nvalue = 358.871'),\n",
       " Text(107.3076923076923, 543.6, 'Hits <= 44.5\\nmse = 76520.362\\nsamples = 65\\nvalue = 231.028'),\n",
       " Text(53.65384615384615, 326.1600000000001, 'mse = 643568.924\\nsamples = 5\\nvalue = 524.467'),\n",
       " Text(160.96153846153845, 326.1600000000001, 'Years <= 3.5\\nmse = 21492.849\\nsamples = 60\\nvalue = 206.575'),\n",
       " Text(107.3076923076923, 108.72000000000003, 'mse = 2128.925\\nsamples = 30\\nvalue = 110.183'),\n",
       " Text(214.6153846153846, 108.72000000000003, 'mse = 22274.066\\nsamples = 30\\nvalue = 302.967'),\n",
       " Text(482.88461538461536, 543.6, 'Hits <= 90.5\\nmse = 65882.776\\nsamples = 53\\nvalue = 515.66'),\n",
       " Text(375.5769230769231, 326.1600000000001, 'League_N <= 0.5\\nmse = 59045.995\\nsamples = 37\\nvalue = 455.608'),\n",
       " Text(321.9230769230769, 108.72000000000003, 'mse = 12268.507\\nsamples = 16\\nvalue = 360.677'),\n",
       " Text(429.2307692307692, 108.72000000000003, 'mse = 82588.384\\nsamples = 21\\nvalue = 527.937'),\n",
       " Text(590.1923076923077, 326.1600000000001, 'Years <= 11.0\\nmse = 54068.21\\nsamples = 16\\nvalue = 654.531'),\n",
       " Text(536.5384615384615, 108.72000000000003, 'mse = 58032.446\\nsamples = 8\\nvalue = 554.583'),\n",
       " Text(643.8461538461538, 108.72000000000003, 'mse = 30124.817\\nsamples = 8\\nvalue = 754.479'),\n",
       " Text(1099.9038461538462, 761.0400000000001, 'Years <= 4.5\\nmse = 256258.96\\nsamples = 92\\nvalue = 823.193'),\n",
       " Text(912.1153846153846, 543.6, 'Years <= 3.5\\nmse = 70263.137\\nsamples = 20\\nvalue = 353.725'),\n",
       " Text(804.8076923076923, 326.1600000000001, 'Years <= 2.5\\nmse = 9938.923\\nsamples = 10\\nvalue = 233.95'),\n",
       " Text(751.1538461538462, 108.72000000000003, 'mse = 233.64\\nsamples = 5\\nvalue = 172.9'),\n",
       " Text(858.4615384615385, 108.72000000000003, 'mse = 12190.0\\nsamples = 5\\nvalue = 295.0'),\n",
       " Text(1019.4230769230769, 326.1600000000001, 'Hits <= 159.0\\nmse = 101895.25\\nsamples = 10\\nvalue = 473.5'),\n",
       " Text(965.7692307692307, 108.72000000000003, 'mse = 155650.0\\nsamples = 5\\nvalue = 510.0'),\n",
       " Text(1073.076923076923, 108.72000000000003, 'mse = 45476.0\\nsamples = 5\\nvalue = 437.0'),\n",
       " Text(1287.6923076923076, 543.6, 'Hits <= 185.0\\nmse = 229696.068\\nsamples = 72\\nvalue = 953.601'),\n",
       " Text(1234.0384615384614, 326.1600000000001, 'Years <= 5.5\\nmse = 182812.466\\nsamples = 65\\nvalue = 913.334'),\n",
       " Text(1180.3846153846155, 108.72000000000003, 'mse = 11565.561\\nsamples = 7\\nvalue = 616.786'),\n",
       " Text(1287.6923076923076, 108.72000000000003, 'mse = 191585.661\\nsamples = 58\\nvalue = 949.125'),\n",
       " Text(1341.3461538461538, 326.1600000000001, 'mse = 510187.5\\nsamples = 7\\nvalue = 1327.5')]"
      ]
     },
     "execution_count": 44,
     "metadata": {},
     "output_type": "execute_result"
    },
    {
     "data": {
      "image/png": "[encoded data removed]",
      "text/plain": [
       "<Figure size 1800x1440 with 1 Axes>"
      ]
     },
     "metadata": {
      "needs_background": "light"
     },
     "output_type": "display_data"
    }
   ],
   "source": [
    "#Plot the Tree\n",
    "from sklearn.tree import plot_tree\n",
    "fig = plt.figure(figsize = (25, 20))\n",
    "plot_tree(tree_res, feature_names = ['Years', 'Hits', 'League_N'])"
   ]
  },
  {
   "cell_type": "code",
   "execution_count": 45,
   "id": "71720a91",
   "metadata": {},
   "outputs": [
    {
     "data": {
      "text/plain": [
       "array([524.4666    , 360.677125  , 754.479125  , 172.9       ,\n",
       "       302.96666667, 616.78571429, 949.12477586, 949.12477586,\n",
       "       172.9       , 527.93652381, 172.9       , 949.12477586,\n",
       "       295.        , 949.12477586, 527.93652381, 110.18333333,\n",
       "       302.96666667, 510.        , 524.4666    , 110.18333333,\n",
       "       110.18333333, 302.96666667, 110.18333333, 302.96666667,\n",
       "       949.12477586, 510.        , 302.96666667, 754.479125  ,\n",
       "       295.        , 554.583375  , 527.93652381, 524.4666    ,\n",
       "       302.96666667, 302.96666667, 110.18333333, 302.96666667,\n",
       "       949.12477586, 110.18333333, 110.18333333, 949.12477586,\n",
       "       360.677125  , 360.677125  , 949.12477586, 949.12477586,\n",
       "       302.96666667, 302.96666667, 524.4666    , 302.96666667,\n",
       "       295.        , 527.93652381, 172.9       , 949.12477586,\n",
       "       360.677125  ])"
      ]
     },
     "execution_count": 45,
     "metadata": {},
     "output_type": "execute_result"
    }
   ],
   "source": [
    "pred_tree = tree_res.predict(X_test[['Years', 'Hits', 'League_N']])\n",
    "pred_tree"
   ]
  },
  {
   "cell_type": "code",
   "execution_count": 46,
   "id": "35be9d8c",
   "metadata": {},
   "outputs": [],
   "source": [
    "#Absolute error\n",
    "abs_err_tree = abs(y_test - pred_tree)"
   ]
  },
  {
   "cell_type": "code",
   "execution_count": 47,
   "id": "f251c561",
   "metadata": {},
   "outputs": [
    {
     "data": {
      "text/html": [
       "<div>\n",
       "<style scoped>\n",
       "    .dataframe tbody tr th:only-of-type {\n",
       "        vertical-align: middle;\n",
       "    }\n",
       "\n",
       "    .dataframe tbody tr th {\n",
       "        vertical-align: top;\n",
       "    }\n",
       "\n",
       "    .dataframe thead th {\n",
       "        text-align: right;\n",
       "    }\n",
       "</style>\n",
       "<table border=\"1\" class=\"dataframe\">\n",
       "  <thead>\n",
       "    <tr style=\"text-align: right;\">\n",
       "      <th></th>\n",
       "      <th>Mean of AbsErrors</th>\n",
       "      <th>Median of AbsErrors</th>\n",
       "      <th>SD of AbsErrors</th>\n",
       "    </tr>\n",
       "  </thead>\n",
       "  <tbody>\n",
       "    <tr>\n",
       "      <th>LM_t-test</th>\n",
       "      <td>257.945587</td>\n",
       "      <td>212.049049</td>\n",
       "      <td>221.127374</td>\n",
       "    </tr>\n",
       "    <tr>\n",
       "      <th>Decision Tree Reg</th>\n",
       "      <td>174.110764</td>\n",
       "      <td>120.000000</td>\n",
       "      <td>180.666873</td>\n",
       "    </tr>\n",
       "  </tbody>\n",
       "</table>\n",
       "</div>"
      ],
      "text/plain": [
       "                   Mean of AbsErrors  Median of AbsErrors  SD of AbsErrors\n",
       "LM_t-test                 257.945587           212.049049       221.127374\n",
       "Decision Tree Reg         174.110764           120.000000       180.666873"
      ]
     },
     "execution_count": 47,
     "metadata": {},
     "output_type": "execute_result"
    }
   ],
   "source": [
    "model_comp = model_comp.append(pd.DataFrame({'Mean of AbsErrors':    abs_err_tree.mean(),\n",
    "                                             'Median of AbsErrors' : abs_err_tree.median(),\n",
    "                                             'SD of AbsErrors' :     abs_err_tree.std(),}, \n",
    "                                            index = ['Decision Tree Reg']))\n",
    "\n",
    "model_comp"
   ]
  },
  {
   "cell_type": "code",
   "execution_count": 48,
   "id": "674afbe9",
   "metadata": {},
   "outputs": [
    {
     "data": {
      "text/plain": [
       "[<matplotlib.lines.Line2D at 0x1bd1fe7c358>]"
      ]
     },
     "execution_count": 48,
     "metadata": {},
     "output_type": "execute_result"
    },
    {
     "data": {
      "image/png": "[encoded data removed]",
      "text/plain": [
       "<Figure size 432x288 with 1 Axes>"
      ]
     },
     "metadata": {
      "needs_background": "light"
     },
     "output_type": "display_data"
    }
   ],
   "source": [
    "#Actual vs. Prediction\n",
    "plt.scatter(x = y_test, y = pred_tree)\n",
    "plt.xlabel('Actual')\n",
    "plt.ylabel('Prediction')\n",
    "plt.title('Actual vs. Prediction')\n",
    "\n",
    "#Add 45 degree line\n",
    "xp = np.linspace(y_test.min(), y_test.max(), 100)\n",
    "plt.plot(xp, xp, alpha = 0.9, linewidth = 2, color = 'red')"
   ]
  },
  {
   "cell_type": "code",
   "execution_count": 49,
   "id": "5f666f6a",
   "metadata": {},
   "outputs": [
    {
     "name": "stdout",
     "output_type": "stream",
     "text": [
      "2\n"
     ]
    }
   ],
   "source": [
    "from sklearn.decomposition import PCA\n",
    "pca = PCA(.98)\n",
    "train_pca =  pca.fit_transform(train.iloc[ :,var_ind])\n",
    "# To get how many principal components was chosen\n",
    "print(pca.n_components_)"
   ]
  },
  {
   "cell_type": "code",
   "execution_count": 50,
   "id": "dc7d1da2",
   "metadata": {},
   "outputs": [
    {
     "data": {
      "text/plain": [
       "(210, 16)"
      ]
     },
     "execution_count": 50,
     "metadata": {},
     "output_type": "execute_result"
    }
   ],
   "source": [
    "train.iloc[ :,var_ind].shape"
   ]
  },
  {
   "cell_type": "code",
   "execution_count": 51,
   "id": "3b7c97eb",
   "metadata": {},
   "outputs": [
    {
     "name": "stdout",
     "output_type": "stream",
     "text": [
      "0.9862615409503682\n"
     ]
    }
   ],
   "source": [
    "print(np.sum(pca.explained_variance_ratio_))"
   ]
  },
  {
   "cell_type": "code",
   "execution_count": 52,
   "id": "c8037e4a",
   "metadata": {},
   "outputs": [],
   "source": [
    "# Transform test set\n",
    "test_pca = pca.transform(test.iloc[ :,var_ind])"
   ]
  },
  {
   "cell_type": "code",
   "execution_count": 53,
   "id": "936bba41",
   "metadata": {},
   "outputs": [
    {
     "name": "stdout",
     "output_type": "stream",
     "text": [
      "(210, 2)\n",
      "(53, 2)\n"
     ]
    }
   ],
   "source": [
    "print(train_pca.shape)\n",
    "print(test_pca.shape)"
   ]
  },
  {
   "cell_type": "code",
   "execution_count": 54,
   "id": "3f514040",
   "metadata": {},
   "outputs": [],
   "source": [
    "#Add constant\n",
    "train_pca = sm.add_constant(train_pca) \n",
    "test_pca = sm.add_constant(test_pca)"
   ]
  },
  {
   "cell_type": "code",
   "execution_count": 55,
   "id": "79a2cf8f",
   "metadata": {},
   "outputs": [
    {
     "data": {
      "text/html": [
       "<table class=\"simpletable\">\n",
       "<caption>OLS Regression Results</caption>\n",
       "<tr>\n",
       "  <th>Dep. Variable:</th>         <td>Salary</td>      <th>  R-squared:         </th> <td>   0.390</td>\n",
       "</tr>\n",
       "<tr>\n",
       "  <th>Model:</th>                   <td>OLS</td>       <th>  Adj. R-squared:    </th> <td>   0.384</td>\n",
       "</tr>\n",
       "<tr>\n",
       "  <th>Method:</th>             <td>Least Squares</td>  <th>  F-statistic:       </th> <td>   66.18</td>\n",
       "</tr>\n",
       "<tr>\n",
       "  <th>Date:</th>             <td>Sun, 21 Aug 2022</td> <th>  Prob (F-statistic):</th> <td>6.02e-23</td>\n",
       "</tr>\n",
       "<tr>\n",
       "  <th>Time:</th>                 <td>23:17:43</td>     <th>  Log-Likelihood:    </th> <td> -1536.2</td>\n",
       "</tr>\n",
       "<tr>\n",
       "  <th>No. Observations:</th>      <td>   210</td>      <th>  AIC:               </th> <td>   3078.</td>\n",
       "</tr>\n",
       "<tr>\n",
       "  <th>Df Residuals:</th>          <td>   207</td>      <th>  BIC:               </th> <td>   3089.</td>\n",
       "</tr>\n",
       "<tr>\n",
       "  <th>Df Model:</th>              <td>     2</td>      <th>                     </th>     <td> </td>   \n",
       "</tr>\n",
       "<tr>\n",
       "  <th>Covariance Type:</th>      <td>nonrobust</td>    <th>                     </th>     <td> </td>   \n",
       "</tr>\n",
       "</table>\n",
       "<table class=\"simpletable\">\n",
       "<tr>\n",
       "    <td></td>       <th>coef</th>     <th>std err</th>      <th>t</th>      <th>P>|t|</th>  <th>[0.025</th>    <th>0.975]</th>  \n",
       "</tr>\n",
       "<tr>\n",
       "  <th>const</th> <td>  562.2884</td> <td>   25.282</td> <td>   22.241</td> <td> 0.000</td> <td>  512.445</td> <td>  612.132</td>\n",
       "</tr>\n",
       "<tr>\n",
       "  <th>x1</th>    <td>    0.1140</td> <td>    0.011</td> <td>   10.175</td> <td> 0.000</td> <td>    0.092</td> <td>    0.136</td>\n",
       "</tr>\n",
       "<tr>\n",
       "  <th>x2</th>    <td>    0.4824</td> <td>    0.090</td> <td>    5.369</td> <td> 0.000</td> <td>    0.305</td> <td>    0.659</td>\n",
       "</tr>\n",
       "</table>\n",
       "<table class=\"simpletable\">\n",
       "<tr>\n",
       "  <th>Omnibus:</th>       <td>84.539</td> <th>  Durbin-Watson:     </th> <td>   2.127</td>\n",
       "</tr>\n",
       "<tr>\n",
       "  <th>Prob(Omnibus):</th> <td> 0.000</td> <th>  Jarque-Bera (JB):  </th> <td> 351.584</td>\n",
       "</tr>\n",
       "<tr>\n",
       "  <th>Skew:</th>          <td> 1.570</td> <th>  Prob(JB):          </th> <td>4.51e-77</td>\n",
       "</tr>\n",
       "<tr>\n",
       "  <th>Kurtosis:</th>      <td> 8.507</td> <th>  Cond. No.          </th> <td>2.26e+03</td>\n",
       "</tr>\n",
       "</table><br/><br/>Notes:<br/>[1] Standard Errors assume that the covariance matrix of the errors is correctly specified.<br/>[2] The condition number is large, 2.26e+03. This might indicate that there are<br/>strong multicollinearity or other numerical problems."
      ],
      "text/plain": [
       "<class 'statsmodels.iolib.summary.Summary'>\n",
       "\"\"\"\n",
       "                            OLS Regression Results                            \n",
       "==============================================================================\n",
       "Dep. Variable:                 Salary   R-squared:                       0.390\n",
       "Model:                            OLS   Adj. R-squared:                  0.384\n",
       "Method:                 Least Squares   F-statistic:                     66.18\n",
       "Date:                Sun, 21 Aug 2022   Prob (F-statistic):           6.02e-23\n",
       "Time:                        23:17:43   Log-Likelihood:                -1536.2\n",
       "No. Observations:                 210   AIC:                             3078.\n",
       "Df Residuals:                     207   BIC:                             3089.\n",
       "Df Model:                           2                                         \n",
       "Covariance Type:            nonrobust                                         \n",
       "==============================================================================\n",
       "                 coef    std err          t      P>|t|      [0.025      0.975]\n",
       "------------------------------------------------------------------------------\n",
       "const        562.2884     25.282     22.241      0.000     512.445     612.132\n",
       "x1             0.1140      0.011     10.175      0.000       0.092       0.136\n",
       "x2             0.4824      0.090      5.369      0.000       0.305       0.659\n",
       "==============================================================================\n",
       "Omnibus:                       84.539   Durbin-Watson:                   2.127\n",
       "Prob(Omnibus):                  0.000   Jarque-Bera (JB):              351.584\n",
       "Skew:                           1.570   Prob(JB):                     4.51e-77\n",
       "Kurtosis:                       8.507   Cond. No.                     2.26e+03\n",
       "==============================================================================\n",
       "\n",
       "Notes:\n",
       "[1] Standard Errors assume that the covariance matrix of the errors is correctly specified.\n",
       "[2] The condition number is large, 2.26e+03. This might indicate that there are\n",
       "strong multicollinearity or other numerical problems.\n",
       "\"\"\""
      ]
     },
     "execution_count": 55,
     "metadata": {},
     "output_type": "execute_result"
    }
   ],
   "source": [
    "#Regression Model\n",
    "lm_pca = sm.OLS(y_train, train_pca).fit()\n",
    "lm_pca.summary()"
   ]
  },
  {
   "cell_type": "code",
   "execution_count": 56,
   "id": "2575d6aa",
   "metadata": {},
   "outputs": [
    {
     "data": {
      "text/plain": [
       "<AxesSubplot:ylabel='Probability'>"
      ]
     },
     "execution_count": 56,
     "metadata": {},
     "output_type": "execute_result"
    },
    {
     "data": {
      "image/png": "[encoded data removed]",
      "text/plain": [
       "<Figure size 432x288 with 1 Axes>"
      ]
     },
     "metadata": {
      "needs_background": "light"
     },
     "output_type": "display_data"
    }
   ],
   "source": [
    "#Normality of residuals\n",
    "\n",
    "#Plot histogram of residuals\n",
    "sns.histplot(lm_pca.resid, stat = 'probability' ,\n",
    "            kde = True, alpha = 0.7, color = 'green',\n",
    "             bins = np.linspace(min(lm_pca.resid), max(lm_pca.resid), 20))"
   ]
  },
  {
   "cell_type": "code",
   "execution_count": 57,
   "id": "f52cdb54",
   "metadata": {},
   "outputs": [],
   "source": [
    "pred_lm_pca = lm_pca.predict(test_pca)"
   ]
  },
  {
   "cell_type": "code",
   "execution_count": 58,
   "id": "7c81e50d",
   "metadata": {},
   "outputs": [],
   "source": [
    "#Absolute error\n",
    "abs_err_lm_pca = abs(y_test - pred_lm_pca)"
   ]
  },
  {
   "cell_type": "code",
   "execution_count": 59,
   "id": "a69de47b",
   "metadata": {},
   "outputs": [
    {
     "data": {
      "text/html": [
       "<div>\n",
       "<style scoped>\n",
       "    .dataframe tbody tr th:only-of-type {\n",
       "        vertical-align: middle;\n",
       "    }\n",
       "\n",
       "    .dataframe tbody tr th {\n",
       "        vertical-align: top;\n",
       "    }\n",
       "\n",
       "    .dataframe thead th {\n",
       "        text-align: right;\n",
       "    }\n",
       "</style>\n",
       "<table border=\"1\" class=\"dataframe\">\n",
       "  <thead>\n",
       "    <tr style=\"text-align: right;\">\n",
       "      <th></th>\n",
       "      <th>Mean of AbsErrors</th>\n",
       "      <th>Median of AbsErrors</th>\n",
       "      <th>SD of AbsErrors</th>\n",
       "    </tr>\n",
       "  </thead>\n",
       "  <tbody>\n",
       "    <tr>\n",
       "      <th>LM_t-test</th>\n",
       "      <td>257.945587</td>\n",
       "      <td>212.049049</td>\n",
       "      <td>221.127374</td>\n",
       "    </tr>\n",
       "    <tr>\n",
       "      <th>Decision Tree Reg</th>\n",
       "      <td>174.110764</td>\n",
       "      <td>120.000000</td>\n",
       "      <td>180.666873</td>\n",
       "    </tr>\n",
       "    <tr>\n",
       "      <th>LM-PCA</th>\n",
       "      <td>234.410575</td>\n",
       "      <td>143.898445</td>\n",
       "      <td>244.681134</td>\n",
       "    </tr>\n",
       "  </tbody>\n",
       "</table>\n",
       "</div>"
      ],
      "text/plain": [
       "                   Mean of AbsErrors  Median of AbsErrors  SD of AbsErrors\n",
       "LM_t-test                 257.945587           212.049049       221.127374\n",
       "Decision Tree Reg         174.110764           120.000000       180.666873\n",
       "LM-PCA                    234.410575           143.898445       244.681134"
      ]
     },
     "execution_count": 59,
     "metadata": {},
     "output_type": "execute_result"
    }
   ],
   "source": [
    "model_comp = model_comp.append(pd.DataFrame({'Mean of AbsErrors':    abs_err_lm_pca.mean(),\n",
    "                                             'Median of AbsErrors' : abs_err_lm_pca.median(),\n",
    "                                             'SD of AbsErrors' :     abs_err_lm_pca.std(),}, \n",
    "                                            index = ['LM-PCA']))\n",
    "\n",
    "model_comp"
   ]
  },
  {
   "cell_type": "code",
   "execution_count": 60,
   "id": "31d5d1fa",
   "metadata": {},
   "outputs": [
    {
     "data": {
      "text/plain": [
       "[<matplotlib.lines.Line2D at 0x1bd20250cc0>]"
      ]
     },
     "execution_count": 60,
     "metadata": {},
     "output_type": "execute_result"
    },
    {
     "data": {
      "image/png": "[encoded data removed]",
      "text/plain": [
       "<Figure size 432x288 with 1 Axes>"
      ]
     },
     "metadata": {
      "needs_background": "light"
     },
     "output_type": "display_data"
    }
   ],
   "source": [
    "#Actual vs. Prediction\n",
    "plt.scatter(x = y_test, y = pred_lm_pca)\n",
    "plt.xlabel('Actual')\n",
    "plt.ylabel('Prediction')\n",
    "plt.title('Actual vs. Prediction')\n",
    "\n",
    "#Add 45 degree line\n",
    "xp = np.linspace(y_test.min(), y_test.max(), 100)\n",
    "plt.plot(xp, xp, 'k', alpha = 0.9, linewidth = 2, color = 'red')"
   ]
  },
  {
   "cell_type": "markdown",
   "id": "001d672a",
   "metadata": {},
   "source": [
    "# Logistic Regression"
   ]
  },
  {
   "cell_type": "code",
   "execution_count": 61,
   "id": "791a3876",
   "metadata": {},
   "outputs": [
    {
     "data": {
      "text/html": [
       "<div>\n",
       "<style scoped>\n",
       "    .dataframe tbody tr th:only-of-type {\n",
       "        vertical-align: middle;\n",
       "    }\n",
       "\n",
       "    .dataframe tbody tr th {\n",
       "        vertical-align: top;\n",
       "    }\n",
       "\n",
       "    .dataframe thead th {\n",
       "        text-align: right;\n",
       "    }\n",
       "</style>\n",
       "<table border=\"1\" class=\"dataframe\">\n",
       "  <thead>\n",
       "    <tr style=\"text-align: right;\">\n",
       "      <th></th>\n",
       "      <th>Loan_ID</th>\n",
       "      <th>Gender</th>\n",
       "      <th>Married</th>\n",
       "      <th>Dependents</th>\n",
       "      <th>Education</th>\n",
       "      <th>Self_Employed</th>\n",
       "      <th>ApplicantIncome</th>\n",
       "      <th>CoapplicantIncome</th>\n",
       "      <th>LoanAmount</th>\n",
       "      <th>Loan_Amount_Term</th>\n",
       "      <th>Credit_History</th>\n",
       "      <th>Property_Area</th>\n",
       "      <th>Loan_Status</th>\n",
       "    </tr>\n",
       "  </thead>\n",
       "  <tbody>\n",
       "    <tr>\n",
       "      <th>0</th>\n",
       "      <td>LP001002</td>\n",
       "      <td>Male</td>\n",
       "      <td>No</td>\n",
       "      <td>0</td>\n",
       "      <td>Graduate</td>\n",
       "      <td>No</td>\n",
       "      <td>5849</td>\n",
       "      <td>0.0</td>\n",
       "      <td>NaN</td>\n",
       "      <td>360.0</td>\n",
       "      <td>1.0</td>\n",
       "      <td>Urban</td>\n",
       "      <td>Y</td>\n",
       "    </tr>\n",
       "    <tr>\n",
       "      <th>1</th>\n",
       "      <td>LP001003</td>\n",
       "      <td>Male</td>\n",
       "      <td>Yes</td>\n",
       "      <td>1</td>\n",
       "      <td>Graduate</td>\n",
       "      <td>No</td>\n",
       "      <td>4583</td>\n",
       "      <td>1508.0</td>\n",
       "      <td>128.0</td>\n",
       "      <td>360.0</td>\n",
       "      <td>1.0</td>\n",
       "      <td>Rural</td>\n",
       "      <td>N</td>\n",
       "    </tr>\n",
       "    <tr>\n",
       "      <th>2</th>\n",
       "      <td>LP001005</td>\n",
       "      <td>Male</td>\n",
       "      <td>Yes</td>\n",
       "      <td>0</td>\n",
       "      <td>Graduate</td>\n",
       "      <td>Yes</td>\n",
       "      <td>3000</td>\n",
       "      <td>0.0</td>\n",
       "      <td>66.0</td>\n",
       "      <td>360.0</td>\n",
       "      <td>1.0</td>\n",
       "      <td>Urban</td>\n",
       "      <td>Y</td>\n",
       "    </tr>\n",
       "    <tr>\n",
       "      <th>3</th>\n",
       "      <td>LP001006</td>\n",
       "      <td>Male</td>\n",
       "      <td>Yes</td>\n",
       "      <td>0</td>\n",
       "      <td>Not Graduate</td>\n",
       "      <td>No</td>\n",
       "      <td>2583</td>\n",
       "      <td>2358.0</td>\n",
       "      <td>120.0</td>\n",
       "      <td>360.0</td>\n",
       "      <td>1.0</td>\n",
       "      <td>Urban</td>\n",
       "      <td>Y</td>\n",
       "    </tr>\n",
       "    <tr>\n",
       "      <th>4</th>\n",
       "      <td>LP001008</td>\n",
       "      <td>Male</td>\n",
       "      <td>No</td>\n",
       "      <td>0</td>\n",
       "      <td>Graduate</td>\n",
       "      <td>No</td>\n",
       "      <td>6000</td>\n",
       "      <td>0.0</td>\n",
       "      <td>141.0</td>\n",
       "      <td>360.0</td>\n",
       "      <td>1.0</td>\n",
       "      <td>Urban</td>\n",
       "      <td>Y</td>\n",
       "    </tr>\n",
       "  </tbody>\n",
       "</table>\n",
       "</div>"
      ],
      "text/plain": [
       "    Loan_ID Gender Married Dependents     Education Self_Employed  \\\n",
       "0  LP001002   Male      No          0      Graduate            No   \n",
       "1  LP001003   Male     Yes          1      Graduate            No   \n",
       "2  LP001005   Male     Yes          0      Graduate           Yes   \n",
       "3  LP001006   Male     Yes          0  Not Graduate            No   \n",
       "4  LP001008   Male      No          0      Graduate            No   \n",
       "\n",
       "   ApplicantIncome  CoapplicantIncome  LoanAmount  Loan_Amount_Term  \\\n",
       "0             5849                0.0         NaN             360.0   \n",
       "1             4583             1508.0       128.0             360.0   \n",
       "2             3000                0.0        66.0             360.0   \n",
       "3             2583             2358.0       120.0             360.0   \n",
       "4             6000                0.0       141.0             360.0   \n",
       "\n",
       "   Credit_History Property_Area Loan_Status  \n",
       "0             1.0         Urban           Y  \n",
       "1             1.0         Rural           N  \n",
       "2             1.0         Urban           Y  \n",
       "3             1.0         Urban           Y  \n",
       "4             1.0         Urban           Y  "
      ]
     },
     "execution_count": 61,
     "metadata": {},
     "output_type": "execute_result"
    }
   ],
   "source": [
    "train_lg = pd.read_csv(\"loan-train.csv\")\n",
    "train_lg.head()"
   ]
  },
  {
   "cell_type": "code",
   "execution_count": 62,
   "id": "d119f214",
   "metadata": {},
   "outputs": [
    {
     "data": {
      "text/html": [
       "<div>\n",
       "<style scoped>\n",
       "    .dataframe tbody tr th:only-of-type {\n",
       "        vertical-align: middle;\n",
       "    }\n",
       "\n",
       "    .dataframe tbody tr th {\n",
       "        vertical-align: top;\n",
       "    }\n",
       "\n",
       "    .dataframe thead th {\n",
       "        text-align: right;\n",
       "    }\n",
       "</style>\n",
       "<table border=\"1\" class=\"dataframe\">\n",
       "  <thead>\n",
       "    <tr style=\"text-align: right;\">\n",
       "      <th></th>\n",
       "      <th>Loan_ID</th>\n",
       "      <th>Gender</th>\n",
       "      <th>Married</th>\n",
       "      <th>Dependents</th>\n",
       "      <th>Education</th>\n",
       "      <th>Self_Employed</th>\n",
       "      <th>ApplicantIncome</th>\n",
       "      <th>CoapplicantIncome</th>\n",
       "      <th>LoanAmount</th>\n",
       "      <th>Loan_Amount_Term</th>\n",
       "      <th>Credit_History</th>\n",
       "      <th>Property_Area</th>\n",
       "    </tr>\n",
       "  </thead>\n",
       "  <tbody>\n",
       "    <tr>\n",
       "      <th>0</th>\n",
       "      <td>LP001015</td>\n",
       "      <td>Male</td>\n",
       "      <td>Yes</td>\n",
       "      <td>0</td>\n",
       "      <td>Graduate</td>\n",
       "      <td>No</td>\n",
       "      <td>5720</td>\n",
       "      <td>0</td>\n",
       "      <td>110.0</td>\n",
       "      <td>360.0</td>\n",
       "      <td>1.0</td>\n",
       "      <td>Urban</td>\n",
       "    </tr>\n",
       "    <tr>\n",
       "      <th>1</th>\n",
       "      <td>LP001022</td>\n",
       "      <td>Male</td>\n",
       "      <td>Yes</td>\n",
       "      <td>1</td>\n",
       "      <td>Graduate</td>\n",
       "      <td>No</td>\n",
       "      <td>3076</td>\n",
       "      <td>1500</td>\n",
       "      <td>126.0</td>\n",
       "      <td>360.0</td>\n",
       "      <td>1.0</td>\n",
       "      <td>Urban</td>\n",
       "    </tr>\n",
       "    <tr>\n",
       "      <th>2</th>\n",
       "      <td>LP001031</td>\n",
       "      <td>Male</td>\n",
       "      <td>Yes</td>\n",
       "      <td>2</td>\n",
       "      <td>Graduate</td>\n",
       "      <td>No</td>\n",
       "      <td>5000</td>\n",
       "      <td>1800</td>\n",
       "      <td>208.0</td>\n",
       "      <td>360.0</td>\n",
       "      <td>1.0</td>\n",
       "      <td>Urban</td>\n",
       "    </tr>\n",
       "    <tr>\n",
       "      <th>3</th>\n",
       "      <td>LP001035</td>\n",
       "      <td>Male</td>\n",
       "      <td>Yes</td>\n",
       "      <td>2</td>\n",
       "      <td>Graduate</td>\n",
       "      <td>No</td>\n",
       "      <td>2340</td>\n",
       "      <td>2546</td>\n",
       "      <td>100.0</td>\n",
       "      <td>360.0</td>\n",
       "      <td>NaN</td>\n",
       "      <td>Urban</td>\n",
       "    </tr>\n",
       "    <tr>\n",
       "      <th>4</th>\n",
       "      <td>LP001051</td>\n",
       "      <td>Male</td>\n",
       "      <td>No</td>\n",
       "      <td>0</td>\n",
       "      <td>Not Graduate</td>\n",
       "      <td>No</td>\n",
       "      <td>3276</td>\n",
       "      <td>0</td>\n",
       "      <td>78.0</td>\n",
       "      <td>360.0</td>\n",
       "      <td>1.0</td>\n",
       "      <td>Urban</td>\n",
       "    </tr>\n",
       "  </tbody>\n",
       "</table>\n",
       "</div>"
      ],
      "text/plain": [
       "    Loan_ID Gender Married Dependents     Education Self_Employed  \\\n",
       "0  LP001015   Male     Yes          0      Graduate            No   \n",
       "1  LP001022   Male     Yes          1      Graduate            No   \n",
       "2  LP001031   Male     Yes          2      Graduate            No   \n",
       "3  LP001035   Male     Yes          2      Graduate            No   \n",
       "4  LP001051   Male      No          0  Not Graduate            No   \n",
       "\n",
       "   ApplicantIncome  CoapplicantIncome  LoanAmount  Loan_Amount_Term  \\\n",
       "0             5720                  0       110.0             360.0   \n",
       "1             3076               1500       126.0             360.0   \n",
       "2             5000               1800       208.0             360.0   \n",
       "3             2340               2546       100.0             360.0   \n",
       "4             3276                  0        78.0             360.0   \n",
       "\n",
       "   Credit_History Property_Area  \n",
       "0             1.0         Urban  \n",
       "1             1.0         Urban  \n",
       "2             1.0         Urban  \n",
       "3             NaN         Urban  \n",
       "4             1.0         Urban  "
      ]
     },
     "execution_count": 62,
     "metadata": {},
     "output_type": "execute_result"
    }
   ],
   "source": [
    "test_lg = pd.read_csv(\"loan-test.csv\")\n",
    "test_lg.head()"
   ]
  },
  {
   "cell_type": "markdown",
   "id": "44067267",
   "metadata": {},
   "source": [
    "Let’s make a copy of the train and test data so that even if we have to make any changes in these datasets we would not lose the original datasets."
   ]
  },
  {
   "cell_type": "code",
   "execution_count": 63,
   "id": "f579e9cf",
   "metadata": {},
   "outputs": [],
   "source": [
    "train_original=train_lg.copy()\n",
    "test_original=test_lg.copy()"
   ]
  },
  {
   "cell_type": "markdown",
   "id": "dc18d945",
   "metadata": {},
   "source": [
    "### Understanding the data"
   ]
  },
  {
   "cell_type": "code",
   "execution_count": 64,
   "id": "d0e0b2a8",
   "metadata": {},
   "outputs": [
    {
     "data": {
      "text/plain": [
       "Index(['Loan_ID', 'Gender', 'Married', 'Dependents', 'Education',\n",
       "       'Self_Employed', 'ApplicantIncome', 'CoapplicantIncome', 'LoanAmount',\n",
       "       'Loan_Amount_Term', 'Credit_History', 'Property_Area', 'Loan_Status'],\n",
       "      dtype='object')"
      ]
     },
     "execution_count": 64,
     "metadata": {},
     "output_type": "execute_result"
    }
   ],
   "source": [
    "train_lg.columns"
   ]
  },
  {
   "cell_type": "code",
   "execution_count": 65,
   "id": "3561b4c3",
   "metadata": {},
   "outputs": [
    {
     "data": {
      "text/plain": [
       "Index(['Loan_ID', 'Gender', 'Married', 'Dependents', 'Education',\n",
       "       'Self_Employed', 'ApplicantIncome', 'CoapplicantIncome', 'LoanAmount',\n",
       "       'Loan_Amount_Term', 'Credit_History', 'Property_Area'],\n",
       "      dtype='object')"
      ]
     },
     "execution_count": 65,
     "metadata": {},
     "output_type": "execute_result"
    }
   ],
   "source": [
    "test_lg.columns"
   ]
  },
  {
   "cell_type": "markdown",
   "id": "2b28fb90",
   "metadata": {},
   "source": [
    "* We will predict the Loan_Status using the model built using the train data"
   ]
  },
  {
   "cell_type": "code",
   "execution_count": 66,
   "id": "3690250d",
   "metadata": {},
   "outputs": [
    {
     "data": {
      "text/plain": [
       "Loan_ID               object\n",
       "Gender                object\n",
       "Married               object\n",
       "Dependents            object\n",
       "Education             object\n",
       "Self_Employed         object\n",
       "ApplicantIncome        int64\n",
       "CoapplicantIncome    float64\n",
       "LoanAmount           float64\n",
       "Loan_Amount_Term     float64\n",
       "Credit_History       float64\n",
       "Property_Area         object\n",
       "Loan_Status           object\n",
       "dtype: object"
      ]
     },
     "execution_count": 66,
     "metadata": {},
     "output_type": "execute_result"
    }
   ],
   "source": [
    "train_lg.dtypes"
   ]
  },
  {
   "cell_type": "code",
   "execution_count": 67,
   "id": "da11df06",
   "metadata": {},
   "outputs": [
    {
     "data": {
      "text/plain": [
       "(614, 13)"
      ]
     },
     "execution_count": 67,
     "metadata": {},
     "output_type": "execute_result"
    }
   ],
   "source": [
    "train_lg.shape"
   ]
  },
  {
   "cell_type": "code",
   "execution_count": 68,
   "id": "abd555f7",
   "metadata": {},
   "outputs": [
    {
     "data": {
      "text/plain": [
       "(367, 12)"
      ]
     },
     "execution_count": 68,
     "metadata": {},
     "output_type": "execute_result"
    }
   ],
   "source": [
    "test_lg.shape"
   ]
  },
  {
   "cell_type": "code",
   "execution_count": 69,
   "id": "1569dc73",
   "metadata": {},
   "outputs": [
    {
     "data": {
      "text/plain": [
       "Y    422\n",
       "N    192\n",
       "Name: Loan_Status, dtype: int64"
      ]
     },
     "execution_count": 69,
     "metadata": {},
     "output_type": "execute_result"
    }
   ],
   "source": [
    "train_lg[\"Loan_Status\"].value_counts()"
   ]
  },
  {
   "cell_type": "markdown",
   "id": "69a95a6d",
   "metadata": {},
   "source": [
    "* Normalize can be set to True to print proportions instead of number"
   ]
  },
  {
   "cell_type": "code",
   "execution_count": 70,
   "id": "57eb074b",
   "metadata": {},
   "outputs": [
    {
     "data": {
      "text/plain": [
       "Y    0.687296\n",
       "N    0.312704\n",
       "Name: Loan_Status, dtype: float64"
      ]
     },
     "execution_count": 70,
     "metadata": {},
     "output_type": "execute_result"
    }
   ],
   "source": [
    "train_lg[\"Loan_Status\"].value_counts(normalize=True)"
   ]
  },
  {
   "cell_type": "code",
   "execution_count": 71,
   "id": "f7c75d88",
   "metadata": {},
   "outputs": [
    {
     "data": {
      "text/plain": [
       "<AxesSubplot:>"
      ]
     },
     "execution_count": 71,
     "metadata": {},
     "output_type": "execute_result"
    },
    {
     "data": {
      "image/png": "[encoded data removed]",
      "text/plain": [
       "<Figure size 432x288 with 1 Axes>"
      ]
     },
     "metadata": {
      "needs_background": "light"
     },
     "output_type": "display_data"
    }
   ],
   "source": [
    "train_lg[\"Loan_Status\"].value_counts().plot.bar()"
   ]
  },
  {
   "cell_type": "markdown",
   "id": "d87485be",
   "metadata": {},
   "source": [
    "### Independent Variable (Categorical)"
   ]
  },
  {
   "cell_type": "code",
   "execution_count": 72,
   "id": "bd4e9d38",
   "metadata": {},
   "outputs": [
    {
     "data": {
      "image/png": "[encoded data removed]",
      "text/plain": [
       "<Figure size 432x288 with 1 Axes>"
      ]
     },
     "metadata": {
      "needs_background": "light"
     },
     "output_type": "display_data"
    },
    {
     "data": {
      "image/png": "[encoded data removed]",
      "text/plain": [
       "<Figure size 432x288 with 1 Axes>"
      ]
     },
     "metadata": {
      "needs_background": "light"
     },
     "output_type": "display_data"
    },
    {
     "data": {
      "image/png": "[encoded data removed]",
      "text/plain": [
       "<Figure size 432x288 with 1 Axes>"
      ]
     },
     "metadata": {
      "needs_background": "light"
     },
     "output_type": "display_data"
    },
    {
     "data": {
      "image/png": "[encoded data removed]",
      "text/plain": [
       "<Figure size 432x288 with 1 Axes>"
      ]
     },
     "metadata": {
      "needs_background": "light"
     },
     "output_type": "display_data"
    }
   ],
   "source": [
    "train_lg['Gender'].value_counts(normalize=True).plot.bar(title='Gender')\n",
    "plt.show()\n",
    "train_lg['Married'].value_counts(normalize=True).plot.bar(title='Married')\n",
    "plt.show()\n",
    "train_lg['Self_Employed'].value_counts(normalize=True).plot.bar(title='Self_Employed')\n",
    "plt.show()\n",
    "train_lg['Credit_History'].value_counts(normalize=True).plot.bar(title='Credit_History')\n",
    "plt.show()"
   ]
  },
  {
   "cell_type": "markdown",
   "id": "efd9c299",
   "metadata": {},
   "source": [
    "### Independent Variable (Ordinal)"
   ]
  },
  {
   "cell_type": "code",
   "execution_count": 73,
   "id": "4ec1eea4",
   "metadata": {},
   "outputs": [
    {
     "data": {
      "image/png": "[encoded data removed]",
      "text/plain": [
       "<Figure size 432x288 with 1 Axes>"
      ]
     },
     "metadata": {
      "needs_background": "light"
     },
     "output_type": "display_data"
    },
    {
     "data": {
      "image/png": "[encoded data removed]",
      "text/plain": [
       "<Figure size 432x288 with 1 Axes>"
      ]
     },
     "metadata": {
      "needs_background": "light"
     },
     "output_type": "display_data"
    },
    {
     "data": {
      "image/png": "[encoded data removed]",
      "text/plain": [
       "<Figure size 432x288 with 1 Axes>"
      ]
     },
     "metadata": {
      "needs_background": "light"
     },
     "output_type": "display_data"
    }
   ],
   "source": [
    "train_lg['Dependents'].value_counts(normalize=True).plot.bar( title='Dependents')\n",
    "plt.show()\n",
    "train_lg['Education'].value_counts(normalize=True).plot.bar(title='Education')\n",
    "plt.show()\n",
    "train_lg['Property_Area'].value_counts(normalize=True).plot.bar(title='Property_Area')\n",
    "plt.show()"
   ]
  },
  {
   "cell_type": "markdown",
   "id": "adb96377",
   "metadata": {},
   "source": [
    "### Independent Variable (Numerical)"
   ]
  },
  {
   "cell_type": "code",
   "execution_count": 74,
   "id": "c832ceab",
   "metadata": {},
   "outputs": [
    {
     "data": {
      "image/png": "[encoded data removed]",
      "text/plain": [
       "<Figure size 432x288 with 1 Axes>"
      ]
     },
     "metadata": {
      "needs_background": "light"
     },
     "output_type": "display_data"
    },
    {
     "data": {
      "image/png": "[encoded data removed]",
      "text/plain": [
       "<Figure size 432x288 with 1 Axes>"
      ]
     },
     "metadata": {
      "needs_background": "light"
     },
     "output_type": "display_data"
    }
   ],
   "source": [
    "sns.distplot(train_lg['ApplicantIncome'])\n",
    "plt.show()\n",
    "train_lg['ApplicantIncome'].plot.box()\n",
    "plt.show()"
   ]
  },
  {
   "cell_type": "markdown",
   "id": "efd6130f",
   "metadata": {},
   "source": [
    "* The boxplot confirms the presence of a lot of outliers/extreme values. This can be attributed to the income disparity in the society. Part of this can be driven by the fact that we are looking at people with different education levels. Let us segregate them by Education."
   ]
  },
  {
   "cell_type": "code",
   "execution_count": 75,
   "id": "066406fc",
   "metadata": {},
   "outputs": [
    {
     "data": {
      "text/plain": [
       "Text(0.5, 0.98, '')"
      ]
     },
     "execution_count": 75,
     "metadata": {},
     "output_type": "execute_result"
    },
    {
     "data": {
      "image/png": "[encoded data removed]",
      "text/plain": [
       "<Figure size 432x288 with 1 Axes>"
      ]
     },
     "metadata": {
      "needs_background": "light"
     },
     "output_type": "display_data"
    }
   ],
   "source": [
    "train_lg.boxplot(column='ApplicantIncome', by = \"Education\") \n",
    "plt.suptitle(\"\")"
   ]
  },
  {
   "cell_type": "markdown",
   "id": "48eec4e7",
   "metadata": {},
   "source": [
    "### Missing value imputation"
   ]
  },
  {
   "cell_type": "code",
   "execution_count": 76,
   "id": "15a31e55",
   "metadata": {},
   "outputs": [
    {
     "data": {
      "text/plain": [
       "Loan_ID               0\n",
       "Gender               13\n",
       "Married               3\n",
       "Dependents           15\n",
       "Education             0\n",
       "Self_Employed        32\n",
       "ApplicantIncome       0\n",
       "CoapplicantIncome     0\n",
       "LoanAmount           22\n",
       "Loan_Amount_Term     14\n",
       "Credit_History       50\n",
       "Property_Area         0\n",
       "Loan_Status           0\n",
       "dtype: int64"
      ]
     },
     "execution_count": 76,
     "metadata": {},
     "output_type": "execute_result"
    }
   ],
   "source": [
    "train_lg.isnull().sum()"
   ]
  },
  {
   "cell_type": "code",
   "execution_count": 77,
   "id": "5435eb10",
   "metadata": {},
   "outputs": [],
   "source": [
    "train_lg['Gender'].fillna(train_lg['Gender'].mode()[0], inplace=True)\n",
    "train_lg['Married'].fillna(train_lg['Married'].mode()[0], inplace=True)\n",
    "train_lg['Dependents'].fillna(train_lg['Dependents'].mode()[0], inplace=True)\n",
    "train_lg['Self_Employed'].fillna(train_lg['Self_Employed'].mode()[0], inplace=True)\n",
    "train_lg['Credit_History'].fillna(train_lg['Credit_History'].mode()[0], inplace=True)"
   ]
  },
  {
   "cell_type": "code",
   "execution_count": 78,
   "id": "f1d16e2f",
   "metadata": {},
   "outputs": [
    {
     "data": {
      "text/plain": [
       "360.0    512\n",
       "180.0     44\n",
       "480.0     15\n",
       "300.0     13\n",
       "84.0       4\n",
       "240.0      4\n",
       "120.0      3\n",
       "36.0       2\n",
       "60.0       2\n",
       "12.0       1\n",
       "Name: Loan_Amount_Term, dtype: int64"
      ]
     },
     "execution_count": 78,
     "metadata": {},
     "output_type": "execute_result"
    }
   ],
   "source": [
    "train_lg['Loan_Amount_Term'].value_counts()"
   ]
  },
  {
   "cell_type": "code",
   "execution_count": 79,
   "id": "5a10c724",
   "metadata": {},
   "outputs": [],
   "source": [
    "train_lg['Loan_Amount_Term'].fillna(train_lg['Loan_Amount_Term'].mode()[0], inplace=True)"
   ]
  },
  {
   "cell_type": "markdown",
   "id": "95b7be1a",
   "metadata": {},
   "source": [
    "* We will use the median to fill the null values as earlier we saw that the loan amount has outliers so the mean will not be the proper approach as it is highly affected by the presence of outliers."
   ]
  },
  {
   "cell_type": "code",
   "execution_count": 80,
   "id": "83866aa4",
   "metadata": {},
   "outputs": [],
   "source": [
    "train_lg['LoanAmount'].fillna(train_lg['LoanAmount'].median(), inplace=True)"
   ]
  },
  {
   "cell_type": "code",
   "execution_count": 81,
   "id": "0f083a25",
   "metadata": {},
   "outputs": [
    {
     "data": {
      "text/plain": [
       "Loan_ID              0\n",
       "Gender               0\n",
       "Married              0\n",
       "Dependents           0\n",
       "Education            0\n",
       "Self_Employed        0\n",
       "ApplicantIncome      0\n",
       "CoapplicantIncome    0\n",
       "LoanAmount           0\n",
       "Loan_Amount_Term     0\n",
       "Credit_History       0\n",
       "Property_Area        0\n",
       "Loan_Status          0\n",
       "dtype: int64"
      ]
     },
     "execution_count": 81,
     "metadata": {},
     "output_type": "execute_result"
    }
   ],
   "source": [
    "train_lg.isnull().sum()"
   ]
  },
  {
   "cell_type": "code",
   "execution_count": 82,
   "id": "675eeba1",
   "metadata": {},
   "outputs": [],
   "source": [
    "test_lg['Gender'].fillna(test_lg['Gender'].mode()[0], inplace=True)\n",
    "test_lg['Married'].fillna(test_lg['Married'].mode()[0], inplace=True)\n",
    "test_lg['Dependents'].fillna(test_lg['Dependents'].mode()[0], inplace=True)\n",
    "test_lg['Self_Employed'].fillna(test_lg['Self_Employed'].mode()[0], inplace=True)\n",
    "test_lg['Credit_History'].fillna(test_lg['Credit_History'].mode()[0], inplace=True)\n",
    "test_lg['Loan_Amount_Term'].fillna(test_lg['Loan_Amount_Term'].mode()[0], inplace=True)\n",
    "test_lg['LoanAmount'].fillna(test_lg['LoanAmount'].median(), inplace=True)"
   ]
  },
  {
   "cell_type": "markdown",
   "id": "c66b7c28",
   "metadata": {},
   "source": [
    "### Outlier Treatment"
   ]
  },
  {
   "cell_type": "code",
   "execution_count": 83,
   "id": "fcd99aa6",
   "metadata": {},
   "outputs": [
    {
     "data": {
      "image/png": "[encoded data removed]",
      "text/plain": [
       "<Figure size 432x288 with 1 Axes>"
      ]
     },
     "metadata": {
      "needs_background": "light"
     },
     "output_type": "display_data"
    }
   ],
   "source": [
    "train_lg['LoanAmount_log']=np.log(train_lg['LoanAmount'])\n",
    "train_lg['LoanAmount_log'].hist(bins=20)\n",
    "test_lg['LoanAmount_log']=np.log(test_lg['LoanAmount'])"
   ]
  },
  {
   "cell_type": "markdown",
   "id": "7b3a4627",
   "metadata": {},
   "source": [
    "* Now the distribution looks much closer to normal and the effect of extreme values has been significantly subsided. Let’s build a logistic regression model and make predictions for the test dataset.\n",
    "\n",
    "Let us make our first model predict the target variable. We will start with Logistic Regression which is used for predicting binary outcome."
   ]
  },
  {
   "cell_type": "code",
   "execution_count": 84,
   "id": "f4ee6827",
   "metadata": {},
   "outputs": [],
   "source": [
    "train_lg=train_lg.drop('Loan_ID',axis=1)\n",
    "test_lg=test_lg.drop('Loan_ID',axis=1)"
   ]
  },
  {
   "cell_type": "code",
   "execution_count": 85,
   "id": "345a19bc",
   "metadata": {},
   "outputs": [],
   "source": [
    "X = train_lg.drop('Loan_Status',1)\n",
    "Y = train_lg.Loan_Status"
   ]
  },
  {
   "cell_type": "markdown",
   "id": "58c90904",
   "metadata": {},
   "source": [
    "logistic regression takes only the numerical values as input"
   ]
  },
  {
   "cell_type": "code",
   "execution_count": 86,
   "id": "1692acbe",
   "metadata": {},
   "outputs": [],
   "source": [
    "X = pd.get_dummies(X)"
   ]
  },
  {
   "cell_type": "code",
   "execution_count": 87,
   "id": "a6d6c6d4",
   "metadata": {},
   "outputs": [],
   "source": [
    "from sklearn.model_selection import train_test_split\n",
    "x_train, x_cv, y_train, y_cv = train_test_split(X,Y, test_size=0.3)"
   ]
  },
  {
   "cell_type": "code",
   "execution_count": 88,
   "id": "6ca44bce",
   "metadata": {},
   "outputs": [
    {
     "data": {
      "text/plain": [
       "LogisticRegression()"
      ]
     },
     "execution_count": 88,
     "metadata": {},
     "output_type": "execute_result"
    }
   ],
   "source": [
    "from sklearn.linear_model import LogisticRegression\n",
    "from sklearn.metrics import accuracy_score\n",
    "model = LogisticRegression()\n",
    "model.fit(x_train, y_train)"
   ]
  },
  {
   "cell_type": "code",
   "execution_count": 89,
   "id": "a432d28c",
   "metadata": {},
   "outputs": [
    {
     "data": {
      "text/plain": [
       "0.8432432432432433"
      ]
     },
     "execution_count": 89,
     "metadata": {},
     "output_type": "execute_result"
    }
   ],
   "source": [
    "pred_cv = model.predict(x_cv)\n",
    "accuracy_score(y_cv,pred_cv)"
   ]
  },
  {
   "cell_type": "markdown",
   "id": "5a53a136",
   "metadata": {},
   "source": [
    "Let’s make predictions for the test dataset."
   ]
  },
  {
   "cell_type": "code",
   "execution_count": 90,
   "id": "f6bf3a9d",
   "metadata": {},
   "outputs": [],
   "source": [
    "test_lg=pd.get_dummies(test_lg)\n",
    "pred_test = model.predict(test_lg)"
   ]
  },
  {
   "cell_type": "code",
   "execution_count": 91,
   "id": "2784290e",
   "metadata": {},
   "outputs": [
    {
     "data": {
      "text/plain": [
       "array(['Y', 'Y', 'Y', 'Y', 'Y', 'Y', 'Y', 'N', 'Y', 'Y', 'Y', 'Y', 'Y',\n",
       "       'N', 'Y', 'Y', 'Y', 'Y', 'Y', 'Y', 'Y', 'Y', 'Y', 'Y', 'Y', 'N',\n",
       "       'Y', 'Y', 'Y', 'Y', 'Y', 'Y', 'Y', 'Y', 'Y', 'N', 'Y', 'Y', 'Y',\n",
       "       'Y', 'Y', 'Y', 'Y', 'Y', 'Y', 'Y', 'Y', 'Y', 'Y', 'Y', 'Y', 'Y',\n",
       "       'Y', 'Y', 'Y', 'N', 'Y', 'Y', 'N', 'Y', 'Y', 'Y', 'Y', 'N', 'Y',\n",
       "       'Y', 'N', 'N', 'Y', 'N', 'Y', 'Y', 'Y', 'Y', 'Y', 'Y', 'Y', 'Y',\n",
       "       'Y', 'Y', 'N', 'Y', 'N', 'Y', 'Y', 'Y', 'Y', 'Y', 'Y', 'Y', 'Y',\n",
       "       'Y', 'Y', 'Y', 'N', 'Y', 'Y', 'Y', 'Y', 'Y', 'Y', 'N', 'Y', 'Y',\n",
       "       'Y', 'Y', 'N', 'Y', 'Y', 'Y', 'Y', 'Y', 'Y', 'Y', 'Y', 'Y', 'Y',\n",
       "       'N', 'N', 'N', 'Y', 'Y', 'Y', 'N', 'N', 'Y', 'N', 'Y', 'Y', 'Y',\n",
       "       'Y', 'Y', 'Y', 'Y', 'Y', 'Y', 'Y', 'Y', 'Y', 'Y', 'N', 'Y', 'N',\n",
       "       'Y', 'Y', 'Y', 'Y', 'N', 'Y', 'Y', 'Y', 'Y', 'Y', 'N', 'Y', 'Y',\n",
       "       'Y', 'Y', 'Y', 'Y', 'Y', 'N', 'Y', 'Y', 'Y', 'N', 'N', 'Y', 'N',\n",
       "       'Y', 'Y', 'Y', 'Y', 'N', 'N', 'Y', 'Y', 'Y', 'Y', 'Y', 'Y', 'Y',\n",
       "       'Y', 'Y', 'Y', 'Y', 'Y', 'Y', 'Y', 'Y', 'Y', 'Y', 'N', 'N', 'Y',\n",
       "       'Y', 'N', 'Y', 'N', 'Y', 'Y', 'Y', 'Y', 'Y', 'Y', 'Y', 'Y', 'Y',\n",
       "       'Y', 'N', 'Y', 'N', 'Y', 'Y', 'Y', 'Y', 'Y', 'Y', 'Y', 'Y', 'Y',\n",
       "       'Y', 'Y', 'Y', 'N', 'Y', 'Y', 'Y', 'Y', 'N', 'Y', 'Y', 'Y', 'Y',\n",
       "       'Y', 'N', 'N', 'N', 'Y', 'Y', 'Y', 'N', 'Y', 'N', 'Y', 'N', 'Y',\n",
       "       'Y', 'Y', 'Y', 'N', 'Y', 'Y', 'Y', 'Y', 'N', 'Y', 'Y', 'Y', 'N',\n",
       "       'Y', 'Y', 'Y', 'Y', 'Y', 'Y', 'N', 'N', 'N', 'Y', 'Y', 'Y', 'Y',\n",
       "       'N', 'N', 'Y', 'Y', 'Y', 'N', 'Y', 'Y', 'Y', 'Y', 'Y', 'Y', 'Y',\n",
       "       'Y', 'Y', 'Y', 'Y', 'Y', 'Y', 'Y', 'N', 'Y', 'Y', 'Y', 'Y', 'Y',\n",
       "       'Y', 'Y', 'N', 'Y', 'Y', 'Y', 'Y', 'Y', 'Y', 'Y', 'Y', 'Y', 'N',\n",
       "       'Y', 'Y', 'Y', 'Y', 'Y', 'N', 'Y', 'Y', 'Y', 'Y', 'Y', 'Y', 'Y',\n",
       "       'Y', 'Y', 'Y', 'Y', 'Y', 'Y', 'Y', 'N', 'Y', 'Y', 'Y', 'Y', 'Y',\n",
       "       'Y', 'N', 'Y', 'Y', 'Y', 'Y', 'Y', 'Y', 'N', 'Y', 'Y', 'Y', 'Y',\n",
       "       'N', 'Y', 'Y', 'N', 'Y', 'Y', 'Y', 'Y', 'Y', 'Y', 'Y', 'Y', 'Y',\n",
       "       'Y', 'Y', 'Y'], dtype=object)"
      ]
     },
     "execution_count": 91,
     "metadata": {},
     "output_type": "execute_result"
    }
   ],
   "source": [
    "pred_test"
   ]
  }
 ],
 "metadata": {
  "kernelspec": {
   "display_name": "Python 3",
   "language": "python",
   "name": "python3"
  },
  "language_info": {
   "codemirror_mode": {
    "name": "ipython",
    "version": 3
   },
   "file_extension": ".py",
   "mimetype": "text/x-python",
   "name": "python",
   "nbconvert_exporter": "python",
   "pygments_lexer": "ipython3",
   "version": "3.6.13"
  }
 },
 "nbformat": 4,
 "nbformat_minor": 5
}
