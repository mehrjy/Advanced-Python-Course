{
 "cells": [
  {
   "cell_type": "markdown",
   "id": "688c1077",
   "metadata": {},
   "source": [
    "# Lesson 01\n",
    "## Mehrnaz Jalili"
   ]
  },
  {
   "cell_type": "code",
   "execution_count": 1,
   "id": "b2c4ecc1",
   "metadata": {},
   "outputs": [],
   "source": [
    "# install library\n",
    "#pip install numpy"
   ]
  },
  {
   "cell_type": "code",
   "execution_count": 2,
   "id": "c7147204",
   "metadata": {},
   "outputs": [],
   "source": [
    "# import libraries\n",
    "import numpy as np"
   ]
  },
  {
   "cell_type": "code",
   "execution_count": 3,
   "id": "e0da54d2",
   "metadata": {},
   "outputs": [
    {
     "data": {
      "text/plain": [
       "array([[1, 2],\n",
       "       [3, 4]])"
      ]
     },
     "execution_count": 3,
     "metadata": {},
     "output_type": "execute_result"
    }
   ],
   "source": [
    "x = np.array([[1, 2] , [3, 4]])\n",
    "x"
   ]
  },
  {
   "cell_type": "code",
   "execution_count": 4,
   "id": "5ce97b15",
   "metadata": {},
   "outputs": [
    {
     "data": {
      "text/plain": [
       "2"
      ]
     },
     "execution_count": 4,
     "metadata": {},
     "output_type": "execute_result"
    }
   ],
   "source": [
    "#dimension\n",
    "x.ndim"
   ]
  },
  {
   "cell_type": "code",
   "execution_count": 5,
   "id": "a4077dbb",
   "metadata": {},
   "outputs": [
    {
     "data": {
      "text/plain": [
       "(2, 2)"
      ]
     },
     "execution_count": 5,
     "metadata": {},
     "output_type": "execute_result"
    }
   ],
   "source": [
    "#shape\n",
    "x.shape"
   ]
  },
  {
   "cell_type": "code",
   "execution_count": 6,
   "id": "5dddd7de",
   "metadata": {},
   "outputs": [
    {
     "data": {
      "text/plain": [
       "dtype('int32')"
      ]
     },
     "execution_count": 6,
     "metadata": {},
     "output_type": "execute_result"
    }
   ],
   "source": [
    "# type of data\n",
    "x.dtype"
   ]
  },
  {
   "cell_type": "code",
   "execution_count": 7,
   "id": "fe3fc194",
   "metadata": {},
   "outputs": [
    {
     "data": {
      "text/plain": [
       "numpy.ndarray"
      ]
     },
     "execution_count": 7,
     "metadata": {},
     "output_type": "execute_result"
    }
   ],
   "source": [
    "type(x)"
   ]
  },
  {
   "cell_type": "code",
   "execution_count": 8,
   "id": "a8f26bef",
   "metadata": {},
   "outputs": [],
   "source": [
    "x_lst = [2, 4.5 , 6]"
   ]
  },
  {
   "cell_type": "code",
   "execution_count": 9,
   "id": "20c6333b",
   "metadata": {},
   "outputs": [
    {
     "data": {
      "text/plain": [
       "list"
      ]
     },
     "execution_count": 9,
     "metadata": {},
     "output_type": "execute_result"
    }
   ],
   "source": [
    "# x_lst.shape\n",
    "# x_lst.ndim\n",
    "# x_lst.dtype\n",
    "type(x_lst)"
   ]
  },
  {
   "cell_type": "code",
   "execution_count": 10,
   "id": "d0bea886",
   "metadata": {},
   "outputs": [
    {
     "data": {
      "text/plain": [
       "array([0., 0., 0.])"
      ]
     },
     "execution_count": 10,
     "metadata": {},
     "output_type": "execute_result"
    }
   ],
   "source": [
    "x_zero = np.zeros(3)\n",
    "x_zero"
   ]
  },
  {
   "cell_type": "code",
   "execution_count": 11,
   "id": "9db53b40",
   "metadata": {},
   "outputs": [
    {
     "data": {
      "text/plain": [
       "array([2, 2, 2])"
      ]
     },
     "execution_count": 11,
     "metadata": {},
     "output_type": "execute_result"
    }
   ],
   "source": [
    "x_full = np.full(3, 2)\n",
    "x_full"
   ]
  },
  {
   "cell_type": "code",
   "execution_count": 12,
   "id": "617f6243",
   "metadata": {},
   "outputs": [
    {
     "data": {
      "text/plain": [
       "array([[4, 4],\n",
       "       [4, 4],\n",
       "       [4, 4]])"
      ]
     },
     "execution_count": 12,
     "metadata": {},
     "output_type": "execute_result"
    }
   ],
   "source": [
    "x_full_2 = np.full((3, 2), 4)\n",
    "x_full_2"
   ]
  },
  {
   "cell_type": "code",
   "execution_count": 13,
   "id": "1248c484",
   "metadata": {},
   "outputs": [
    {
     "data": {
      "text/plain": [
       "array([[1., 0., 0.],\n",
       "       [0., 1., 0.],\n",
       "       [0., 0., 1.]])"
      ]
     },
     "execution_count": 13,
     "metadata": {},
     "output_type": "execute_result"
    }
   ],
   "source": [
    "x_id = np.identity(3)\n",
    "x_id"
   ]
  },
  {
   "cell_type": "code",
   "execution_count": 14,
   "id": "fc4d3e1a",
   "metadata": {},
   "outputs": [
    {
     "data": {
      "text/plain": [
       "array([[1, 2, 3],\n",
       "       [4, 5, 6],\n",
       "       [7, 8, 9]])"
      ]
     },
     "execution_count": 14,
     "metadata": {},
     "output_type": "execute_result"
    }
   ],
   "source": [
    "x_2 =  np.array([[1, 2, 3] , [4, 5, 6], [7, 8, 9]])\n",
    "x_2"
   ]
  },
  {
   "cell_type": "code",
   "execution_count": 15,
   "id": "e297e7db",
   "metadata": {},
   "outputs": [
    {
     "data": {
      "text/plain": [
       "array([[1, 2, 3],\n",
       "       [4, 5, 6]])"
      ]
     },
     "execution_count": 15,
     "metadata": {},
     "output_type": "execute_result"
    }
   ],
   "source": [
    "x_2[0 :2 ]"
   ]
  },
  {
   "cell_type": "code",
   "execution_count": 16,
   "id": "36a29e0c",
   "metadata": {},
   "outputs": [
    {
     "data": {
      "text/plain": [
       "3"
      ]
     },
     "execution_count": 16,
     "metadata": {},
     "output_type": "execute_result"
    }
   ],
   "source": [
    "x_2[0][2]"
   ]
  },
  {
   "cell_type": "code",
   "execution_count": 17,
   "id": "9103b3d7",
   "metadata": {},
   "outputs": [
    {
     "data": {
      "text/plain": [
       "3"
      ]
     },
     "execution_count": 17,
     "metadata": {},
     "output_type": "execute_result"
    }
   ],
   "source": [
    "x_2[0 , 2]"
   ]
  },
  {
   "cell_type": "markdown",
   "id": "e42a3677",
   "metadata": {},
   "source": [
    "## arr3d"
   ]
  },
  {
   "cell_type": "code",
   "execution_count": 18,
   "id": "3f81ce47",
   "metadata": {},
   "outputs": [
    {
     "data": {
      "text/plain": [
       "array([[[ 1,  2,  3],\n",
       "        [ 4,  5,  6]],\n",
       "\n",
       "       [[ 7,  8,  9],\n",
       "        [10, 11, 12]]])"
      ]
     },
     "execution_count": 18,
     "metadata": {},
     "output_type": "execute_result"
    }
   ],
   "source": [
    "x_3 =  np.array([[[1, 2, 3] , [4, 5, 6]],[[7, 8, 9],[10, 11, 12]]])\n",
    "x_3"
   ]
  },
  {
   "cell_type": "code",
   "execution_count": 19,
   "id": "19e41d1c",
   "metadata": {},
   "outputs": [
    {
     "name": "stdout",
     "output_type": "stream",
     "text": [
      "dimension is  3 \n",
      "\n",
      "shape is  (2, 2, 3) \n",
      "\n",
      "data type is  int32 \n",
      "\n"
     ]
    }
   ],
   "source": [
    "print(\"dimension is \" , x_3.ndim ,'\\n')\n",
    "print(\"shape is \" , x_3.shape ,'\\n')\n",
    "print(\"data type is \" , x_3.dtype ,'\\n')"
   ]
  },
  {
   "cell_type": "code",
   "execution_count": 20,
   "id": "2418777d",
   "metadata": {},
   "outputs": [
    {
     "data": {
      "text/plain": [
       "array([[1, 2, 3],\n",
       "       [4, 5, 6]])"
      ]
     },
     "execution_count": 20,
     "metadata": {},
     "output_type": "execute_result"
    }
   ],
   "source": [
    "x_3[0]"
   ]
  },
  {
   "cell_type": "code",
   "execution_count": 21,
   "id": "3bfadb25",
   "metadata": {},
   "outputs": [
    {
     "data": {
      "text/plain": [
       "array([4, 5, 6])"
      ]
     },
     "execution_count": 21,
     "metadata": {},
     "output_type": "execute_result"
    }
   ],
   "source": [
    "x_3[0][1]"
   ]
  },
  {
   "cell_type": "code",
   "execution_count": 22,
   "id": "dc9d86be",
   "metadata": {},
   "outputs": [
    {
     "data": {
      "text/plain": [
       "6"
      ]
     },
     "execution_count": 22,
     "metadata": {},
     "output_type": "execute_result"
    }
   ],
   "source": [
    "x_3[0][1][2]"
   ]
  },
  {
   "cell_type": "code",
   "execution_count": 23,
   "id": "ea380cd9",
   "metadata": {},
   "outputs": [
    {
     "data": {
      "text/plain": [
       "6"
      ]
     },
     "execution_count": 23,
     "metadata": {},
     "output_type": "execute_result"
    }
   ],
   "source": [
    "x_3[0,1,2]"
   ]
  },
  {
   "cell_type": "code",
   "execution_count": 24,
   "id": "15d8f3d3",
   "metadata": {},
   "outputs": [],
   "source": [
    "x_3[0,1,2] = 88"
   ]
  },
  {
   "cell_type": "code",
   "execution_count": 25,
   "id": "f12341a6",
   "metadata": {},
   "outputs": [
    {
     "data": {
      "text/plain": [
       "array([[[ 1,  2,  3],\n",
       "        [ 4,  5, 88]],\n",
       "\n",
       "       [[ 7,  8,  9],\n",
       "        [10, 11, 12]]])"
      ]
     },
     "execution_count": 25,
     "metadata": {},
     "output_type": "execute_result"
    }
   ],
   "source": [
    "x_3"
   ]
  },
  {
   "cell_type": "markdown",
   "id": "8650e331",
   "metadata": {},
   "source": [
    "### Transposing and reshaping  arrays"
   ]
  },
  {
   "cell_type": "code",
   "execution_count": 26,
   "id": "27c1019f",
   "metadata": {},
   "outputs": [
    {
     "data": {
      "text/plain": [
       "array([[ 0,  1,  2,  3,  4],\n",
       "       [ 5,  6,  7,  8,  9],\n",
       "       [10, 11, 12, 13, 14],\n",
       "       [15, 16, 17, 18, 19],\n",
       "       [20, 21, 22, 23, 24],\n",
       "       [25, 26, 27, 28, 29],\n",
       "       [30, 31, 32, 33, 34]])"
      ]
     },
     "execution_count": 26,
     "metadata": {},
     "output_type": "execute_result"
    }
   ],
   "source": [
    "x_reshape = np.arange(35).reshape((7,5))\n",
    "x_reshape"
   ]
  },
  {
   "cell_type": "code",
   "execution_count": 27,
   "id": "8267fb3f",
   "metadata": {},
   "outputs": [
    {
     "data": {
      "text/plain": [
       "array([[0, 1, 2, 3],\n",
       "       [4, 5, 6, 7]])"
      ]
     },
     "execution_count": 27,
     "metadata": {},
     "output_type": "execute_result"
    }
   ],
   "source": [
    "x_tr = np.arange(8).reshape((2,4))\n",
    "x_tr"
   ]
  },
  {
   "cell_type": "code",
   "execution_count": 28,
   "id": "0edc109e",
   "metadata": {},
   "outputs": [
    {
     "data": {
      "text/plain": [
       "array([[0, 4],\n",
       "       [1, 5],\n",
       "       [2, 6],\n",
       "       [3, 7]])"
      ]
     },
     "execution_count": 28,
     "metadata": {},
     "output_type": "execute_result"
    }
   ],
   "source": [
    "x_tr.T"
   ]
  },
  {
   "cell_type": "markdown",
   "id": "778fc8f8",
   "metadata": {},
   "source": [
    "## Universal function "
   ]
  },
  {
   "cell_type": "code",
   "execution_count": 29,
   "id": "430185b1",
   "metadata": {},
   "outputs": [
    {
     "data": {
      "text/plain": [
       "array([0, 1, 2, 3])"
      ]
     },
     "execution_count": 29,
     "metadata": {},
     "output_type": "execute_result"
    }
   ],
   "source": [
    "arr = np.arange(4)\n",
    "arr"
   ]
  },
  {
   "cell_type": "code",
   "execution_count": 30,
   "id": "b981c152",
   "metadata": {},
   "outputs": [
    {
     "data": {
      "text/plain": [
       "array([0.        , 1.        , 1.41421356, 1.73205081])"
      ]
     },
     "execution_count": 30,
     "metadata": {},
     "output_type": "execute_result"
    }
   ],
   "source": [
    "np.sqrt(arr)"
   ]
  },
  {
   "cell_type": "code",
   "execution_count": 31,
   "id": "13e9b088",
   "metadata": {},
   "outputs": [
    {
     "data": {
      "text/plain": [
       "array([ 1.        ,  2.71828183,  7.3890561 , 20.08553692])"
      ]
     },
     "execution_count": 31,
     "metadata": {},
     "output_type": "execute_result"
    }
   ],
   "source": [
    "np.exp(arr)"
   ]
  },
  {
   "cell_type": "code",
   "execution_count": 32,
   "id": "01a0609b",
   "metadata": {},
   "outputs": [
    {
     "data": {
      "text/plain": [
       "array([[-1.64958876,  2.70294785, -0.92563401],\n",
       "       [-0.92005023, -0.24302116, -0.62568949]])"
      ]
     },
     "execution_count": 32,
     "metadata": {},
     "output_type": "execute_result"
    }
   ],
   "source": [
    "x_rand = np.random.randn(2, 3)\n",
    "x_rand"
   ]
  },
  {
   "cell_type": "code",
   "execution_count": 33,
   "id": "6984e6d4",
   "metadata": {},
   "outputs": [
    {
     "data": {
      "text/plain": [
       "array([[False,  True, False],\n",
       "       [False, False, False]])"
      ]
     },
     "execution_count": 33,
     "metadata": {},
     "output_type": "execute_result"
    }
   ],
   "source": [
    "x_rand> 0"
   ]
  },
  {
   "cell_type": "code",
   "execution_count": 34,
   "id": "b852400e",
   "metadata": {},
   "outputs": [
    {
     "data": {
      "text/plain": [
       "array([[0, 1, 0],\n",
       "       [0, 0, 0]])"
      ]
     },
     "execution_count": 34,
     "metadata": {},
     "output_type": "execute_result"
    }
   ],
   "source": [
    "np.where(x_rand > 0 , 1 , 0)"
   ]
  },
  {
   "cell_type": "code",
   "execution_count": 35,
   "id": "97cfa18b",
   "metadata": {},
   "outputs": [],
   "source": [
    "mu = 1.5\n",
    "sigma = 0.2\n",
    "x_nrm = np.random.normal(mu, sigma, 5000)"
   ]
  },
  {
   "cell_type": "code",
   "execution_count": 36,
   "id": "1610e21d",
   "metadata": {},
   "outputs": [
    {
     "data": {
      "image/png": "[encoded data removed]",
      "text/plain": [
       "<Figure size 432x288 with 1 Axes>"
      ]
     },
     "metadata": {
      "needs_background": "light"
     },
     "output_type": "display_data"
    }
   ],
   "source": [
    "import matplotlib.pyplot as plt\n",
    "plt.hist(x_nrm, 20, density=True)\n",
    "plt.show()"
   ]
  },
  {
   "cell_type": "markdown",
   "id": "f280fd77",
   "metadata": {},
   "source": [
    "## Mathematical and Statistical Methods"
   ]
  },
  {
   "cell_type": "code",
   "execution_count": 37,
   "id": "9a1d6979",
   "metadata": {},
   "outputs": [
    {
     "data": {
      "text/plain": [
       "1"
      ]
     },
     "execution_count": 37,
     "metadata": {},
     "output_type": "execute_result"
    }
   ],
   "source": [
    "arr = np.array([4,2,3,1])\n",
    "np.amin(arr)"
   ]
  },
  {
   "cell_type": "code",
   "execution_count": 38,
   "id": "d92707fc",
   "metadata": {},
   "outputs": [
    {
     "data": {
      "text/plain": [
       "4"
      ]
     },
     "execution_count": 38,
     "metadata": {},
     "output_type": "execute_result"
    }
   ],
   "source": [
    "np.amax(arr)"
   ]
  },
  {
   "cell_type": "code",
   "execution_count": 39,
   "id": "07c8729d",
   "metadata": {},
   "outputs": [
    {
     "data": {
      "text/plain": [
       "2.5"
      ]
     },
     "execution_count": 39,
     "metadata": {},
     "output_type": "execute_result"
    }
   ],
   "source": [
    "np.mean(arr)"
   ]
  },
  {
   "cell_type": "code",
   "execution_count": 40,
   "id": "9cca83fe",
   "metadata": {},
   "outputs": [
    {
     "data": {
      "text/plain": [
       "2.1"
      ]
     },
     "execution_count": 40,
     "metadata": {},
     "output_type": "execute_result"
    }
   ],
   "source": [
    "#weighted average\n",
    "np.average(arr,weights=[1,2,3,4])   # (4*1 + 2*2 + 3*3 + 1*4 )/ 10"
   ]
  },
  {
   "cell_type": "code",
   "execution_count": 41,
   "id": "f69f8b54",
   "metadata": {},
   "outputs": [
    {
     "data": {
      "text/plain": [
       "nan"
      ]
     },
     "execution_count": 41,
     "metadata": {},
     "output_type": "execute_result"
    }
   ],
   "source": [
    "x_nan = np.array([1, 4, np.nan, 8, np.nan, 7])\n",
    "np.mean(x_nan)"
   ]
  },
  {
   "cell_type": "code",
   "execution_count": 42,
   "id": "2b5a2dbc",
   "metadata": {},
   "outputs": [
    {
     "data": {
      "text/plain": [
       "5.0"
      ]
     },
     "execution_count": 42,
     "metadata": {},
     "output_type": "execute_result"
    }
   ],
   "source": [
    "np.nanmean(x_nan)   # 20/4"
   ]
  },
  {
   "cell_type": "code",
   "execution_count": 43,
   "id": "7e109d25",
   "metadata": {},
   "outputs": [
    {
     "data": {
      "text/plain": [
       "1.25"
      ]
     },
     "execution_count": 43,
     "metadata": {},
     "output_type": "execute_result"
    }
   ],
   "source": [
    "#variance\n",
    "np.var(arr)"
   ]
  },
  {
   "cell_type": "code",
   "execution_count": 44,
   "id": "ff6dca92",
   "metadata": {},
   "outputs": [
    {
     "data": {
      "text/plain": [
       "1.118033988749895"
      ]
     },
     "execution_count": 44,
     "metadata": {},
     "output_type": "execute_result"
    }
   ],
   "source": [
    "#standard deviation\n",
    "np.std(arr)"
   ]
  },
  {
   "cell_type": "code",
   "execution_count": 45,
   "id": "167657dc",
   "metadata": {},
   "outputs": [
    {
     "data": {
      "text/plain": [
       "2.5"
      ]
     },
     "execution_count": 45,
     "metadata": {},
     "output_type": "execute_result"
    }
   ],
   "source": [
    "#median\n",
    "np.median(arr)"
   ]
  },
  {
   "cell_type": "code",
   "execution_count": 46,
   "id": "47ac9859",
   "metadata": {},
   "outputs": [
    {
     "data": {
      "text/plain": [
       "2.5"
      ]
     },
     "execution_count": 46,
     "metadata": {},
     "output_type": "execute_result"
    }
   ],
   "source": [
    "#quantile\n",
    "np.quantile(arr,0.50)"
   ]
  },
  {
   "cell_type": "code",
   "execution_count": 47,
   "id": "92db096d",
   "metadata": {},
   "outputs": [
    {
     "data": {
      "text/plain": [
       "2.5"
      ]
     },
     "execution_count": 47,
     "metadata": {},
     "output_type": "execute_result"
    }
   ],
   "source": [
    "#percentile\n",
    "np.percentile(arr,50)"
   ]
  },
  {
   "cell_type": "code",
   "execution_count": 48,
   "id": "e43162e6",
   "metadata": {},
   "outputs": [
    {
     "data": {
      "text/plain": [
       "10"
      ]
     },
     "execution_count": 48,
     "metadata": {},
     "output_type": "execute_result"
    }
   ],
   "source": [
    "#sum\n",
    "np.sum(arr)"
   ]
  },
  {
   "cell_type": "code",
   "execution_count": 49,
   "id": "98024ac5",
   "metadata": {},
   "outputs": [
    {
     "data": {
      "text/plain": [
       "array([ 4,  6,  9, 10], dtype=int32)"
      ]
     },
     "execution_count": 49,
     "metadata": {},
     "output_type": "execute_result"
    }
   ],
   "source": [
    "#cumulative sum\n",
    "np.cumsum(arr)"
   ]
  },
  {
   "cell_type": "code",
   "execution_count": 50,
   "id": "74d7b47f",
   "metadata": {},
   "outputs": [
    {
     "data": {
      "text/plain": [
       "array([1, 2, 3, 4])"
      ]
     },
     "execution_count": 50,
     "metadata": {},
     "output_type": "execute_result"
    }
   ],
   "source": [
    "# unique\n",
    "np.unique(arr)"
   ]
  },
  {
   "cell_type": "markdown",
   "id": "1c4e75c7",
   "metadata": {},
   "source": [
    "## Series"
   ]
  },
  {
   "cell_type": "code",
   "execution_count": 51,
   "id": "1701daa5",
   "metadata": {},
   "outputs": [],
   "source": [
    "import pandas as pd"
   ]
  },
  {
   "cell_type": "code",
   "execution_count": 52,
   "id": "d2527c6c",
   "metadata": {},
   "outputs": [
    {
     "data": {
      "text/plain": [
       "ali     12\n",
       "taha     8\n",
       "sara    19\n",
       "omid    17\n",
       "dtype: int64"
      ]
     },
     "execution_count": 52,
     "metadata": {},
     "output_type": "execute_result"
    }
   ],
   "source": [
    "x_serie = pd.Series([12, 8, 19, 17] , index=['ali', 'taha', 'sara', 'omid'] )\n",
    "x_serie"
   ]
  },
  {
   "cell_type": "code",
   "execution_count": 53,
   "id": "1a045742",
   "metadata": {},
   "outputs": [
    {
     "data": {
      "text/plain": [
       "8"
      ]
     },
     "execution_count": 53,
     "metadata": {},
     "output_type": "execute_result"
    }
   ],
   "source": [
    "x_serie[1]"
   ]
  },
  {
   "cell_type": "code",
   "execution_count": 54,
   "id": "d13b0a91",
   "metadata": {},
   "outputs": [
    {
     "data": {
      "text/plain": [
       "8"
      ]
     },
     "execution_count": 54,
     "metadata": {},
     "output_type": "execute_result"
    }
   ],
   "source": [
    "x_serie['taha']"
   ]
  },
  {
   "cell_type": "code",
   "execution_count": 55,
   "id": "1d026f37",
   "metadata": {},
   "outputs": [
    {
     "data": {
      "text/plain": [
       "ali     12\n",
       "taha     8\n",
       "dtype: int64"
      ]
     },
     "execution_count": 55,
     "metadata": {},
     "output_type": "execute_result"
    }
   ],
   "source": [
    "x_serie.iloc[:2]"
   ]
  },
  {
   "cell_type": "code",
   "execution_count": 56,
   "id": "e2f16234",
   "metadata": {},
   "outputs": [
    {
     "data": {
      "text/plain": [
       "ali     12\n",
       "taha     8\n",
       "dtype: int64"
      ]
     },
     "execution_count": 56,
     "metadata": {},
     "output_type": "execute_result"
    }
   ],
   "source": [
    "x_serie.loc[['ali' , 'taha']]"
   ]
  },
  {
   "cell_type": "code",
   "execution_count": 57,
   "id": "441efd98",
   "metadata": {},
   "outputs": [
    {
     "data": {
      "text/plain": [
       "Index(['ali', 'taha', 'sara', 'omid'], dtype='object')"
      ]
     },
     "execution_count": 57,
     "metadata": {},
     "output_type": "execute_result"
    }
   ],
   "source": [
    "x_serie.index"
   ]
  },
  {
   "cell_type": "code",
   "execution_count": 58,
   "id": "b77eb18b",
   "metadata": {},
   "outputs": [
    {
     "data": {
      "text/plain": [
       "array([12,  8, 19, 17], dtype=int64)"
      ]
     },
     "execution_count": 58,
     "metadata": {},
     "output_type": "execute_result"
    }
   ],
   "source": [
    "x_serie.values"
   ]
  },
  {
   "cell_type": "code",
   "execution_count": 59,
   "id": "d79807ec",
   "metadata": {},
   "outputs": [
    {
     "data": {
      "text/plain": [
       "ali     12\n",
       "taha     8\n",
       "sara    19\n",
       "dtype: int64"
      ]
     },
     "execution_count": 59,
     "metadata": {},
     "output_type": "execute_result"
    }
   ],
   "source": [
    "x_serie.drop('omid')"
   ]
  },
  {
   "cell_type": "code",
   "execution_count": 60,
   "id": "1eceea5e",
   "metadata": {},
   "outputs": [
    {
     "data": {
      "text/plain": [
       "a    12.0\n",
       "b     4.0\n",
       "c     5.0\n",
       "d     NaN\n",
       "e     7.0\n",
       "f     2.0\n",
       "dtype: float64"
      ]
     },
     "execution_count": 60,
     "metadata": {},
     "output_type": "execute_result"
    }
   ],
   "source": [
    "x_s_nan = pd.Series([12, 4, 5,np.NaN, 7, 2],index=['a', 'b', 'c', 'd', 'e', 'f'])\n",
    "x_s_nan"
   ]
  },
  {
   "cell_type": "code",
   "execution_count": 61,
   "id": "c7648ca5",
   "metadata": {},
   "outputs": [
    {
     "data": {
      "text/plain": [
       "a    False\n",
       "b    False\n",
       "c    False\n",
       "d     True\n",
       "e    False\n",
       "f    False\n",
       "dtype: bool"
      ]
     },
     "execution_count": 61,
     "metadata": {},
     "output_type": "execute_result"
    }
   ],
   "source": [
    "x_s_nan.isna()"
   ]
  },
  {
   "cell_type": "code",
   "execution_count": 62,
   "id": "b56522d8",
   "metadata": {},
   "outputs": [
    {
     "data": {
      "text/plain": [
       "1"
      ]
     },
     "execution_count": 62,
     "metadata": {},
     "output_type": "execute_result"
    }
   ],
   "source": [
    "x_s_nan.isna().sum()"
   ]
  },
  {
   "cell_type": "code",
   "execution_count": 63,
   "id": "22c203ad",
   "metadata": {},
   "outputs": [
    {
     "data": {
      "text/plain": [
       "a    False\n",
       "b    False\n",
       "c     True\n",
       "d    False\n",
       "e    False\n",
       "f    False\n",
       "dtype: bool"
      ]
     },
     "execution_count": 63,
     "metadata": {},
     "output_type": "execute_result"
    }
   ],
   "source": [
    "x_s_nan.isin([5])"
   ]
  },
  {
   "cell_type": "code",
   "execution_count": 64,
   "id": "4c893a84",
   "metadata": {},
   "outputs": [
    {
     "data": {
      "text/plain": [
       "a    12.0\n",
       "e     7.0\n",
       "c     5.0\n",
       "b     4.0\n",
       "f     2.0\n",
       "d     NaN\n",
       "dtype: float64"
      ]
     },
     "execution_count": 64,
     "metadata": {},
     "output_type": "execute_result"
    }
   ],
   "source": [
    "x_s_nan.sort_values(ascending=False)"
   ]
  },
  {
   "cell_type": "code",
   "execution_count": 65,
   "id": "f820e9a3",
   "metadata": {},
   "outputs": [
    {
     "data": {
      "text/plain": [
       "count     5.000000\n",
       "mean      6.000000\n",
       "std       3.807887\n",
       "min       2.000000\n",
       "25%       4.000000\n",
       "50%       5.000000\n",
       "75%       7.000000\n",
       "max      12.000000\n",
       "dtype: float64"
      ]
     },
     "execution_count": 65,
     "metadata": {},
     "output_type": "execute_result"
    }
   ],
   "source": [
    "x_s_nan.describe()"
   ]
  },
  {
   "cell_type": "code",
   "execution_count": 66,
   "id": "387af7ca",
   "metadata": {},
   "outputs": [
    {
     "data": {
      "text/plain": [
       "0.25    4.0\n",
       "0.75    7.0\n",
       "dtype: float64"
      ]
     },
     "execution_count": 66,
     "metadata": {},
     "output_type": "execute_result"
    }
   ],
   "source": [
    "x_s_nan.quantile([0.25,0.75])"
   ]
  },
  {
   "cell_type": "code",
   "execution_count": 67,
   "id": "45f8cdf4",
   "metadata": {},
   "outputs": [
    {
     "data": {
      "text/plain": [
       "a    12.0\n",
       "b    16.0\n",
       "c    21.0\n",
       "d     NaN\n",
       "e    28.0\n",
       "f    30.0\n",
       "dtype: float64"
      ]
     },
     "execution_count": 67,
     "metadata": {},
     "output_type": "execute_result"
    }
   ],
   "source": [
    "x_s_nan.cumsum()"
   ]
  },
  {
   "cell_type": "code",
   "execution_count": 68,
   "id": "ea92c970",
   "metadata": {},
   "outputs": [
    {
     "data": {
      "text/plain": [
       "a      12.0\n",
       "b      48.0\n",
       "c     240.0\n",
       "d       NaN\n",
       "e    1680.0\n",
       "f    3360.0\n",
       "dtype: float64"
      ]
     },
     "execution_count": 68,
     "metadata": {},
     "output_type": "execute_result"
    }
   ],
   "source": [
    "x_s_nan.cumprod()"
   ]
  },
  {
   "cell_type": "code",
   "execution_count": 69,
   "id": "b7b05310",
   "metadata": {},
   "outputs": [
    {
     "data": {
      "text/plain": [
       "a    12.0\n",
       "b     NaN\n",
       "c     NaN\n",
       "d     NaN\n",
       "e     7.0\n",
       "f     NaN\n",
       "dtype: float64"
      ]
     },
     "execution_count": 69,
     "metadata": {},
     "output_type": "execute_result"
    }
   ],
   "source": [
    "x_s_nan.where(x_s_nan > 5)"
   ]
  },
  {
   "cell_type": "code",
   "execution_count": 70,
   "id": "09cb2560",
   "metadata": {},
   "outputs": [
    {
     "data": {
      "text/plain": [
       "0    a\n",
       "1    b\n",
       "2    a\n",
       "3    c\n",
       "4    d\n",
       "dtype: object"
      ]
     },
     "execution_count": 70,
     "metadata": {},
     "output_type": "execute_result"
    }
   ],
   "source": [
    "myser =  pd.Series(['a','b','a','c','d'])\n",
    "myser"
   ]
  },
  {
   "cell_type": "code",
   "execution_count": 71,
   "id": "4b8b6727",
   "metadata": {},
   "outputs": [
    {
     "data": {
      "text/plain": [
       "0    False\n",
       "1    False\n",
       "2     True\n",
       "3    False\n",
       "4    False\n",
       "dtype: bool"
      ]
     },
     "execution_count": 71,
     "metadata": {},
     "output_type": "execute_result"
    }
   ],
   "source": [
    "myser.duplicated()"
   ]
  },
  {
   "cell_type": "code",
   "execution_count": 72,
   "id": "777fb735",
   "metadata": {},
   "outputs": [
    {
     "data": {
      "text/plain": [
       "1    b\n",
       "2    a\n",
       "3    c\n",
       "4    d\n",
       "dtype: object"
      ]
     },
     "execution_count": 72,
     "metadata": {},
     "output_type": "execute_result"
    }
   ],
   "source": [
    "myser.drop_duplicates(keep='last')"
   ]
  },
  {
   "cell_type": "code",
   "execution_count": 73,
   "id": "c28803ee",
   "metadata": {},
   "outputs": [],
   "source": [
    "s1 = pd.Series([8, 2, 12, 6, 5, 4])\n",
    "s2 = pd.Series([20, 2, 7, 6, 2, 17])"
   ]
  },
  {
   "cell_type": "code",
   "execution_count": 74,
   "id": "23881b96",
   "metadata": {},
   "outputs": [
    {
     "data": {
      "text/plain": [
       "0    False\n",
       "1     True\n",
       "2    False\n",
       "3     True\n",
       "4    False\n",
       "5    False\n",
       "dtype: bool"
      ]
     },
     "execution_count": 74,
     "metadata": {},
     "output_type": "execute_result"
    }
   ],
   "source": [
    "s1.eq(s2)"
   ]
  },
  {
   "cell_type": "code",
   "execution_count": 75,
   "id": "9d15d236",
   "metadata": {},
   "outputs": [
    {
     "data": {
      "text/plain": [
       "0     True\n",
       "1    False\n",
       "2     True\n",
       "3     True\n",
       "4    False\n",
       "5    False\n",
       "dtype: bool"
      ]
     },
     "execution_count": 75,
     "metadata": {},
     "output_type": "execute_result"
    }
   ],
   "source": [
    "s1.between(6, 20)"
   ]
  },
  {
   "cell_type": "code",
   "execution_count": 76,
   "id": "936d15b8",
   "metadata": {},
   "outputs": [
    {
     "data": {
      "text/plain": [
       "0    10\n",
       "1     2\n",
       "2    12\n",
       "3     6\n",
       "4     5\n",
       "5     4\n",
       "dtype: int64"
      ]
     },
     "execution_count": 76,
     "metadata": {},
     "output_type": "execute_result"
    }
   ],
   "source": [
    "s1.replace(8, 10)"
   ]
  },
  {
   "cell_type": "markdown",
   "id": "65163d9b",
   "metadata": {},
   "source": [
    "## aggregate"
   ]
  },
  {
   "cell_type": "code",
   "execution_count": 77,
   "id": "d4e58012",
   "metadata": {},
   "outputs": [
    {
     "data": {
      "text/plain": [
       "min     2\n",
       "max    12\n",
       "dtype: int64"
      ]
     },
     "execution_count": 77,
     "metadata": {},
     "output_type": "execute_result"
    }
   ],
   "source": [
    "s1.agg(['min','max'])"
   ]
  },
  {
   "cell_type": "markdown",
   "id": "7fbe7416",
   "metadata": {},
   "source": [
    "## to_numpy and  to_dict"
   ]
  },
  {
   "cell_type": "code",
   "execution_count": 78,
   "id": "165959da",
   "metadata": {},
   "outputs": [
    {
     "data": {
      "text/plain": [
       "array([ 8,  2, 12,  6,  5,  4], dtype=int64)"
      ]
     },
     "execution_count": 78,
     "metadata": {},
     "output_type": "execute_result"
    }
   ],
   "source": [
    "s1_numpy = s1.to_numpy()\n",
    "s1_numpy"
   ]
  },
  {
   "cell_type": "code",
   "execution_count": 79,
   "id": "a175fc20",
   "metadata": {},
   "outputs": [
    {
     "data": {
      "text/plain": [
       "{0: 20, 1: 2, 2: 7, 3: 6, 4: 2, 5: 17}"
      ]
     },
     "execution_count": 79,
     "metadata": {},
     "output_type": "execute_result"
    }
   ],
   "source": [
    "s2_dict = s2.to_dict()\n",
    "s2_dict"
   ]
  },
  {
   "cell_type": "markdown",
   "id": "802041de",
   "metadata": {},
   "source": [
    "# Exercises"
   ]
  },
  {
   "cell_type": "code",
   "execution_count": null,
   "id": "e022b208",
   "metadata": {},
   "outputs": [],
   "source": [
    "#1- Create random vector of size 10 and replace the maximum value by 0 .\n",
    "\n",
    "#2- Given a 1D array, negate all elements which are between 3 and 8, in place."
   ]
  }
 ],
 "metadata": {
  "kernelspec": {
   "display_name": "Python 3 (ipykernel)",
   "language": "python",
   "name": "python3"
  },
  "language_info": {
   "codemirror_mode": {
    "name": "ipython",
    "version": 3
   },
   "file_extension": ".py",
   "mimetype": "text/x-python",
   "name": "python",
   "nbconvert_exporter": "python",
   "pygments_lexer": "ipython3",
   "version": "3.9.7"
  }
 },
 "nbformat": 4,
 "nbformat_minor": 5
}
